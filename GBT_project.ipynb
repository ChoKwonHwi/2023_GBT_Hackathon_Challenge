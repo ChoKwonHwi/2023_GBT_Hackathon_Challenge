{
 "cells": [
  {
   "cell_type": "code",
   "execution_count": 70,
   "id": "d1a36039",
   "metadata": {},
   "outputs": [],
   "source": [
    "import torch\n",
    "import torch.nn as nn\n",
    "import torch.nn.functional as F\n",
    "import torch.optim as optim\n",
    "import matplotlib.pyplot as plt\n",
    "from torch.utils.data import DataLoader, Dataset\n",
    "\n",
    "from sklearn.metrics import f1_score\n",
    "from sklearn.preprocessing import StandardScaler\n",
    "from sklearn.preprocessing import RobustScaler\n",
    "from sklearn.preprocessing import LabelEncoder\n",
    "from sklearn.model_selection import train_test_split\n",
    "from sklearn.preprocessing import Normalizer\n",
    "\n",
    "import os\n",
    "import pandas as pd\n",
    "import numpy as np\n",
    "from tqdm.auto import tqdm\n",
    "import random\n",
    "import seaborn as sns\n",
    "import warnings\n",
    "warnings.filterwarnings(action='ignore') \n",
    "pd.set_option('display.max_columns', None)\n",
    "device = torch.device('cuda') if torch.cuda.is_available() else torch.device('cpu')"
   ]
  },
  {
   "cell_type": "code",
   "execution_count": 71,
   "id": "39a2ebf3",
   "metadata": {},
   "outputs": [],
   "source": [
    "CFG = {\n",
    "    'EPOCHS': 50,\n",
    "    'LEARNING_RATE':1e-2,\n",
    "    'BATCH_SIZE':256,\n",
    "    'SEED':41\n",
    "}"
   ]
  },
  {
   "cell_type": "code",
   "execution_count": 72,
   "id": "f462182e",
   "metadata": {},
   "outputs": [],
   "source": [
    "def seed_everything(seed):\n",
    "    random.seed(seed)\n",
    "    os.environ['PYTHONHASHSEED'] = str(seed)\n",
    "    np.random.seed(seed)\n",
    "    torch.manual_seed(seed)\n",
    "    torch.cuda.manual_seed(seed)\n",
    "    torch.backends.cudnn.deterministic = True\n",
    "    torch.backends.cudnn.benchmark = True\n",
    "\n",
    "seed_everything(CFG['SEED'])"
   ]
  },
  {
   "cell_type": "code",
   "execution_count": 73,
   "id": "b4386c93",
   "metadata": {},
   "outputs": [],
   "source": [
    "train = pd.read_csv('./train.csv')\n",
    "test = pd.read_csv('./test.csv')"
   ]
  },
  {
   "cell_type": "code",
   "execution_count": 74,
   "id": "9a45c150",
   "metadata": {},
   "outputs": [],
   "source": [
    "categorical_features = ['COMPONENT_ARBITRARY']#, 'YEAR']\n",
    "# Inference(실제 진단 환경)에 사용하는 컬럼\n",
    "test_stage_features = ['ANONYMOUS_1', 'ANONYMOUS_2', 'AG', 'CO', 'CR', 'CU', 'FE', 'H2O', 'MN', 'MO', 'NI', 'PQINDEX', 'TI', 'V', 'V40', 'ZN']"
   ]
  },
  {
   "cell_type": "code",
   "execution_count": 75,
   "id": "c4acd2a8",
   "metadata": {},
   "outputs": [],
   "source": [
    "train = train.drop(['YEAR'], axis = 1)\n",
    "test = test.drop(['YEAR'], axis = 1)"
   ]
  },
  {
   "cell_type": "code",
   "execution_count": 39,
   "id": "79b5d721",
   "metadata": {},
   "outputs": [
    {
     "name": "stdout",
     "output_type": "stream",
     "text": [
      "결측이 있는 변수\n",
      "mis_val_bool\n",
      "False    34\n",
      "True     19\n",
      "Name: count, dtype: int64\n"
     ]
    }
   ],
   "source": [
    "mis_val = train.isnull().sum()\n",
    "mis_val_bool = mis_val >= 1\n",
    "mis_val_df = pd.concat([mis_val, mis_val_bool], axis = 1)\n",
    "mis_val_df = mis_val_df.rename(columns = {0 : 'mis_val', 1 : 'mis_val_bool'})\n",
    "\n",
    "print(\"결측이 있는 변수\")\n",
    "print(mis_val_df['mis_val_bool'].value_counts())"
   ]
  },
  {
   "cell_type": "code",
   "execution_count": 40,
   "id": "2f9416e4",
   "metadata": {},
   "outputs": [
    {
     "data": {
      "text/html": [
       "<div>\n",
       "<style scoped>\n",
       "    .dataframe tbody tr th:only-of-type {\n",
       "        vertical-align: middle;\n",
       "    }\n",
       "\n",
       "    .dataframe tbody tr th {\n",
       "        vertical-align: top;\n",
       "    }\n",
       "\n",
       "    .dataframe thead th {\n",
       "        text-align: right;\n",
       "    }\n",
       "</style>\n",
       "<table border=\"1\" class=\"dataframe\">\n",
       "  <thead>\n",
       "    <tr style=\"text-align: right;\">\n",
       "      <th></th>\n",
       "      <th>mis_val</th>\n",
       "      <th>mis_val_bool</th>\n",
       "      <th>ratio</th>\n",
       "    </tr>\n",
       "  </thead>\n",
       "  <tbody>\n",
       "    <tr>\n",
       "      <th>CD</th>\n",
       "      <td>1394</td>\n",
       "      <td>True</td>\n",
       "      <td>0.098900</td>\n",
       "    </tr>\n",
       "    <tr>\n",
       "      <th>FH2O</th>\n",
       "      <td>10205</td>\n",
       "      <td>True</td>\n",
       "      <td>0.724016</td>\n",
       "    </tr>\n",
       "    <tr>\n",
       "      <th>FNOX</th>\n",
       "      <td>10205</td>\n",
       "      <td>True</td>\n",
       "      <td>0.724016</td>\n",
       "    </tr>\n",
       "    <tr>\n",
       "      <th>FOPTIMETHGLY</th>\n",
       "      <td>10205</td>\n",
       "      <td>True</td>\n",
       "      <td>0.724016</td>\n",
       "    </tr>\n",
       "    <tr>\n",
       "      <th>FOXID</th>\n",
       "      <td>10205</td>\n",
       "      <td>True</td>\n",
       "      <td>0.724016</td>\n",
       "    </tr>\n",
       "    <tr>\n",
       "      <th>FSO4</th>\n",
       "      <td>10205</td>\n",
       "      <td>True</td>\n",
       "      <td>0.724016</td>\n",
       "    </tr>\n",
       "    <tr>\n",
       "      <th>FTBN</th>\n",
       "      <td>10205</td>\n",
       "      <td>True</td>\n",
       "      <td>0.724016</td>\n",
       "    </tr>\n",
       "    <tr>\n",
       "      <th>FUEL</th>\n",
       "      <td>10205</td>\n",
       "      <td>True</td>\n",
       "      <td>0.724016</td>\n",
       "    </tr>\n",
       "    <tr>\n",
       "      <th>K</th>\n",
       "      <td>2299</td>\n",
       "      <td>True</td>\n",
       "      <td>0.163107</td>\n",
       "    </tr>\n",
       "    <tr>\n",
       "      <th>SOOTPERCENTAGE</th>\n",
       "      <td>10205</td>\n",
       "      <td>True</td>\n",
       "      <td>0.724016</td>\n",
       "    </tr>\n",
       "    <tr>\n",
       "      <th>U100</th>\n",
       "      <td>11779</td>\n",
       "      <td>True</td>\n",
       "      <td>0.835686</td>\n",
       "    </tr>\n",
       "    <tr>\n",
       "      <th>U75</th>\n",
       "      <td>11779</td>\n",
       "      <td>True</td>\n",
       "      <td>0.835686</td>\n",
       "    </tr>\n",
       "    <tr>\n",
       "      <th>U50</th>\n",
       "      <td>11779</td>\n",
       "      <td>True</td>\n",
       "      <td>0.835686</td>\n",
       "    </tr>\n",
       "    <tr>\n",
       "      <th>U25</th>\n",
       "      <td>11779</td>\n",
       "      <td>True</td>\n",
       "      <td>0.835686</td>\n",
       "    </tr>\n",
       "    <tr>\n",
       "      <th>U20</th>\n",
       "      <td>11779</td>\n",
       "      <td>True</td>\n",
       "      <td>0.835686</td>\n",
       "    </tr>\n",
       "    <tr>\n",
       "      <th>U14</th>\n",
       "      <td>11977</td>\n",
       "      <td>True</td>\n",
       "      <td>0.849734</td>\n",
       "    </tr>\n",
       "    <tr>\n",
       "      <th>U6</th>\n",
       "      <td>11977</td>\n",
       "      <td>True</td>\n",
       "      <td>0.849734</td>\n",
       "    </tr>\n",
       "    <tr>\n",
       "      <th>U4</th>\n",
       "      <td>11977</td>\n",
       "      <td>True</td>\n",
       "      <td>0.849734</td>\n",
       "    </tr>\n",
       "    <tr>\n",
       "      <th>V100</th>\n",
       "      <td>10371</td>\n",
       "      <td>True</td>\n",
       "      <td>0.735793</td>\n",
       "    </tr>\n",
       "  </tbody>\n",
       "</table>\n",
       "</div>"
      ],
      "text/plain": [
       "                mis_val  mis_val_bool     ratio\n",
       "CD                 1394          True  0.098900\n",
       "FH2O              10205          True  0.724016\n",
       "FNOX              10205          True  0.724016\n",
       "FOPTIMETHGLY      10205          True  0.724016\n",
       "FOXID             10205          True  0.724016\n",
       "FSO4              10205          True  0.724016\n",
       "FTBN              10205          True  0.724016\n",
       "FUEL              10205          True  0.724016\n",
       "K                  2299          True  0.163107\n",
       "SOOTPERCENTAGE    10205          True  0.724016\n",
       "U100              11779          True  0.835686\n",
       "U75               11779          True  0.835686\n",
       "U50               11779          True  0.835686\n",
       "U25               11779          True  0.835686\n",
       "U20               11779          True  0.835686\n",
       "U14               11977          True  0.849734\n",
       "U6                11977          True  0.849734\n",
       "U4                11977          True  0.849734\n",
       "V100              10371          True  0.735793"
      ]
     },
     "execution_count": 40,
     "metadata": {},
     "output_type": "execute_result"
    }
   ],
   "source": [
    "mis_val_data = mis_val_df.loc[mis_val_df['mis_val_bool'] == True, :]\n",
    "mis_val_data['ratio'] = mis_val_data['mis_val'] / 14095\n",
    "mis_val_data"
   ]
  },
  {
   "cell_type": "code",
   "execution_count": 41,
   "id": "b1e5442d",
   "metadata": {},
   "outputs": [
    {
     "name": "stdout",
     "output_type": "stream",
     "text": [
      "(14095, 35)\n",
      "Index(['COMPONENT_ARBITRARY', 'ANONYMOUS_1', 'SAMPLE_TRANSFER_DAY',\n",
      "       'ANONYMOUS_2', 'AG', 'AL', 'B', 'BA', 'BE', 'CA', 'CO', 'CR', 'CU',\n",
      "       'FE', 'H2O', 'LI', 'MG', 'MN', 'MO', 'NA', 'NI', 'P', 'PB', 'PQINDEX',\n",
      "       'S', 'SB', 'SI', 'SN', 'TI', 'V', 'V40', 'ZN', 'K', 'CD', 'Y_LABEL'],\n",
      "      dtype='object')\n"
     ]
    }
   ],
   "source": [
    "notnull_columns = train.loc[:, train.notnull().sum(axis = 0) == 14095].columns\n",
    "notnull_columns = notnull_columns[1 :]\n",
    "notnull_columns = list(notnull_columns)\n",
    "\n",
    "select_columns = notnull_columns[: 32] + ['K', 'CD'] + notnull_columns[32 :]\n",
    "train = train.loc[:, select_columns]\n",
    "print(train.shape)\n",
    "print(train.columns)"
   ]
  },
  {
   "cell_type": "code",
   "execution_count": 76,
   "id": "7d84af77",
   "metadata": {},
   "outputs": [],
   "source": [
    "train = train.fillna(0)\n",
    "test = test.fillna(0)"
   ]
  },
  {
   "cell_type": "code",
   "execution_count": 48,
   "id": "2690e318",
   "metadata": {},
   "outputs": [
    {
     "data": {
      "text/html": [
       "<div>\n",
       "<style scoped>\n",
       "    .dataframe tbody tr th:only-of-type {\n",
       "        vertical-align: middle;\n",
       "    }\n",
       "\n",
       "    .dataframe tbody tr th {\n",
       "        vertical-align: top;\n",
       "    }\n",
       "\n",
       "    .dataframe thead th {\n",
       "        text-align: right;\n",
       "    }\n",
       "</style>\n",
       "<table border=\"1\" class=\"dataframe\">\n",
       "  <thead>\n",
       "    <tr style=\"text-align: right;\">\n",
       "      <th></th>\n",
       "      <th>ANONYMOUS_1</th>\n",
       "      <th>SAMPLE_TRANSFER_DAY</th>\n",
       "      <th>ANONYMOUS_2</th>\n",
       "      <th>AG</th>\n",
       "      <th>AL</th>\n",
       "      <th>B</th>\n",
       "      <th>BA</th>\n",
       "      <th>BE</th>\n",
       "      <th>CA</th>\n",
       "      <th>CO</th>\n",
       "      <th>CR</th>\n",
       "      <th>CU</th>\n",
       "      <th>FE</th>\n",
       "      <th>H2O</th>\n",
       "      <th>LI</th>\n",
       "      <th>MG</th>\n",
       "      <th>MN</th>\n",
       "      <th>MO</th>\n",
       "      <th>NA</th>\n",
       "      <th>NI</th>\n",
       "      <th>P</th>\n",
       "      <th>PB</th>\n",
       "      <th>PQINDEX</th>\n",
       "      <th>S</th>\n",
       "      <th>SB</th>\n",
       "      <th>SI</th>\n",
       "      <th>SN</th>\n",
       "      <th>TI</th>\n",
       "      <th>V</th>\n",
       "      <th>V40</th>\n",
       "      <th>ZN</th>\n",
       "      <th>K</th>\n",
       "      <th>CD</th>\n",
       "      <th>COMPONENT1</th>\n",
       "      <th>COMPONENT2</th>\n",
       "      <th>COMPONENT3</th>\n",
       "      <th>COMPONENT4</th>\n",
       "    </tr>\n",
       "  </thead>\n",
       "  <tbody>\n",
       "    <tr>\n",
       "      <th>6224</th>\n",
       "      <td>-0.069099</td>\n",
       "      <td>0.116588</td>\n",
       "      <td>-0.337936</td>\n",
       "      <td>-0.151896</td>\n",
       "      <td>-0.101686</td>\n",
       "      <td>0.678118</td>\n",
       "      <td>-0.228777</td>\n",
       "      <td>-0.042583</td>\n",
       "      <td>1.220967</td>\n",
       "      <td>-0.087612</td>\n",
       "      <td>-0.113358</td>\n",
       "      <td>-0.261477</td>\n",
       "      <td>-0.314001</td>\n",
       "      <td>-0.044504</td>\n",
       "      <td>-0.10941</td>\n",
       "      <td>-0.270107</td>\n",
       "      <td>-0.235440</td>\n",
       "      <td>-0.398820</td>\n",
       "      <td>-0.208246</td>\n",
       "      <td>-0.189712</td>\n",
       "      <td>-1.043886</td>\n",
       "      <td>-0.154584</td>\n",
       "      <td>-0.263715</td>\n",
       "      <td>-1.105093</td>\n",
       "      <td>-0.184755</td>\n",
       "      <td>-0.175244</td>\n",
       "      <td>0.783891</td>\n",
       "      <td>-0.097491</td>\n",
       "      <td>-0.113111</td>\n",
       "      <td>-0.755923</td>\n",
       "      <td>-0.284106</td>\n",
       "      <td>-0.198039</td>\n",
       "      <td>-0.06603</td>\n",
       "      <td>0</td>\n",
       "      <td>1</td>\n",
       "      <td>0</td>\n",
       "      <td>0</td>\n",
       "    </tr>\n",
       "    <tr>\n",
       "      <th>1786</th>\n",
       "      <td>-0.413153</td>\n",
       "      <td>-0.225434</td>\n",
       "      <td>0.293370</td>\n",
       "      <td>-0.151896</td>\n",
       "      <td>-0.125019</td>\n",
       "      <td>-0.549336</td>\n",
       "      <td>0.102931</td>\n",
       "      <td>-0.042583</td>\n",
       "      <td>-0.780446</td>\n",
       "      <td>-0.087612</td>\n",
       "      <td>-0.043191</td>\n",
       "      <td>-0.214906</td>\n",
       "      <td>-0.283485</td>\n",
       "      <td>-0.044504</td>\n",
       "      <td>0.32653</td>\n",
       "      <td>-0.182968</td>\n",
       "      <td>-0.235440</td>\n",
       "      <td>1.918859</td>\n",
       "      <td>-0.208246</td>\n",
       "      <td>-0.189712</td>\n",
       "      <td>0.066496</td>\n",
       "      <td>-0.154584</td>\n",
       "      <td>-0.259153</td>\n",
       "      <td>-0.625465</td>\n",
       "      <td>0.617902</td>\n",
       "      <td>-0.131071</td>\n",
       "      <td>0.039447</td>\n",
       "      <td>-0.097491</td>\n",
       "      <td>-0.113111</td>\n",
       "      <td>0.083483</td>\n",
       "      <td>1.384500</td>\n",
       "      <td>0.750812</td>\n",
       "      <td>-0.06603</td>\n",
       "      <td>1</td>\n",
       "      <td>0</td>\n",
       "      <td>0</td>\n",
       "      <td>0</td>\n",
       "    </tr>\n",
       "    <tr>\n",
       "      <th>2999</th>\n",
       "      <td>-0.413435</td>\n",
       "      <td>-0.396445</td>\n",
       "      <td>-0.013264</td>\n",
       "      <td>-0.151896</td>\n",
       "      <td>-0.113352</td>\n",
       "      <td>0.127214</td>\n",
       "      <td>-0.228777</td>\n",
       "      <td>-0.042583</td>\n",
       "      <td>1.283110</td>\n",
       "      <td>-0.087612</td>\n",
       "      <td>-0.113358</td>\n",
       "      <td>-0.253715</td>\n",
       "      <td>-0.314001</td>\n",
       "      <td>-0.044504</td>\n",
       "      <td>-0.10941</td>\n",
       "      <td>-0.148112</td>\n",
       "      <td>-0.235440</td>\n",
       "      <td>0.168094</td>\n",
       "      <td>-0.208246</td>\n",
       "      <td>-0.189712</td>\n",
       "      <td>-0.006345</td>\n",
       "      <td>-0.061985</td>\n",
       "      <td>-0.266974</td>\n",
       "      <td>-1.003650</td>\n",
       "      <td>-0.184755</td>\n",
       "      <td>-0.150703</td>\n",
       "      <td>-0.332775</td>\n",
       "      <td>-0.097491</td>\n",
       "      <td>-0.113111</td>\n",
       "      <td>-0.114024</td>\n",
       "      <td>0.801991</td>\n",
       "      <td>-0.008269</td>\n",
       "      <td>-0.06603</td>\n",
       "      <td>1</td>\n",
       "      <td>0</td>\n",
       "      <td>0</td>\n",
       "      <td>0</td>\n",
       "    </tr>\n",
       "    <tr>\n",
       "      <th>12302</th>\n",
       "      <td>-0.003954</td>\n",
       "      <td>-0.567456</td>\n",
       "      <td>-0.337936</td>\n",
       "      <td>-0.151896</td>\n",
       "      <td>-0.125019</td>\n",
       "      <td>-0.597661</td>\n",
       "      <td>-0.228777</td>\n",
       "      <td>-0.042583</td>\n",
       "      <td>-0.906083</td>\n",
       "      <td>-0.087612</td>\n",
       "      <td>-0.008108</td>\n",
       "      <td>-0.253715</td>\n",
       "      <td>1.540321</td>\n",
       "      <td>-0.044504</td>\n",
       "      <td>0.32653</td>\n",
       "      <td>-0.182968</td>\n",
       "      <td>0.788237</td>\n",
       "      <td>-0.365472</td>\n",
       "      <td>-0.155563</td>\n",
       "      <td>-0.189712</td>\n",
       "      <td>0.913940</td>\n",
       "      <td>-0.154584</td>\n",
       "      <td>-0.058417</td>\n",
       "      <td>1.070625</td>\n",
       "      <td>1.019230</td>\n",
       "      <td>-0.072173</td>\n",
       "      <td>-0.332775</td>\n",
       "      <td>5.119013</td>\n",
       "      <td>-0.113111</td>\n",
       "      <td>0.891288</td>\n",
       "      <td>-0.998150</td>\n",
       "      <td>-0.198039</td>\n",
       "      <td>-0.06603</td>\n",
       "      <td>0</td>\n",
       "      <td>0</td>\n",
       "      <td>1</td>\n",
       "      <td>0</td>\n",
       "    </tr>\n",
       "    <tr>\n",
       "      <th>8063</th>\n",
       "      <td>-0.519754</td>\n",
       "      <td>-0.225434</td>\n",
       "      <td>-0.337936</td>\n",
       "      <td>-0.151896</td>\n",
       "      <td>-0.055021</td>\n",
       "      <td>-0.587996</td>\n",
       "      <td>0.434638</td>\n",
       "      <td>-0.042583</td>\n",
       "      <td>-0.905408</td>\n",
       "      <td>-0.087612</td>\n",
       "      <td>-0.078274</td>\n",
       "      <td>-0.230430</td>\n",
       "      <td>-0.290665</td>\n",
       "      <td>-0.044504</td>\n",
       "      <td>-0.10941</td>\n",
       "      <td>3.337463</td>\n",
       "      <td>-0.235440</td>\n",
       "      <td>2.185642</td>\n",
       "      <td>-0.050197</td>\n",
       "      <td>-0.189712</td>\n",
       "      <td>-0.036547</td>\n",
       "      <td>0.030615</td>\n",
       "      <td>-0.265019</td>\n",
       "      <td>-0.834578</td>\n",
       "      <td>-0.184755</td>\n",
       "      <td>-0.135979</td>\n",
       "      <td>0.783891</td>\n",
       "      <td>-0.097491</td>\n",
       "      <td>-0.113111</td>\n",
       "      <td>0.231613</td>\n",
       "      <td>0.873395</td>\n",
       "      <td>0.118245</td>\n",
       "      <td>-0.06603</td>\n",
       "      <td>1</td>\n",
       "      <td>0</td>\n",
       "      <td>0</td>\n",
       "      <td>0</td>\n",
       "    </tr>\n",
       "    <tr>\n",
       "      <th>...</th>\n",
       "      <td>...</td>\n",
       "      <td>...</td>\n",
       "      <td>...</td>\n",
       "      <td>...</td>\n",
       "      <td>...</td>\n",
       "      <td>...</td>\n",
       "      <td>...</td>\n",
       "      <td>...</td>\n",
       "      <td>...</td>\n",
       "      <td>...</td>\n",
       "      <td>...</td>\n",
       "      <td>...</td>\n",
       "      <td>...</td>\n",
       "      <td>...</td>\n",
       "      <td>...</td>\n",
       "      <td>...</td>\n",
       "      <td>...</td>\n",
       "      <td>...</td>\n",
       "      <td>...</td>\n",
       "      <td>...</td>\n",
       "      <td>...</td>\n",
       "      <td>...</td>\n",
       "      <td>...</td>\n",
       "      <td>...</td>\n",
       "      <td>...</td>\n",
       "      <td>...</td>\n",
       "      <td>...</td>\n",
       "      <td>...</td>\n",
       "      <td>...</td>\n",
       "      <td>...</td>\n",
       "      <td>...</td>\n",
       "      <td>...</td>\n",
       "      <td>...</td>\n",
       "      <td>...</td>\n",
       "      <td>...</td>\n",
       "      <td>...</td>\n",
       "      <td>...</td>\n",
       "    </tr>\n",
       "    <tr>\n",
       "      <th>10754</th>\n",
       "      <td>0.061190</td>\n",
       "      <td>-0.225434</td>\n",
       "      <td>-0.337936</td>\n",
       "      <td>-0.151896</td>\n",
       "      <td>-0.113352</td>\n",
       "      <td>3.683932</td>\n",
       "      <td>-0.228777</td>\n",
       "      <td>-0.042583</td>\n",
       "      <td>1.568833</td>\n",
       "      <td>-0.087612</td>\n",
       "      <td>-0.113358</td>\n",
       "      <td>-0.261477</td>\n",
       "      <td>-0.306821</td>\n",
       "      <td>-0.044504</td>\n",
       "      <td>-0.10941</td>\n",
       "      <td>-0.174254</td>\n",
       "      <td>-0.235440</td>\n",
       "      <td>3.819689</td>\n",
       "      <td>-0.050197</td>\n",
       "      <td>-0.189712</td>\n",
       "      <td>0.499989</td>\n",
       "      <td>-0.154584</td>\n",
       "      <td>-0.268929</td>\n",
       "      <td>-0.728626</td>\n",
       "      <td>-0.184755</td>\n",
       "      <td>-0.145795</td>\n",
       "      <td>-0.332775</td>\n",
       "      <td>-0.097491</td>\n",
       "      <td>-0.113111</td>\n",
       "      <td>0.049907</td>\n",
       "      <td>1.497244</td>\n",
       "      <td>-0.008269</td>\n",
       "      <td>-0.06603</td>\n",
       "      <td>1</td>\n",
       "      <td>0</td>\n",
       "      <td>0</td>\n",
       "      <td>0</td>\n",
       "    </tr>\n",
       "    <tr>\n",
       "      <th>11793</th>\n",
       "      <td>-0.406103</td>\n",
       "      <td>-0.310939</td>\n",
       "      <td>-0.337936</td>\n",
       "      <td>-0.151896</td>\n",
       "      <td>-0.113352</td>\n",
       "      <td>1.866913</td>\n",
       "      <td>-0.228777</td>\n",
       "      <td>-0.042583</td>\n",
       "      <td>1.208133</td>\n",
       "      <td>-0.087612</td>\n",
       "      <td>-0.043191</td>\n",
       "      <td>-0.245953</td>\n",
       "      <td>-0.290665</td>\n",
       "      <td>-0.044504</td>\n",
       "      <td>-0.10941</td>\n",
       "      <td>-0.182968</td>\n",
       "      <td>-0.235440</td>\n",
       "      <td>3.552906</td>\n",
       "      <td>-0.102880</td>\n",
       "      <td>-0.189712</td>\n",
       "      <td>0.384510</td>\n",
       "      <td>0.123214</td>\n",
       "      <td>-0.256546</td>\n",
       "      <td>-0.780367</td>\n",
       "      <td>-0.184755</td>\n",
       "      <td>-0.145795</td>\n",
       "      <td>0.039447</td>\n",
       "      <td>-0.097491</td>\n",
       "      <td>-0.113111</td>\n",
       "      <td>0.032131</td>\n",
       "      <td>1.499123</td>\n",
       "      <td>-0.008269</td>\n",
       "      <td>-0.06603</td>\n",
       "      <td>1</td>\n",
       "      <td>0</td>\n",
       "      <td>0</td>\n",
       "      <td>0</td>\n",
       "    </tr>\n",
       "    <tr>\n",
       "      <th>10052</th>\n",
       "      <td>0.304003</td>\n",
       "      <td>-0.396445</td>\n",
       "      <td>-0.337936</td>\n",
       "      <td>-0.151896</td>\n",
       "      <td>-0.148351</td>\n",
       "      <td>-0.549336</td>\n",
       "      <td>-0.228777</td>\n",
       "      <td>-0.042583</td>\n",
       "      <td>-0.911487</td>\n",
       "      <td>-0.087612</td>\n",
       "      <td>0.026975</td>\n",
       "      <td>0.848467</td>\n",
       "      <td>0.034245</td>\n",
       "      <td>-0.044504</td>\n",
       "      <td>-0.10941</td>\n",
       "      <td>-0.261393</td>\n",
       "      <td>0.020479</td>\n",
       "      <td>-0.398820</td>\n",
       "      <td>-0.050197</td>\n",
       "      <td>1.391556</td>\n",
       "      <td>0.029187</td>\n",
       "      <td>-0.154584</td>\n",
       "      <td>-0.193979</td>\n",
       "      <td>1.860381</td>\n",
       "      <td>-0.184755</td>\n",
       "      <td>-0.150703</td>\n",
       "      <td>-0.332775</td>\n",
       "      <td>-0.097491</td>\n",
       "      <td>-0.113111</td>\n",
       "      <td>0.707606</td>\n",
       "      <td>-0.868494</td>\n",
       "      <td>-0.134782</td>\n",
       "      <td>-0.06603</td>\n",
       "      <td>0</td>\n",
       "      <td>0</td>\n",
       "      <td>1</td>\n",
       "      <td>0</td>\n",
       "    </tr>\n",
       "    <tr>\n",
       "      <th>11805</th>\n",
       "      <td>-0.553595</td>\n",
       "      <td>-0.396445</td>\n",
       "      <td>-0.007853</td>\n",
       "      <td>-0.151896</td>\n",
       "      <td>-0.125019</td>\n",
       "      <td>-0.559001</td>\n",
       "      <td>0.766346</td>\n",
       "      <td>-0.042583</td>\n",
       "      <td>-0.178604</td>\n",
       "      <td>-0.087612</td>\n",
       "      <td>-0.078274</td>\n",
       "      <td>0.064521</td>\n",
       "      <td>-0.267329</td>\n",
       "      <td>-0.044504</td>\n",
       "      <td>-0.10941</td>\n",
       "      <td>7.938423</td>\n",
       "      <td>-0.235440</td>\n",
       "      <td>0.418203</td>\n",
       "      <td>-0.155563</td>\n",
       "      <td>-0.189712</td>\n",
       "      <td>0.285019</td>\n",
       "      <td>-0.154584</td>\n",
       "      <td>-0.265671</td>\n",
       "      <td>-0.920885</td>\n",
       "      <td>-0.184755</td>\n",
       "      <td>-0.121254</td>\n",
       "      <td>0.783891</td>\n",
       "      <td>-0.097491</td>\n",
       "      <td>-0.113111</td>\n",
       "      <td>-0.416210</td>\n",
       "      <td>1.207868</td>\n",
       "      <td>0.181501</td>\n",
       "      <td>-0.06603</td>\n",
       "      <td>1</td>\n",
       "      <td>0</td>\n",
       "      <td>0</td>\n",
       "      <td>0</td>\n",
       "    </tr>\n",
       "    <tr>\n",
       "      <th>12169</th>\n",
       "      <td>0.428088</td>\n",
       "      <td>3.109281</td>\n",
       "      <td>0.293370</td>\n",
       "      <td>-0.151896</td>\n",
       "      <td>-0.101686</td>\n",
       "      <td>0.504148</td>\n",
       "      <td>0.102931</td>\n",
       "      <td>-0.042583</td>\n",
       "      <td>-0.862178</td>\n",
       "      <td>-0.087612</td>\n",
       "      <td>-0.113358</td>\n",
       "      <td>-0.245953</td>\n",
       "      <td>-0.294255</td>\n",
       "      <td>-0.044504</td>\n",
       "      <td>-0.10941</td>\n",
       "      <td>-0.139398</td>\n",
       "      <td>-0.235440</td>\n",
       "      <td>-0.398820</td>\n",
       "      <td>0.002486</td>\n",
       "      <td>-0.189712</td>\n",
       "      <td>0.270807</td>\n",
       "      <td>0.030615</td>\n",
       "      <td>-0.265671</td>\n",
       "      <td>-0.107299</td>\n",
       "      <td>-0.184755</td>\n",
       "      <td>-0.150703</td>\n",
       "      <td>0.039447</td>\n",
       "      <td>-0.097491</td>\n",
       "      <td>-0.113111</td>\n",
       "      <td>-0.159451</td>\n",
       "      <td>1.209747</td>\n",
       "      <td>0.244758</td>\n",
       "      <td>-0.06603</td>\n",
       "      <td>1</td>\n",
       "      <td>0</td>\n",
       "      <td>0</td>\n",
       "      <td>0</td>\n",
       "    </tr>\n",
       "  </tbody>\n",
       "</table>\n",
       "<p>11276 rows × 37 columns</p>\n",
       "</div>"
      ],
      "text/plain": [
       "       ANONYMOUS_1  SAMPLE_TRANSFER_DAY  ANONYMOUS_2        AG        AL  \\\n",
       "6224     -0.069099             0.116588    -0.337936 -0.151896 -0.101686   \n",
       "1786     -0.413153            -0.225434     0.293370 -0.151896 -0.125019   \n",
       "2999     -0.413435            -0.396445    -0.013264 -0.151896 -0.113352   \n",
       "12302    -0.003954            -0.567456    -0.337936 -0.151896 -0.125019   \n",
       "8063     -0.519754            -0.225434    -0.337936 -0.151896 -0.055021   \n",
       "...            ...                  ...          ...       ...       ...   \n",
       "10754     0.061190            -0.225434    -0.337936 -0.151896 -0.113352   \n",
       "11793    -0.406103            -0.310939    -0.337936 -0.151896 -0.113352   \n",
       "10052     0.304003            -0.396445    -0.337936 -0.151896 -0.148351   \n",
       "11805    -0.553595            -0.396445    -0.007853 -0.151896 -0.125019   \n",
       "12169     0.428088             3.109281     0.293370 -0.151896 -0.101686   \n",
       "\n",
       "              B        BA        BE        CA        CO        CR        CU  \\\n",
       "6224   0.678118 -0.228777 -0.042583  1.220967 -0.087612 -0.113358 -0.261477   \n",
       "1786  -0.549336  0.102931 -0.042583 -0.780446 -0.087612 -0.043191 -0.214906   \n",
       "2999   0.127214 -0.228777 -0.042583  1.283110 -0.087612 -0.113358 -0.253715   \n",
       "12302 -0.597661 -0.228777 -0.042583 -0.906083 -0.087612 -0.008108 -0.253715   \n",
       "8063  -0.587996  0.434638 -0.042583 -0.905408 -0.087612 -0.078274 -0.230430   \n",
       "...         ...       ...       ...       ...       ...       ...       ...   \n",
       "10754  3.683932 -0.228777 -0.042583  1.568833 -0.087612 -0.113358 -0.261477   \n",
       "11793  1.866913 -0.228777 -0.042583  1.208133 -0.087612 -0.043191 -0.245953   \n",
       "10052 -0.549336 -0.228777 -0.042583 -0.911487 -0.087612  0.026975  0.848467   \n",
       "11805 -0.559001  0.766346 -0.042583 -0.178604 -0.087612 -0.078274  0.064521   \n",
       "12169  0.504148  0.102931 -0.042583 -0.862178 -0.087612 -0.113358 -0.245953   \n",
       "\n",
       "             FE       H2O       LI        MG        MN        MO        NA  \\\n",
       "6224  -0.314001 -0.044504 -0.10941 -0.270107 -0.235440 -0.398820 -0.208246   \n",
       "1786  -0.283485 -0.044504  0.32653 -0.182968 -0.235440  1.918859 -0.208246   \n",
       "2999  -0.314001 -0.044504 -0.10941 -0.148112 -0.235440  0.168094 -0.208246   \n",
       "12302  1.540321 -0.044504  0.32653 -0.182968  0.788237 -0.365472 -0.155563   \n",
       "8063  -0.290665 -0.044504 -0.10941  3.337463 -0.235440  2.185642 -0.050197   \n",
       "...         ...       ...      ...       ...       ...       ...       ...   \n",
       "10754 -0.306821 -0.044504 -0.10941 -0.174254 -0.235440  3.819689 -0.050197   \n",
       "11793 -0.290665 -0.044504 -0.10941 -0.182968 -0.235440  3.552906 -0.102880   \n",
       "10052  0.034245 -0.044504 -0.10941 -0.261393  0.020479 -0.398820 -0.050197   \n",
       "11805 -0.267329 -0.044504 -0.10941  7.938423 -0.235440  0.418203 -0.155563   \n",
       "12169 -0.294255 -0.044504 -0.10941 -0.139398 -0.235440 -0.398820  0.002486   \n",
       "\n",
       "             NI         P        PB   PQINDEX         S        SB        SI  \\\n",
       "6224  -0.189712 -1.043886 -0.154584 -0.263715 -1.105093 -0.184755 -0.175244   \n",
       "1786  -0.189712  0.066496 -0.154584 -0.259153 -0.625465  0.617902 -0.131071   \n",
       "2999  -0.189712 -0.006345 -0.061985 -0.266974 -1.003650 -0.184755 -0.150703   \n",
       "12302 -0.189712  0.913940 -0.154584 -0.058417  1.070625  1.019230 -0.072173   \n",
       "8063  -0.189712 -0.036547  0.030615 -0.265019 -0.834578 -0.184755 -0.135979   \n",
       "...         ...       ...       ...       ...       ...       ...       ...   \n",
       "10754 -0.189712  0.499989 -0.154584 -0.268929 -0.728626 -0.184755 -0.145795   \n",
       "11793 -0.189712  0.384510  0.123214 -0.256546 -0.780367 -0.184755 -0.145795   \n",
       "10052  1.391556  0.029187 -0.154584 -0.193979  1.860381 -0.184755 -0.150703   \n",
       "11805 -0.189712  0.285019 -0.154584 -0.265671 -0.920885 -0.184755 -0.121254   \n",
       "12169 -0.189712  0.270807  0.030615 -0.265671 -0.107299 -0.184755 -0.150703   \n",
       "\n",
       "             SN        TI         V       V40        ZN         K       CD  \\\n",
       "6224   0.783891 -0.097491 -0.113111 -0.755923 -0.284106 -0.198039 -0.06603   \n",
       "1786   0.039447 -0.097491 -0.113111  0.083483  1.384500  0.750812 -0.06603   \n",
       "2999  -0.332775 -0.097491 -0.113111 -0.114024  0.801991 -0.008269 -0.06603   \n",
       "12302 -0.332775  5.119013 -0.113111  0.891288 -0.998150 -0.198039 -0.06603   \n",
       "8063   0.783891 -0.097491 -0.113111  0.231613  0.873395  0.118245 -0.06603   \n",
       "...         ...       ...       ...       ...       ...       ...      ...   \n",
       "10754 -0.332775 -0.097491 -0.113111  0.049907  1.497244 -0.008269 -0.06603   \n",
       "11793  0.039447 -0.097491 -0.113111  0.032131  1.499123 -0.008269 -0.06603   \n",
       "10052 -0.332775 -0.097491 -0.113111  0.707606 -0.868494 -0.134782 -0.06603   \n",
       "11805  0.783891 -0.097491 -0.113111 -0.416210  1.207868  0.181501 -0.06603   \n",
       "12169  0.039447 -0.097491 -0.113111 -0.159451  1.209747  0.244758 -0.06603   \n",
       "\n",
       "       COMPONENT1  COMPONENT2  COMPONENT3  COMPONENT4  \n",
       "6224            0           1           0           0  \n",
       "1786            1           0           0           0  \n",
       "2999            1           0           0           0  \n",
       "12302           0           0           1           0  \n",
       "8063            1           0           0           0  \n",
       "...           ...         ...         ...         ...  \n",
       "10754           1           0           0           0  \n",
       "11793           1           0           0           0  \n",
       "10052           0           0           1           0  \n",
       "11805           1           0           0           0  \n",
       "12169           1           0           0           0  \n",
       "\n",
       "[11276 rows x 37 columns]"
      ]
     },
     "execution_count": 48,
     "metadata": {},
     "output_type": "execute_result"
    }
   ],
   "source": [
    "train_X"
   ]
  },
  {
   "cell_type": "code",
   "execution_count": 77,
   "id": "0e00edb2",
   "metadata": {},
   "outputs": [],
   "source": [
    "dummies_col = []\n",
    "for c in categorical_features:\n",
    "    df = pd.get_dummies(train[c])\n",
    "    train[df.columns] = df\n",
    "    train = train.drop(c, axis=1)\n",
    "    df = pd.get_dummies(test[c])\n",
    "    test[df.columns] = df\n",
    "    test = test.drop(c, axis=1)\n",
    "    dummies_col.extend(df.columns)\n",
    "test_stage_features.extend(dummies_col)"
   ]
  },
  {
   "cell_type": "code",
   "execution_count": 78,
   "id": "c31ced0e",
   "metadata": {},
   "outputs": [],
   "source": [
    "all_X = train.drop(['ID', 'Y_LABEL'], axis = 1)\n",
    "#all_X = train.drop(['Y_LABEL'], axis = 1)\n",
    "all_y = train['Y_LABEL']\n",
    "\n",
    "test = test.drop(['ID'], axis = 1)\n",
    "\n",
    "train_X, val_X, train_y, val_y = train_test_split(all_X, all_y, test_size=0.2, random_state=CFG['SEED'], stratify=all_y)"
   ]
  },
  {
   "cell_type": "code",
   "execution_count": 79,
   "id": "d63fe301",
   "metadata": {},
   "outputs": [],
   "source": [
    "def get_values(value):\n",
    "    return value.values.reshape(-1, 1)\n",
    "\n",
    "for col in train_X.columns:\n",
    "    if col not in dummies_col:\n",
    "        scaler = StandardScaler()\n",
    "        train_X[col] = scaler.fit_transform(get_values(train_X[col]))\n",
    "        val_X[col] = scaler.transform(get_values(val_X[col]))\n",
    "        if col in test.columns:\n",
    "            test[col] = scaler.transform(get_values(test[col]))\n",
    "            \n",
    "le = LabelEncoder()\n",
    "for col in dummies_col:    \n",
    "    train_X[col] = le.fit_transform(train_X[col])\n",
    "    val_X[col] = le.transform(val_X[col])\n",
    "    if col in test.columns:\n",
    "        test[col] = le.transform(test[col])"
   ]
  },
  {
   "cell_type": "code",
   "execution_count": 25,
   "id": "ff45755c",
   "metadata": {},
   "outputs": [
    {
     "data": {
      "image/png": "[encoded data removed]",
      "text/plain": [
       "<Figure size 1200x800 with 2 Axes>"
      ]
     },
     "metadata": {},
     "output_type": "display_data"
    }
   ],
   "source": [
    "plt.figure(figsize = (12, 8))\n",
    "x = sns.heatmap(train.corr(), cmap = 'Blues', linewidths = '0.1',annot = False)"
   ]
  },
  {
   "cell_type": "code",
   "execution_count": 239,
   "id": "9445305b",
   "metadata": {
    "scrolled": true
   },
   "outputs": [
    {
     "data": {
      "text/html": [
       "<div>\n",
       "<style scoped>\n",
       "    .dataframe tbody tr th:only-of-type {\n",
       "        vertical-align: middle;\n",
       "    }\n",
       "\n",
       "    .dataframe tbody tr th {\n",
       "        vertical-align: top;\n",
       "    }\n",
       "\n",
       "    .dataframe thead th {\n",
       "        text-align: right;\n",
       "    }\n",
       "</style>\n",
       "<table border=\"1\" class=\"dataframe\">\n",
       "  <thead>\n",
       "    <tr style=\"text-align: right;\">\n",
       "      <th></th>\n",
       "      <th>ANONYMOUS_1</th>\n",
       "      <th>SAMPLE_TRANSFER_DAY</th>\n",
       "      <th>ANONYMOUS_2</th>\n",
       "      <th>AG</th>\n",
       "      <th>AL</th>\n",
       "      <th>B</th>\n",
       "      <th>BA</th>\n",
       "      <th>BE</th>\n",
       "      <th>CA</th>\n",
       "      <th>CO</th>\n",
       "      <th>CR</th>\n",
       "      <th>CU</th>\n",
       "      <th>FE</th>\n",
       "      <th>H2O</th>\n",
       "      <th>LI</th>\n",
       "      <th>MG</th>\n",
       "      <th>MN</th>\n",
       "      <th>MO</th>\n",
       "      <th>NA</th>\n",
       "      <th>NI</th>\n",
       "      <th>P</th>\n",
       "      <th>PB</th>\n",
       "      <th>PQINDEX</th>\n",
       "      <th>S</th>\n",
       "      <th>SB</th>\n",
       "      <th>SI</th>\n",
       "      <th>SN</th>\n",
       "      <th>TI</th>\n",
       "      <th>V</th>\n",
       "      <th>V40</th>\n",
       "      <th>K</th>\n",
       "      <th>CD</th>\n",
       "      <th>ZN</th>\n",
       "      <th>COMPONENT1</th>\n",
       "      <th>COMPONENT2</th>\n",
       "      <th>COMPONENT3</th>\n",
       "      <th>COMPONENT4</th>\n",
       "      <th>2007</th>\n",
       "      <th>2008</th>\n",
       "      <th>2009</th>\n",
       "      <th>2010</th>\n",
       "      <th>2011</th>\n",
       "      <th>2012</th>\n",
       "      <th>2013</th>\n",
       "      <th>2014</th>\n",
       "      <th>2015</th>\n",
       "      <th>2016</th>\n",
       "      <th>2017</th>\n",
       "      <th>2018</th>\n",
       "      <th>2019</th>\n",
       "      <th>2020</th>\n",
       "      <th>2021</th>\n",
       "      <th>2022</th>\n",
       "    </tr>\n",
       "  </thead>\n",
       "  <tbody>\n",
       "    <tr>\n",
       "      <th>ANONYMOUS_1</th>\n",
       "      <td>1.0</td>\n",
       "      <td>NaN</td>\n",
       "      <td>NaN</td>\n",
       "      <td>NaN</td>\n",
       "      <td>NaN</td>\n",
       "      <td>NaN</td>\n",
       "      <td>NaN</td>\n",
       "      <td>NaN</td>\n",
       "      <td>NaN</td>\n",
       "      <td>NaN</td>\n",
       "      <td>NaN</td>\n",
       "      <td>NaN</td>\n",
       "      <td>NaN</td>\n",
       "      <td>NaN</td>\n",
       "      <td>NaN</td>\n",
       "      <td>NaN</td>\n",
       "      <td>NaN</td>\n",
       "      <td>NaN</td>\n",
       "      <td>NaN</td>\n",
       "      <td>NaN</td>\n",
       "      <td>NaN</td>\n",
       "      <td>NaN</td>\n",
       "      <td>NaN</td>\n",
       "      <td>NaN</td>\n",
       "      <td>NaN</td>\n",
       "      <td>NaN</td>\n",
       "      <td>NaN</td>\n",
       "      <td>NaN</td>\n",
       "      <td>NaN</td>\n",
       "      <td>NaN</td>\n",
       "      <td>NaN</td>\n",
       "      <td>NaN</td>\n",
       "      <td>NaN</td>\n",
       "      <td>NaN</td>\n",
       "      <td>NaN</td>\n",
       "      <td>NaN</td>\n",
       "      <td>NaN</td>\n",
       "      <td>NaN</td>\n",
       "      <td>NaN</td>\n",
       "      <td>NaN</td>\n",
       "      <td>NaN</td>\n",
       "      <td>NaN</td>\n",
       "      <td>NaN</td>\n",
       "      <td>NaN</td>\n",
       "      <td>NaN</td>\n",
       "      <td>NaN</td>\n",
       "      <td>NaN</td>\n",
       "      <td>NaN</td>\n",
       "      <td>NaN</td>\n",
       "      <td>NaN</td>\n",
       "      <td>NaN</td>\n",
       "      <td>NaN</td>\n",
       "      <td>NaN</td>\n",
       "    </tr>\n",
       "    <tr>\n",
       "      <th>SAMPLE_TRANSFER_DAY</th>\n",
       "      <td>NaN</td>\n",
       "      <td>1.0</td>\n",
       "      <td>NaN</td>\n",
       "      <td>NaN</td>\n",
       "      <td>NaN</td>\n",
       "      <td>NaN</td>\n",
       "      <td>NaN</td>\n",
       "      <td>NaN</td>\n",
       "      <td>NaN</td>\n",
       "      <td>NaN</td>\n",
       "      <td>NaN</td>\n",
       "      <td>NaN</td>\n",
       "      <td>NaN</td>\n",
       "      <td>NaN</td>\n",
       "      <td>NaN</td>\n",
       "      <td>NaN</td>\n",
       "      <td>NaN</td>\n",
       "      <td>NaN</td>\n",
       "      <td>NaN</td>\n",
       "      <td>NaN</td>\n",
       "      <td>NaN</td>\n",
       "      <td>NaN</td>\n",
       "      <td>NaN</td>\n",
       "      <td>NaN</td>\n",
       "      <td>NaN</td>\n",
       "      <td>NaN</td>\n",
       "      <td>NaN</td>\n",
       "      <td>NaN</td>\n",
       "      <td>NaN</td>\n",
       "      <td>NaN</td>\n",
       "      <td>NaN</td>\n",
       "      <td>NaN</td>\n",
       "      <td>NaN</td>\n",
       "      <td>NaN</td>\n",
       "      <td>NaN</td>\n",
       "      <td>NaN</td>\n",
       "      <td>NaN</td>\n",
       "      <td>NaN</td>\n",
       "      <td>NaN</td>\n",
       "      <td>NaN</td>\n",
       "      <td>NaN</td>\n",
       "      <td>NaN</td>\n",
       "      <td>NaN</td>\n",
       "      <td>NaN</td>\n",
       "      <td>NaN</td>\n",
       "      <td>NaN</td>\n",
       "      <td>NaN</td>\n",
       "      <td>NaN</td>\n",
       "      <td>NaN</td>\n",
       "      <td>NaN</td>\n",
       "      <td>NaN</td>\n",
       "      <td>NaN</td>\n",
       "      <td>NaN</td>\n",
       "    </tr>\n",
       "    <tr>\n",
       "      <th>ANONYMOUS_2</th>\n",
       "      <td>NaN</td>\n",
       "      <td>NaN</td>\n",
       "      <td>1.0</td>\n",
       "      <td>NaN</td>\n",
       "      <td>NaN</td>\n",
       "      <td>NaN</td>\n",
       "      <td>NaN</td>\n",
       "      <td>NaN</td>\n",
       "      <td>NaN</td>\n",
       "      <td>NaN</td>\n",
       "      <td>NaN</td>\n",
       "      <td>NaN</td>\n",
       "      <td>NaN</td>\n",
       "      <td>NaN</td>\n",
       "      <td>NaN</td>\n",
       "      <td>NaN</td>\n",
       "      <td>NaN</td>\n",
       "      <td>NaN</td>\n",
       "      <td>NaN</td>\n",
       "      <td>NaN</td>\n",
       "      <td>NaN</td>\n",
       "      <td>NaN</td>\n",
       "      <td>NaN</td>\n",
       "      <td>NaN</td>\n",
       "      <td>NaN</td>\n",
       "      <td>NaN</td>\n",
       "      <td>NaN</td>\n",
       "      <td>NaN</td>\n",
       "      <td>NaN</td>\n",
       "      <td>NaN</td>\n",
       "      <td>NaN</td>\n",
       "      <td>NaN</td>\n",
       "      <td>NaN</td>\n",
       "      <td>NaN</td>\n",
       "      <td>NaN</td>\n",
       "      <td>NaN</td>\n",
       "      <td>NaN</td>\n",
       "      <td>NaN</td>\n",
       "      <td>NaN</td>\n",
       "      <td>NaN</td>\n",
       "      <td>NaN</td>\n",
       "      <td>NaN</td>\n",
       "      <td>NaN</td>\n",
       "      <td>NaN</td>\n",
       "      <td>NaN</td>\n",
       "      <td>NaN</td>\n",
       "      <td>NaN</td>\n",
       "      <td>NaN</td>\n",
       "      <td>NaN</td>\n",
       "      <td>NaN</td>\n",
       "      <td>NaN</td>\n",
       "      <td>NaN</td>\n",
       "      <td>NaN</td>\n",
       "    </tr>\n",
       "    <tr>\n",
       "      <th>AG</th>\n",
       "      <td>NaN</td>\n",
       "      <td>NaN</td>\n",
       "      <td>NaN</td>\n",
       "      <td>1.0</td>\n",
       "      <td>NaN</td>\n",
       "      <td>NaN</td>\n",
       "      <td>NaN</td>\n",
       "      <td>NaN</td>\n",
       "      <td>NaN</td>\n",
       "      <td>NaN</td>\n",
       "      <td>NaN</td>\n",
       "      <td>NaN</td>\n",
       "      <td>NaN</td>\n",
       "      <td>NaN</td>\n",
       "      <td>NaN</td>\n",
       "      <td>NaN</td>\n",
       "      <td>NaN</td>\n",
       "      <td>NaN</td>\n",
       "      <td>NaN</td>\n",
       "      <td>NaN</td>\n",
       "      <td>NaN</td>\n",
       "      <td>NaN</td>\n",
       "      <td>NaN</td>\n",
       "      <td>NaN</td>\n",
       "      <td>NaN</td>\n",
       "      <td>NaN</td>\n",
       "      <td>NaN</td>\n",
       "      <td>NaN</td>\n",
       "      <td>NaN</td>\n",
       "      <td>NaN</td>\n",
       "      <td>NaN</td>\n",
       "      <td>NaN</td>\n",
       "      <td>NaN</td>\n",
       "      <td>NaN</td>\n",
       "      <td>NaN</td>\n",
       "      <td>NaN</td>\n",
       "      <td>NaN</td>\n",
       "      <td>NaN</td>\n",
       "      <td>NaN</td>\n",
       "      <td>NaN</td>\n",
       "      <td>NaN</td>\n",
       "      <td>NaN</td>\n",
       "      <td>NaN</td>\n",
       "      <td>NaN</td>\n",
       "      <td>NaN</td>\n",
       "      <td>NaN</td>\n",
       "      <td>NaN</td>\n",
       "      <td>NaN</td>\n",
       "      <td>NaN</td>\n",
       "      <td>NaN</td>\n",
       "      <td>NaN</td>\n",
       "      <td>NaN</td>\n",
       "      <td>NaN</td>\n",
       "    </tr>\n",
       "    <tr>\n",
       "      <th>AL</th>\n",
       "      <td>NaN</td>\n",
       "      <td>NaN</td>\n",
       "      <td>NaN</td>\n",
       "      <td>NaN</td>\n",
       "      <td>1.0</td>\n",
       "      <td>NaN</td>\n",
       "      <td>NaN</td>\n",
       "      <td>NaN</td>\n",
       "      <td>NaN</td>\n",
       "      <td>NaN</td>\n",
       "      <td>NaN</td>\n",
       "      <td>NaN</td>\n",
       "      <td>NaN</td>\n",
       "      <td>NaN</td>\n",
       "      <td>NaN</td>\n",
       "      <td>NaN</td>\n",
       "      <td>NaN</td>\n",
       "      <td>NaN</td>\n",
       "      <td>NaN</td>\n",
       "      <td>NaN</td>\n",
       "      <td>NaN</td>\n",
       "      <td>NaN</td>\n",
       "      <td>NaN</td>\n",
       "      <td>NaN</td>\n",
       "      <td>NaN</td>\n",
       "      <td>NaN</td>\n",
       "      <td>NaN</td>\n",
       "      <td>NaN</td>\n",
       "      <td>NaN</td>\n",
       "      <td>NaN</td>\n",
       "      <td>NaN</td>\n",
       "      <td>NaN</td>\n",
       "      <td>NaN</td>\n",
       "      <td>NaN</td>\n",
       "      <td>NaN</td>\n",
       "      <td>NaN</td>\n",
       "      <td>NaN</td>\n",
       "      <td>NaN</td>\n",
       "      <td>NaN</td>\n",
       "      <td>NaN</td>\n",
       "      <td>NaN</td>\n",
       "      <td>NaN</td>\n",
       "      <td>NaN</td>\n",
       "      <td>NaN</td>\n",
       "      <td>NaN</td>\n",
       "      <td>NaN</td>\n",
       "      <td>NaN</td>\n",
       "      <td>NaN</td>\n",
       "      <td>NaN</td>\n",
       "      <td>NaN</td>\n",
       "      <td>NaN</td>\n",
       "      <td>NaN</td>\n",
       "      <td>NaN</td>\n",
       "    </tr>\n",
       "    <tr>\n",
       "      <th>B</th>\n",
       "      <td>NaN</td>\n",
       "      <td>NaN</td>\n",
       "      <td>NaN</td>\n",
       "      <td>NaN</td>\n",
       "      <td>NaN</td>\n",
       "      <td>1.0</td>\n",
       "      <td>NaN</td>\n",
       "      <td>NaN</td>\n",
       "      <td>NaN</td>\n",
       "      <td>NaN</td>\n",
       "      <td>NaN</td>\n",
       "      <td>NaN</td>\n",
       "      <td>NaN</td>\n",
       "      <td>NaN</td>\n",
       "      <td>NaN</td>\n",
       "      <td>NaN</td>\n",
       "      <td>NaN</td>\n",
       "      <td>NaN</td>\n",
       "      <td>NaN</td>\n",
       "      <td>NaN</td>\n",
       "      <td>NaN</td>\n",
       "      <td>NaN</td>\n",
       "      <td>NaN</td>\n",
       "      <td>NaN</td>\n",
       "      <td>NaN</td>\n",
       "      <td>NaN</td>\n",
       "      <td>NaN</td>\n",
       "      <td>NaN</td>\n",
       "      <td>NaN</td>\n",
       "      <td>NaN</td>\n",
       "      <td>NaN</td>\n",
       "      <td>NaN</td>\n",
       "      <td>NaN</td>\n",
       "      <td>NaN</td>\n",
       "      <td>NaN</td>\n",
       "      <td>NaN</td>\n",
       "      <td>NaN</td>\n",
       "      <td>NaN</td>\n",
       "      <td>NaN</td>\n",
       "      <td>NaN</td>\n",
       "      <td>NaN</td>\n",
       "      <td>NaN</td>\n",
       "      <td>NaN</td>\n",
       "      <td>NaN</td>\n",
       "      <td>NaN</td>\n",
       "      <td>NaN</td>\n",
       "      <td>NaN</td>\n",
       "      <td>NaN</td>\n",
       "      <td>NaN</td>\n",
       "      <td>NaN</td>\n",
       "      <td>NaN</td>\n",
       "      <td>NaN</td>\n",
       "      <td>NaN</td>\n",
       "    </tr>\n",
       "    <tr>\n",
       "      <th>BA</th>\n",
       "      <td>NaN</td>\n",
       "      <td>NaN</td>\n",
       "      <td>NaN</td>\n",
       "      <td>NaN</td>\n",
       "      <td>NaN</td>\n",
       "      <td>NaN</td>\n",
       "      <td>1.0</td>\n",
       "      <td>NaN</td>\n",
       "      <td>NaN</td>\n",
       "      <td>NaN</td>\n",
       "      <td>NaN</td>\n",
       "      <td>NaN</td>\n",
       "      <td>NaN</td>\n",
       "      <td>NaN</td>\n",
       "      <td>NaN</td>\n",
       "      <td>NaN</td>\n",
       "      <td>NaN</td>\n",
       "      <td>NaN</td>\n",
       "      <td>NaN</td>\n",
       "      <td>NaN</td>\n",
       "      <td>NaN</td>\n",
       "      <td>NaN</td>\n",
       "      <td>NaN</td>\n",
       "      <td>NaN</td>\n",
       "      <td>NaN</td>\n",
       "      <td>NaN</td>\n",
       "      <td>NaN</td>\n",
       "      <td>NaN</td>\n",
       "      <td>NaN</td>\n",
       "      <td>NaN</td>\n",
       "      <td>NaN</td>\n",
       "      <td>NaN</td>\n",
       "      <td>NaN</td>\n",
       "      <td>NaN</td>\n",
       "      <td>NaN</td>\n",
       "      <td>NaN</td>\n",
       "      <td>NaN</td>\n",
       "      <td>NaN</td>\n",
       "      <td>NaN</td>\n",
       "      <td>NaN</td>\n",
       "      <td>NaN</td>\n",
       "      <td>NaN</td>\n",
       "      <td>NaN</td>\n",
       "      <td>NaN</td>\n",
       "      <td>NaN</td>\n",
       "      <td>NaN</td>\n",
       "      <td>NaN</td>\n",
       "      <td>NaN</td>\n",
       "      <td>NaN</td>\n",
       "      <td>NaN</td>\n",
       "      <td>NaN</td>\n",
       "      <td>NaN</td>\n",
       "      <td>NaN</td>\n",
       "    </tr>\n",
       "    <tr>\n",
       "      <th>BE</th>\n",
       "      <td>NaN</td>\n",
       "      <td>NaN</td>\n",
       "      <td>NaN</td>\n",
       "      <td>NaN</td>\n",
       "      <td>NaN</td>\n",
       "      <td>NaN</td>\n",
       "      <td>NaN</td>\n",
       "      <td>1.0</td>\n",
       "      <td>NaN</td>\n",
       "      <td>NaN</td>\n",
       "      <td>NaN</td>\n",
       "      <td>NaN</td>\n",
       "      <td>NaN</td>\n",
       "      <td>NaN</td>\n",
       "      <td>NaN</td>\n",
       "      <td>NaN</td>\n",
       "      <td>NaN</td>\n",
       "      <td>NaN</td>\n",
       "      <td>NaN</td>\n",
       "      <td>NaN</td>\n",
       "      <td>NaN</td>\n",
       "      <td>NaN</td>\n",
       "      <td>NaN</td>\n",
       "      <td>NaN</td>\n",
       "      <td>NaN</td>\n",
       "      <td>NaN</td>\n",
       "      <td>NaN</td>\n",
       "      <td>NaN</td>\n",
       "      <td>NaN</td>\n",
       "      <td>NaN</td>\n",
       "      <td>NaN</td>\n",
       "      <td>NaN</td>\n",
       "      <td>NaN</td>\n",
       "      <td>NaN</td>\n",
       "      <td>NaN</td>\n",
       "      <td>NaN</td>\n",
       "      <td>NaN</td>\n",
       "      <td>NaN</td>\n",
       "      <td>NaN</td>\n",
       "      <td>NaN</td>\n",
       "      <td>NaN</td>\n",
       "      <td>NaN</td>\n",
       "      <td>NaN</td>\n",
       "      <td>NaN</td>\n",
       "      <td>NaN</td>\n",
       "      <td>NaN</td>\n",
       "      <td>NaN</td>\n",
       "      <td>NaN</td>\n",
       "      <td>NaN</td>\n",
       "      <td>NaN</td>\n",
       "      <td>NaN</td>\n",
       "      <td>NaN</td>\n",
       "      <td>NaN</td>\n",
       "    </tr>\n",
       "    <tr>\n",
       "      <th>CA</th>\n",
       "      <td>NaN</td>\n",
       "      <td>NaN</td>\n",
       "      <td>NaN</td>\n",
       "      <td>NaN</td>\n",
       "      <td>NaN</td>\n",
       "      <td>NaN</td>\n",
       "      <td>NaN</td>\n",
       "      <td>NaN</td>\n",
       "      <td>1.0</td>\n",
       "      <td>NaN</td>\n",
       "      <td>NaN</td>\n",
       "      <td>NaN</td>\n",
       "      <td>NaN</td>\n",
       "      <td>NaN</td>\n",
       "      <td>NaN</td>\n",
       "      <td>NaN</td>\n",
       "      <td>NaN</td>\n",
       "      <td>NaN</td>\n",
       "      <td>NaN</td>\n",
       "      <td>NaN</td>\n",
       "      <td>NaN</td>\n",
       "      <td>NaN</td>\n",
       "      <td>NaN</td>\n",
       "      <td>NaN</td>\n",
       "      <td>NaN</td>\n",
       "      <td>NaN</td>\n",
       "      <td>NaN</td>\n",
       "      <td>NaN</td>\n",
       "      <td>NaN</td>\n",
       "      <td>NaN</td>\n",
       "      <td>NaN</td>\n",
       "      <td>NaN</td>\n",
       "      <td>NaN</td>\n",
       "      <td>NaN</td>\n",
       "      <td>NaN</td>\n",
       "      <td>NaN</td>\n",
       "      <td>NaN</td>\n",
       "      <td>NaN</td>\n",
       "      <td>NaN</td>\n",
       "      <td>NaN</td>\n",
       "      <td>NaN</td>\n",
       "      <td>NaN</td>\n",
       "      <td>NaN</td>\n",
       "      <td>NaN</td>\n",
       "      <td>NaN</td>\n",
       "      <td>NaN</td>\n",
       "      <td>NaN</td>\n",
       "      <td>NaN</td>\n",
       "      <td>NaN</td>\n",
       "      <td>NaN</td>\n",
       "      <td>NaN</td>\n",
       "      <td>NaN</td>\n",
       "      <td>NaN</td>\n",
       "    </tr>\n",
       "    <tr>\n",
       "      <th>CO</th>\n",
       "      <td>NaN</td>\n",
       "      <td>NaN</td>\n",
       "      <td>NaN</td>\n",
       "      <td>NaN</td>\n",
       "      <td>NaN</td>\n",
       "      <td>NaN</td>\n",
       "      <td>NaN</td>\n",
       "      <td>NaN</td>\n",
       "      <td>NaN</td>\n",
       "      <td>1.0</td>\n",
       "      <td>NaN</td>\n",
       "      <td>NaN</td>\n",
       "      <td>NaN</td>\n",
       "      <td>NaN</td>\n",
       "      <td>NaN</td>\n",
       "      <td>NaN</td>\n",
       "      <td>NaN</td>\n",
       "      <td>NaN</td>\n",
       "      <td>NaN</td>\n",
       "      <td>NaN</td>\n",
       "      <td>NaN</td>\n",
       "      <td>NaN</td>\n",
       "      <td>NaN</td>\n",
       "      <td>NaN</td>\n",
       "      <td>NaN</td>\n",
       "      <td>NaN</td>\n",
       "      <td>NaN</td>\n",
       "      <td>NaN</td>\n",
       "      <td>NaN</td>\n",
       "      <td>NaN</td>\n",
       "      <td>NaN</td>\n",
       "      <td>NaN</td>\n",
       "      <td>NaN</td>\n",
       "      <td>NaN</td>\n",
       "      <td>NaN</td>\n",
       "      <td>NaN</td>\n",
       "      <td>NaN</td>\n",
       "      <td>NaN</td>\n",
       "      <td>NaN</td>\n",
       "      <td>NaN</td>\n",
       "      <td>NaN</td>\n",
       "      <td>NaN</td>\n",
       "      <td>NaN</td>\n",
       "      <td>NaN</td>\n",
       "      <td>NaN</td>\n",
       "      <td>NaN</td>\n",
       "      <td>NaN</td>\n",
       "      <td>NaN</td>\n",
       "      <td>NaN</td>\n",
       "      <td>NaN</td>\n",
       "      <td>NaN</td>\n",
       "      <td>NaN</td>\n",
       "      <td>NaN</td>\n",
       "    </tr>\n",
       "    <tr>\n",
       "      <th>CR</th>\n",
       "      <td>NaN</td>\n",
       "      <td>NaN</td>\n",
       "      <td>NaN</td>\n",
       "      <td>NaN</td>\n",
       "      <td>NaN</td>\n",
       "      <td>NaN</td>\n",
       "      <td>NaN</td>\n",
       "      <td>NaN</td>\n",
       "      <td>NaN</td>\n",
       "      <td>NaN</td>\n",
       "      <td>1.0</td>\n",
       "      <td>NaN</td>\n",
       "      <td>NaN</td>\n",
       "      <td>NaN</td>\n",
       "      <td>NaN</td>\n",
       "      <td>NaN</td>\n",
       "      <td>NaN</td>\n",
       "      <td>NaN</td>\n",
       "      <td>NaN</td>\n",
       "      <td>NaN</td>\n",
       "      <td>NaN</td>\n",
       "      <td>NaN</td>\n",
       "      <td>NaN</td>\n",
       "      <td>NaN</td>\n",
       "      <td>NaN</td>\n",
       "      <td>NaN</td>\n",
       "      <td>NaN</td>\n",
       "      <td>NaN</td>\n",
       "      <td>NaN</td>\n",
       "      <td>NaN</td>\n",
       "      <td>NaN</td>\n",
       "      <td>NaN</td>\n",
       "      <td>NaN</td>\n",
       "      <td>NaN</td>\n",
       "      <td>NaN</td>\n",
       "      <td>NaN</td>\n",
       "      <td>NaN</td>\n",
       "      <td>NaN</td>\n",
       "      <td>NaN</td>\n",
       "      <td>NaN</td>\n",
       "      <td>NaN</td>\n",
       "      <td>NaN</td>\n",
       "      <td>NaN</td>\n",
       "      <td>NaN</td>\n",
       "      <td>NaN</td>\n",
       "      <td>NaN</td>\n",
       "      <td>NaN</td>\n",
       "      <td>NaN</td>\n",
       "      <td>NaN</td>\n",
       "      <td>NaN</td>\n",
       "      <td>NaN</td>\n",
       "      <td>NaN</td>\n",
       "      <td>NaN</td>\n",
       "    </tr>\n",
       "    <tr>\n",
       "      <th>CU</th>\n",
       "      <td>NaN</td>\n",
       "      <td>NaN</td>\n",
       "      <td>NaN</td>\n",
       "      <td>NaN</td>\n",
       "      <td>NaN</td>\n",
       "      <td>NaN</td>\n",
       "      <td>NaN</td>\n",
       "      <td>NaN</td>\n",
       "      <td>NaN</td>\n",
       "      <td>NaN</td>\n",
       "      <td>NaN</td>\n",
       "      <td>1.0</td>\n",
       "      <td>NaN</td>\n",
       "      <td>NaN</td>\n",
       "      <td>NaN</td>\n",
       "      <td>NaN</td>\n",
       "      <td>NaN</td>\n",
       "      <td>NaN</td>\n",
       "      <td>NaN</td>\n",
       "      <td>NaN</td>\n",
       "      <td>NaN</td>\n",
       "      <td>NaN</td>\n",
       "      <td>NaN</td>\n",
       "      <td>NaN</td>\n",
       "      <td>NaN</td>\n",
       "      <td>NaN</td>\n",
       "      <td>NaN</td>\n",
       "      <td>NaN</td>\n",
       "      <td>NaN</td>\n",
       "      <td>NaN</td>\n",
       "      <td>NaN</td>\n",
       "      <td>NaN</td>\n",
       "      <td>NaN</td>\n",
       "      <td>NaN</td>\n",
       "      <td>NaN</td>\n",
       "      <td>NaN</td>\n",
       "      <td>NaN</td>\n",
       "      <td>NaN</td>\n",
       "      <td>NaN</td>\n",
       "      <td>NaN</td>\n",
       "      <td>NaN</td>\n",
       "      <td>NaN</td>\n",
       "      <td>NaN</td>\n",
       "      <td>NaN</td>\n",
       "      <td>NaN</td>\n",
       "      <td>NaN</td>\n",
       "      <td>NaN</td>\n",
       "      <td>NaN</td>\n",
       "      <td>NaN</td>\n",
       "      <td>NaN</td>\n",
       "      <td>NaN</td>\n",
       "      <td>NaN</td>\n",
       "      <td>NaN</td>\n",
       "    </tr>\n",
       "    <tr>\n",
       "      <th>FE</th>\n",
       "      <td>NaN</td>\n",
       "      <td>NaN</td>\n",
       "      <td>NaN</td>\n",
       "      <td>NaN</td>\n",
       "      <td>NaN</td>\n",
       "      <td>NaN</td>\n",
       "      <td>NaN</td>\n",
       "      <td>NaN</td>\n",
       "      <td>NaN</td>\n",
       "      <td>NaN</td>\n",
       "      <td>NaN</td>\n",
       "      <td>NaN</td>\n",
       "      <td>1.0</td>\n",
       "      <td>NaN</td>\n",
       "      <td>NaN</td>\n",
       "      <td>NaN</td>\n",
       "      <td>NaN</td>\n",
       "      <td>NaN</td>\n",
       "      <td>NaN</td>\n",
       "      <td>NaN</td>\n",
       "      <td>NaN</td>\n",
       "      <td>NaN</td>\n",
       "      <td>NaN</td>\n",
       "      <td>NaN</td>\n",
       "      <td>NaN</td>\n",
       "      <td>NaN</td>\n",
       "      <td>NaN</td>\n",
       "      <td>NaN</td>\n",
       "      <td>NaN</td>\n",
       "      <td>NaN</td>\n",
       "      <td>NaN</td>\n",
       "      <td>NaN</td>\n",
       "      <td>NaN</td>\n",
       "      <td>NaN</td>\n",
       "      <td>NaN</td>\n",
       "      <td>NaN</td>\n",
       "      <td>NaN</td>\n",
       "      <td>NaN</td>\n",
       "      <td>NaN</td>\n",
       "      <td>NaN</td>\n",
       "      <td>NaN</td>\n",
       "      <td>NaN</td>\n",
       "      <td>NaN</td>\n",
       "      <td>NaN</td>\n",
       "      <td>NaN</td>\n",
       "      <td>NaN</td>\n",
       "      <td>NaN</td>\n",
       "      <td>NaN</td>\n",
       "      <td>NaN</td>\n",
       "      <td>NaN</td>\n",
       "      <td>NaN</td>\n",
       "      <td>NaN</td>\n",
       "      <td>NaN</td>\n",
       "    </tr>\n",
       "    <tr>\n",
       "      <th>H2O</th>\n",
       "      <td>NaN</td>\n",
       "      <td>NaN</td>\n",
       "      <td>NaN</td>\n",
       "      <td>NaN</td>\n",
       "      <td>NaN</td>\n",
       "      <td>NaN</td>\n",
       "      <td>NaN</td>\n",
       "      <td>NaN</td>\n",
       "      <td>NaN</td>\n",
       "      <td>NaN</td>\n",
       "      <td>NaN</td>\n",
       "      <td>NaN</td>\n",
       "      <td>NaN</td>\n",
       "      <td>1.0</td>\n",
       "      <td>NaN</td>\n",
       "      <td>NaN</td>\n",
       "      <td>NaN</td>\n",
       "      <td>NaN</td>\n",
       "      <td>NaN</td>\n",
       "      <td>NaN</td>\n",
       "      <td>NaN</td>\n",
       "      <td>NaN</td>\n",
       "      <td>NaN</td>\n",
       "      <td>NaN</td>\n",
       "      <td>NaN</td>\n",
       "      <td>NaN</td>\n",
       "      <td>NaN</td>\n",
       "      <td>NaN</td>\n",
       "      <td>NaN</td>\n",
       "      <td>NaN</td>\n",
       "      <td>NaN</td>\n",
       "      <td>NaN</td>\n",
       "      <td>NaN</td>\n",
       "      <td>NaN</td>\n",
       "      <td>NaN</td>\n",
       "      <td>NaN</td>\n",
       "      <td>NaN</td>\n",
       "      <td>NaN</td>\n",
       "      <td>NaN</td>\n",
       "      <td>NaN</td>\n",
       "      <td>NaN</td>\n",
       "      <td>NaN</td>\n",
       "      <td>NaN</td>\n",
       "      <td>NaN</td>\n",
       "      <td>NaN</td>\n",
       "      <td>NaN</td>\n",
       "      <td>NaN</td>\n",
       "      <td>NaN</td>\n",
       "      <td>NaN</td>\n",
       "      <td>NaN</td>\n",
       "      <td>NaN</td>\n",
       "      <td>NaN</td>\n",
       "      <td>NaN</td>\n",
       "    </tr>\n",
       "    <tr>\n",
       "      <th>LI</th>\n",
       "      <td>NaN</td>\n",
       "      <td>NaN</td>\n",
       "      <td>NaN</td>\n",
       "      <td>NaN</td>\n",
       "      <td>NaN</td>\n",
       "      <td>NaN</td>\n",
       "      <td>NaN</td>\n",
       "      <td>NaN</td>\n",
       "      <td>NaN</td>\n",
       "      <td>NaN</td>\n",
       "      <td>NaN</td>\n",
       "      <td>NaN</td>\n",
       "      <td>NaN</td>\n",
       "      <td>NaN</td>\n",
       "      <td>1.0</td>\n",
       "      <td>NaN</td>\n",
       "      <td>NaN</td>\n",
       "      <td>NaN</td>\n",
       "      <td>NaN</td>\n",
       "      <td>NaN</td>\n",
       "      <td>NaN</td>\n",
       "      <td>NaN</td>\n",
       "      <td>NaN</td>\n",
       "      <td>NaN</td>\n",
       "      <td>NaN</td>\n",
       "      <td>NaN</td>\n",
       "      <td>NaN</td>\n",
       "      <td>NaN</td>\n",
       "      <td>NaN</td>\n",
       "      <td>NaN</td>\n",
       "      <td>NaN</td>\n",
       "      <td>NaN</td>\n",
       "      <td>NaN</td>\n",
       "      <td>NaN</td>\n",
       "      <td>NaN</td>\n",
       "      <td>NaN</td>\n",
       "      <td>NaN</td>\n",
       "      <td>NaN</td>\n",
       "      <td>NaN</td>\n",
       "      <td>NaN</td>\n",
       "      <td>NaN</td>\n",
       "      <td>NaN</td>\n",
       "      <td>NaN</td>\n",
       "      <td>NaN</td>\n",
       "      <td>NaN</td>\n",
       "      <td>NaN</td>\n",
       "      <td>NaN</td>\n",
       "      <td>NaN</td>\n",
       "      <td>NaN</td>\n",
       "      <td>NaN</td>\n",
       "      <td>NaN</td>\n",
       "      <td>NaN</td>\n",
       "      <td>NaN</td>\n",
       "    </tr>\n",
       "    <tr>\n",
       "      <th>MG</th>\n",
       "      <td>NaN</td>\n",
       "      <td>NaN</td>\n",
       "      <td>NaN</td>\n",
       "      <td>NaN</td>\n",
       "      <td>NaN</td>\n",
       "      <td>NaN</td>\n",
       "      <td>NaN</td>\n",
       "      <td>NaN</td>\n",
       "      <td>NaN</td>\n",
       "      <td>NaN</td>\n",
       "      <td>NaN</td>\n",
       "      <td>NaN</td>\n",
       "      <td>NaN</td>\n",
       "      <td>NaN</td>\n",
       "      <td>NaN</td>\n",
       "      <td>1.0</td>\n",
       "      <td>NaN</td>\n",
       "      <td>NaN</td>\n",
       "      <td>NaN</td>\n",
       "      <td>NaN</td>\n",
       "      <td>NaN</td>\n",
       "      <td>NaN</td>\n",
       "      <td>NaN</td>\n",
       "      <td>NaN</td>\n",
       "      <td>NaN</td>\n",
       "      <td>NaN</td>\n",
       "      <td>NaN</td>\n",
       "      <td>NaN</td>\n",
       "      <td>NaN</td>\n",
       "      <td>NaN</td>\n",
       "      <td>NaN</td>\n",
       "      <td>NaN</td>\n",
       "      <td>NaN</td>\n",
       "      <td>NaN</td>\n",
       "      <td>NaN</td>\n",
       "      <td>NaN</td>\n",
       "      <td>NaN</td>\n",
       "      <td>NaN</td>\n",
       "      <td>NaN</td>\n",
       "      <td>NaN</td>\n",
       "      <td>NaN</td>\n",
       "      <td>NaN</td>\n",
       "      <td>NaN</td>\n",
       "      <td>NaN</td>\n",
       "      <td>NaN</td>\n",
       "      <td>NaN</td>\n",
       "      <td>NaN</td>\n",
       "      <td>NaN</td>\n",
       "      <td>NaN</td>\n",
       "      <td>NaN</td>\n",
       "      <td>NaN</td>\n",
       "      <td>NaN</td>\n",
       "      <td>NaN</td>\n",
       "    </tr>\n",
       "    <tr>\n",
       "      <th>MN</th>\n",
       "      <td>NaN</td>\n",
       "      <td>NaN</td>\n",
       "      <td>NaN</td>\n",
       "      <td>NaN</td>\n",
       "      <td>NaN</td>\n",
       "      <td>NaN</td>\n",
       "      <td>NaN</td>\n",
       "      <td>NaN</td>\n",
       "      <td>NaN</td>\n",
       "      <td>NaN</td>\n",
       "      <td>NaN</td>\n",
       "      <td>NaN</td>\n",
       "      <td>NaN</td>\n",
       "      <td>NaN</td>\n",
       "      <td>NaN</td>\n",
       "      <td>NaN</td>\n",
       "      <td>1.0</td>\n",
       "      <td>NaN</td>\n",
       "      <td>NaN</td>\n",
       "      <td>NaN</td>\n",
       "      <td>NaN</td>\n",
       "      <td>NaN</td>\n",
       "      <td>NaN</td>\n",
       "      <td>NaN</td>\n",
       "      <td>NaN</td>\n",
       "      <td>NaN</td>\n",
       "      <td>NaN</td>\n",
       "      <td>NaN</td>\n",
       "      <td>NaN</td>\n",
       "      <td>NaN</td>\n",
       "      <td>NaN</td>\n",
       "      <td>NaN</td>\n",
       "      <td>NaN</td>\n",
       "      <td>NaN</td>\n",
       "      <td>NaN</td>\n",
       "      <td>NaN</td>\n",
       "      <td>NaN</td>\n",
       "      <td>NaN</td>\n",
       "      <td>NaN</td>\n",
       "      <td>NaN</td>\n",
       "      <td>NaN</td>\n",
       "      <td>NaN</td>\n",
       "      <td>NaN</td>\n",
       "      <td>NaN</td>\n",
       "      <td>NaN</td>\n",
       "      <td>NaN</td>\n",
       "      <td>NaN</td>\n",
       "      <td>NaN</td>\n",
       "      <td>NaN</td>\n",
       "      <td>NaN</td>\n",
       "      <td>NaN</td>\n",
       "      <td>NaN</td>\n",
       "      <td>NaN</td>\n",
       "    </tr>\n",
       "    <tr>\n",
       "      <th>MO</th>\n",
       "      <td>NaN</td>\n",
       "      <td>NaN</td>\n",
       "      <td>NaN</td>\n",
       "      <td>NaN</td>\n",
       "      <td>NaN</td>\n",
       "      <td>NaN</td>\n",
       "      <td>NaN</td>\n",
       "      <td>NaN</td>\n",
       "      <td>NaN</td>\n",
       "      <td>NaN</td>\n",
       "      <td>NaN</td>\n",
       "      <td>NaN</td>\n",
       "      <td>NaN</td>\n",
       "      <td>NaN</td>\n",
       "      <td>NaN</td>\n",
       "      <td>NaN</td>\n",
       "      <td>NaN</td>\n",
       "      <td>1.0</td>\n",
       "      <td>NaN</td>\n",
       "      <td>NaN</td>\n",
       "      <td>NaN</td>\n",
       "      <td>NaN</td>\n",
       "      <td>NaN</td>\n",
       "      <td>NaN</td>\n",
       "      <td>NaN</td>\n",
       "      <td>NaN</td>\n",
       "      <td>NaN</td>\n",
       "      <td>NaN</td>\n",
       "      <td>NaN</td>\n",
       "      <td>NaN</td>\n",
       "      <td>NaN</td>\n",
       "      <td>NaN</td>\n",
       "      <td>NaN</td>\n",
       "      <td>NaN</td>\n",
       "      <td>NaN</td>\n",
       "      <td>NaN</td>\n",
       "      <td>NaN</td>\n",
       "      <td>NaN</td>\n",
       "      <td>NaN</td>\n",
       "      <td>NaN</td>\n",
       "      <td>NaN</td>\n",
       "      <td>NaN</td>\n",
       "      <td>NaN</td>\n",
       "      <td>NaN</td>\n",
       "      <td>NaN</td>\n",
       "      <td>NaN</td>\n",
       "      <td>NaN</td>\n",
       "      <td>NaN</td>\n",
       "      <td>NaN</td>\n",
       "      <td>NaN</td>\n",
       "      <td>NaN</td>\n",
       "      <td>NaN</td>\n",
       "      <td>NaN</td>\n",
       "    </tr>\n",
       "    <tr>\n",
       "      <th>NA</th>\n",
       "      <td>NaN</td>\n",
       "      <td>NaN</td>\n",
       "      <td>NaN</td>\n",
       "      <td>NaN</td>\n",
       "      <td>NaN</td>\n",
       "      <td>NaN</td>\n",
       "      <td>NaN</td>\n",
       "      <td>NaN</td>\n",
       "      <td>NaN</td>\n",
       "      <td>NaN</td>\n",
       "      <td>NaN</td>\n",
       "      <td>NaN</td>\n",
       "      <td>NaN</td>\n",
       "      <td>NaN</td>\n",
       "      <td>NaN</td>\n",
       "      <td>NaN</td>\n",
       "      <td>NaN</td>\n",
       "      <td>NaN</td>\n",
       "      <td>1.0</td>\n",
       "      <td>NaN</td>\n",
       "      <td>NaN</td>\n",
       "      <td>NaN</td>\n",
       "      <td>NaN</td>\n",
       "      <td>NaN</td>\n",
       "      <td>NaN</td>\n",
       "      <td>NaN</td>\n",
       "      <td>NaN</td>\n",
       "      <td>NaN</td>\n",
       "      <td>NaN</td>\n",
       "      <td>NaN</td>\n",
       "      <td>NaN</td>\n",
       "      <td>NaN</td>\n",
       "      <td>NaN</td>\n",
       "      <td>NaN</td>\n",
       "      <td>NaN</td>\n",
       "      <td>NaN</td>\n",
       "      <td>NaN</td>\n",
       "      <td>NaN</td>\n",
       "      <td>NaN</td>\n",
       "      <td>NaN</td>\n",
       "      <td>NaN</td>\n",
       "      <td>NaN</td>\n",
       "      <td>NaN</td>\n",
       "      <td>NaN</td>\n",
       "      <td>NaN</td>\n",
       "      <td>NaN</td>\n",
       "      <td>NaN</td>\n",
       "      <td>NaN</td>\n",
       "      <td>NaN</td>\n",
       "      <td>NaN</td>\n",
       "      <td>NaN</td>\n",
       "      <td>NaN</td>\n",
       "      <td>NaN</td>\n",
       "    </tr>\n",
       "    <tr>\n",
       "      <th>NI</th>\n",
       "      <td>NaN</td>\n",
       "      <td>NaN</td>\n",
       "      <td>NaN</td>\n",
       "      <td>NaN</td>\n",
       "      <td>NaN</td>\n",
       "      <td>NaN</td>\n",
       "      <td>NaN</td>\n",
       "      <td>NaN</td>\n",
       "      <td>NaN</td>\n",
       "      <td>NaN</td>\n",
       "      <td>NaN</td>\n",
       "      <td>NaN</td>\n",
       "      <td>NaN</td>\n",
       "      <td>NaN</td>\n",
       "      <td>NaN</td>\n",
       "      <td>NaN</td>\n",
       "      <td>NaN</td>\n",
       "      <td>NaN</td>\n",
       "      <td>NaN</td>\n",
       "      <td>1.0</td>\n",
       "      <td>NaN</td>\n",
       "      <td>NaN</td>\n",
       "      <td>NaN</td>\n",
       "      <td>NaN</td>\n",
       "      <td>NaN</td>\n",
       "      <td>NaN</td>\n",
       "      <td>NaN</td>\n",
       "      <td>NaN</td>\n",
       "      <td>NaN</td>\n",
       "      <td>NaN</td>\n",
       "      <td>NaN</td>\n",
       "      <td>NaN</td>\n",
       "      <td>NaN</td>\n",
       "      <td>NaN</td>\n",
       "      <td>NaN</td>\n",
       "      <td>NaN</td>\n",
       "      <td>NaN</td>\n",
       "      <td>NaN</td>\n",
       "      <td>NaN</td>\n",
       "      <td>NaN</td>\n",
       "      <td>NaN</td>\n",
       "      <td>NaN</td>\n",
       "      <td>NaN</td>\n",
       "      <td>NaN</td>\n",
       "      <td>NaN</td>\n",
       "      <td>NaN</td>\n",
       "      <td>NaN</td>\n",
       "      <td>NaN</td>\n",
       "      <td>NaN</td>\n",
       "      <td>NaN</td>\n",
       "      <td>NaN</td>\n",
       "      <td>NaN</td>\n",
       "      <td>NaN</td>\n",
       "    </tr>\n",
       "    <tr>\n",
       "      <th>P</th>\n",
       "      <td>NaN</td>\n",
       "      <td>NaN</td>\n",
       "      <td>NaN</td>\n",
       "      <td>NaN</td>\n",
       "      <td>NaN</td>\n",
       "      <td>NaN</td>\n",
       "      <td>NaN</td>\n",
       "      <td>NaN</td>\n",
       "      <td>NaN</td>\n",
       "      <td>NaN</td>\n",
       "      <td>NaN</td>\n",
       "      <td>NaN</td>\n",
       "      <td>NaN</td>\n",
       "      <td>NaN</td>\n",
       "      <td>NaN</td>\n",
       "      <td>NaN</td>\n",
       "      <td>NaN</td>\n",
       "      <td>NaN</td>\n",
       "      <td>NaN</td>\n",
       "      <td>NaN</td>\n",
       "      <td>1.0</td>\n",
       "      <td>NaN</td>\n",
       "      <td>NaN</td>\n",
       "      <td>NaN</td>\n",
       "      <td>NaN</td>\n",
       "      <td>NaN</td>\n",
       "      <td>NaN</td>\n",
       "      <td>NaN</td>\n",
       "      <td>NaN</td>\n",
       "      <td>NaN</td>\n",
       "      <td>NaN</td>\n",
       "      <td>NaN</td>\n",
       "      <td>NaN</td>\n",
       "      <td>NaN</td>\n",
       "      <td>NaN</td>\n",
       "      <td>NaN</td>\n",
       "      <td>NaN</td>\n",
       "      <td>NaN</td>\n",
       "      <td>NaN</td>\n",
       "      <td>NaN</td>\n",
       "      <td>NaN</td>\n",
       "      <td>NaN</td>\n",
       "      <td>NaN</td>\n",
       "      <td>NaN</td>\n",
       "      <td>NaN</td>\n",
       "      <td>NaN</td>\n",
       "      <td>NaN</td>\n",
       "      <td>NaN</td>\n",
       "      <td>NaN</td>\n",
       "      <td>NaN</td>\n",
       "      <td>NaN</td>\n",
       "      <td>NaN</td>\n",
       "      <td>NaN</td>\n",
       "    </tr>\n",
       "    <tr>\n",
       "      <th>PB</th>\n",
       "      <td>NaN</td>\n",
       "      <td>NaN</td>\n",
       "      <td>NaN</td>\n",
       "      <td>NaN</td>\n",
       "      <td>NaN</td>\n",
       "      <td>NaN</td>\n",
       "      <td>NaN</td>\n",
       "      <td>NaN</td>\n",
       "      <td>NaN</td>\n",
       "      <td>NaN</td>\n",
       "      <td>NaN</td>\n",
       "      <td>NaN</td>\n",
       "      <td>NaN</td>\n",
       "      <td>NaN</td>\n",
       "      <td>NaN</td>\n",
       "      <td>NaN</td>\n",
       "      <td>NaN</td>\n",
       "      <td>NaN</td>\n",
       "      <td>NaN</td>\n",
       "      <td>NaN</td>\n",
       "      <td>NaN</td>\n",
       "      <td>1.0</td>\n",
       "      <td>NaN</td>\n",
       "      <td>NaN</td>\n",
       "      <td>NaN</td>\n",
       "      <td>NaN</td>\n",
       "      <td>NaN</td>\n",
       "      <td>NaN</td>\n",
       "      <td>NaN</td>\n",
       "      <td>NaN</td>\n",
       "      <td>NaN</td>\n",
       "      <td>NaN</td>\n",
       "      <td>NaN</td>\n",
       "      <td>NaN</td>\n",
       "      <td>NaN</td>\n",
       "      <td>NaN</td>\n",
       "      <td>NaN</td>\n",
       "      <td>NaN</td>\n",
       "      <td>NaN</td>\n",
       "      <td>NaN</td>\n",
       "      <td>NaN</td>\n",
       "      <td>NaN</td>\n",
       "      <td>NaN</td>\n",
       "      <td>NaN</td>\n",
       "      <td>NaN</td>\n",
       "      <td>NaN</td>\n",
       "      <td>NaN</td>\n",
       "      <td>NaN</td>\n",
       "      <td>NaN</td>\n",
       "      <td>NaN</td>\n",
       "      <td>NaN</td>\n",
       "      <td>NaN</td>\n",
       "      <td>NaN</td>\n",
       "    </tr>\n",
       "    <tr>\n",
       "      <th>PQINDEX</th>\n",
       "      <td>NaN</td>\n",
       "      <td>NaN</td>\n",
       "      <td>NaN</td>\n",
       "      <td>NaN</td>\n",
       "      <td>NaN</td>\n",
       "      <td>NaN</td>\n",
       "      <td>NaN</td>\n",
       "      <td>NaN</td>\n",
       "      <td>NaN</td>\n",
       "      <td>NaN</td>\n",
       "      <td>NaN</td>\n",
       "      <td>NaN</td>\n",
       "      <td>NaN</td>\n",
       "      <td>NaN</td>\n",
       "      <td>NaN</td>\n",
       "      <td>NaN</td>\n",
       "      <td>NaN</td>\n",
       "      <td>NaN</td>\n",
       "      <td>NaN</td>\n",
       "      <td>NaN</td>\n",
       "      <td>NaN</td>\n",
       "      <td>NaN</td>\n",
       "      <td>1.0</td>\n",
       "      <td>NaN</td>\n",
       "      <td>NaN</td>\n",
       "      <td>NaN</td>\n",
       "      <td>NaN</td>\n",
       "      <td>NaN</td>\n",
       "      <td>NaN</td>\n",
       "      <td>NaN</td>\n",
       "      <td>NaN</td>\n",
       "      <td>NaN</td>\n",
       "      <td>NaN</td>\n",
       "      <td>NaN</td>\n",
       "      <td>NaN</td>\n",
       "      <td>NaN</td>\n",
       "      <td>NaN</td>\n",
       "      <td>NaN</td>\n",
       "      <td>NaN</td>\n",
       "      <td>NaN</td>\n",
       "      <td>NaN</td>\n",
       "      <td>NaN</td>\n",
       "      <td>NaN</td>\n",
       "      <td>NaN</td>\n",
       "      <td>NaN</td>\n",
       "      <td>NaN</td>\n",
       "      <td>NaN</td>\n",
       "      <td>NaN</td>\n",
       "      <td>NaN</td>\n",
       "      <td>NaN</td>\n",
       "      <td>NaN</td>\n",
       "      <td>NaN</td>\n",
       "      <td>NaN</td>\n",
       "    </tr>\n",
       "    <tr>\n",
       "      <th>S</th>\n",
       "      <td>NaN</td>\n",
       "      <td>NaN</td>\n",
       "      <td>NaN</td>\n",
       "      <td>NaN</td>\n",
       "      <td>NaN</td>\n",
       "      <td>NaN</td>\n",
       "      <td>NaN</td>\n",
       "      <td>NaN</td>\n",
       "      <td>NaN</td>\n",
       "      <td>NaN</td>\n",
       "      <td>NaN</td>\n",
       "      <td>NaN</td>\n",
       "      <td>NaN</td>\n",
       "      <td>NaN</td>\n",
       "      <td>NaN</td>\n",
       "      <td>NaN</td>\n",
       "      <td>NaN</td>\n",
       "      <td>NaN</td>\n",
       "      <td>NaN</td>\n",
       "      <td>NaN</td>\n",
       "      <td>NaN</td>\n",
       "      <td>NaN</td>\n",
       "      <td>NaN</td>\n",
       "      <td>1.0</td>\n",
       "      <td>NaN</td>\n",
       "      <td>NaN</td>\n",
       "      <td>NaN</td>\n",
       "      <td>NaN</td>\n",
       "      <td>NaN</td>\n",
       "      <td>NaN</td>\n",
       "      <td>NaN</td>\n",
       "      <td>NaN</td>\n",
       "      <td>NaN</td>\n",
       "      <td>NaN</td>\n",
       "      <td>NaN</td>\n",
       "      <td>NaN</td>\n",
       "      <td>NaN</td>\n",
       "      <td>NaN</td>\n",
       "      <td>NaN</td>\n",
       "      <td>NaN</td>\n",
       "      <td>NaN</td>\n",
       "      <td>NaN</td>\n",
       "      <td>NaN</td>\n",
       "      <td>NaN</td>\n",
       "      <td>NaN</td>\n",
       "      <td>NaN</td>\n",
       "      <td>NaN</td>\n",
       "      <td>NaN</td>\n",
       "      <td>NaN</td>\n",
       "      <td>NaN</td>\n",
       "      <td>NaN</td>\n",
       "      <td>NaN</td>\n",
       "      <td>NaN</td>\n",
       "    </tr>\n",
       "    <tr>\n",
       "      <th>SB</th>\n",
       "      <td>NaN</td>\n",
       "      <td>NaN</td>\n",
       "      <td>NaN</td>\n",
       "      <td>NaN</td>\n",
       "      <td>NaN</td>\n",
       "      <td>NaN</td>\n",
       "      <td>NaN</td>\n",
       "      <td>NaN</td>\n",
       "      <td>NaN</td>\n",
       "      <td>NaN</td>\n",
       "      <td>NaN</td>\n",
       "      <td>NaN</td>\n",
       "      <td>NaN</td>\n",
       "      <td>NaN</td>\n",
       "      <td>NaN</td>\n",
       "      <td>NaN</td>\n",
       "      <td>NaN</td>\n",
       "      <td>NaN</td>\n",
       "      <td>NaN</td>\n",
       "      <td>NaN</td>\n",
       "      <td>NaN</td>\n",
       "      <td>NaN</td>\n",
       "      <td>NaN</td>\n",
       "      <td>NaN</td>\n",
       "      <td>1.0</td>\n",
       "      <td>NaN</td>\n",
       "      <td>NaN</td>\n",
       "      <td>NaN</td>\n",
       "      <td>NaN</td>\n",
       "      <td>NaN</td>\n",
       "      <td>NaN</td>\n",
       "      <td>NaN</td>\n",
       "      <td>NaN</td>\n",
       "      <td>NaN</td>\n",
       "      <td>NaN</td>\n",
       "      <td>NaN</td>\n",
       "      <td>NaN</td>\n",
       "      <td>NaN</td>\n",
       "      <td>NaN</td>\n",
       "      <td>NaN</td>\n",
       "      <td>NaN</td>\n",
       "      <td>NaN</td>\n",
       "      <td>NaN</td>\n",
       "      <td>NaN</td>\n",
       "      <td>NaN</td>\n",
       "      <td>NaN</td>\n",
       "      <td>NaN</td>\n",
       "      <td>NaN</td>\n",
       "      <td>NaN</td>\n",
       "      <td>NaN</td>\n",
       "      <td>NaN</td>\n",
       "      <td>NaN</td>\n",
       "      <td>NaN</td>\n",
       "    </tr>\n",
       "    <tr>\n",
       "      <th>SI</th>\n",
       "      <td>NaN</td>\n",
       "      <td>NaN</td>\n",
       "      <td>NaN</td>\n",
       "      <td>NaN</td>\n",
       "      <td>NaN</td>\n",
       "      <td>NaN</td>\n",
       "      <td>NaN</td>\n",
       "      <td>NaN</td>\n",
       "      <td>NaN</td>\n",
       "      <td>NaN</td>\n",
       "      <td>NaN</td>\n",
       "      <td>NaN</td>\n",
       "      <td>NaN</td>\n",
       "      <td>NaN</td>\n",
       "      <td>NaN</td>\n",
       "      <td>NaN</td>\n",
       "      <td>NaN</td>\n",
       "      <td>NaN</td>\n",
       "      <td>NaN</td>\n",
       "      <td>NaN</td>\n",
       "      <td>NaN</td>\n",
       "      <td>NaN</td>\n",
       "      <td>NaN</td>\n",
       "      <td>NaN</td>\n",
       "      <td>NaN</td>\n",
       "      <td>1.0</td>\n",
       "      <td>NaN</td>\n",
       "      <td>NaN</td>\n",
       "      <td>NaN</td>\n",
       "      <td>NaN</td>\n",
       "      <td>NaN</td>\n",
       "      <td>NaN</td>\n",
       "      <td>NaN</td>\n",
       "      <td>NaN</td>\n",
       "      <td>NaN</td>\n",
       "      <td>NaN</td>\n",
       "      <td>NaN</td>\n",
       "      <td>NaN</td>\n",
       "      <td>NaN</td>\n",
       "      <td>NaN</td>\n",
       "      <td>NaN</td>\n",
       "      <td>NaN</td>\n",
       "      <td>NaN</td>\n",
       "      <td>NaN</td>\n",
       "      <td>NaN</td>\n",
       "      <td>NaN</td>\n",
       "      <td>NaN</td>\n",
       "      <td>NaN</td>\n",
       "      <td>NaN</td>\n",
       "      <td>NaN</td>\n",
       "      <td>NaN</td>\n",
       "      <td>NaN</td>\n",
       "      <td>NaN</td>\n",
       "    </tr>\n",
       "    <tr>\n",
       "      <th>SN</th>\n",
       "      <td>NaN</td>\n",
       "      <td>NaN</td>\n",
       "      <td>NaN</td>\n",
       "      <td>NaN</td>\n",
       "      <td>NaN</td>\n",
       "      <td>NaN</td>\n",
       "      <td>NaN</td>\n",
       "      <td>NaN</td>\n",
       "      <td>NaN</td>\n",
       "      <td>NaN</td>\n",
       "      <td>NaN</td>\n",
       "      <td>NaN</td>\n",
       "      <td>NaN</td>\n",
       "      <td>NaN</td>\n",
       "      <td>NaN</td>\n",
       "      <td>NaN</td>\n",
       "      <td>NaN</td>\n",
       "      <td>NaN</td>\n",
       "      <td>NaN</td>\n",
       "      <td>NaN</td>\n",
       "      <td>NaN</td>\n",
       "      <td>NaN</td>\n",
       "      <td>NaN</td>\n",
       "      <td>NaN</td>\n",
       "      <td>NaN</td>\n",
       "      <td>NaN</td>\n",
       "      <td>1.0</td>\n",
       "      <td>NaN</td>\n",
       "      <td>NaN</td>\n",
       "      <td>NaN</td>\n",
       "      <td>NaN</td>\n",
       "      <td>NaN</td>\n",
       "      <td>NaN</td>\n",
       "      <td>NaN</td>\n",
       "      <td>NaN</td>\n",
       "      <td>NaN</td>\n",
       "      <td>NaN</td>\n",
       "      <td>NaN</td>\n",
       "      <td>NaN</td>\n",
       "      <td>NaN</td>\n",
       "      <td>NaN</td>\n",
       "      <td>NaN</td>\n",
       "      <td>NaN</td>\n",
       "      <td>NaN</td>\n",
       "      <td>NaN</td>\n",
       "      <td>NaN</td>\n",
       "      <td>NaN</td>\n",
       "      <td>NaN</td>\n",
       "      <td>NaN</td>\n",
       "      <td>NaN</td>\n",
       "      <td>NaN</td>\n",
       "      <td>NaN</td>\n",
       "      <td>NaN</td>\n",
       "    </tr>\n",
       "    <tr>\n",
       "      <th>TI</th>\n",
       "      <td>NaN</td>\n",
       "      <td>NaN</td>\n",
       "      <td>NaN</td>\n",
       "      <td>NaN</td>\n",
       "      <td>NaN</td>\n",
       "      <td>NaN</td>\n",
       "      <td>NaN</td>\n",
       "      <td>NaN</td>\n",
       "      <td>NaN</td>\n",
       "      <td>NaN</td>\n",
       "      <td>NaN</td>\n",
       "      <td>NaN</td>\n",
       "      <td>NaN</td>\n",
       "      <td>NaN</td>\n",
       "      <td>NaN</td>\n",
       "      <td>NaN</td>\n",
       "      <td>NaN</td>\n",
       "      <td>NaN</td>\n",
       "      <td>NaN</td>\n",
       "      <td>NaN</td>\n",
       "      <td>NaN</td>\n",
       "      <td>NaN</td>\n",
       "      <td>NaN</td>\n",
       "      <td>NaN</td>\n",
       "      <td>NaN</td>\n",
       "      <td>NaN</td>\n",
       "      <td>NaN</td>\n",
       "      <td>1.0</td>\n",
       "      <td>NaN</td>\n",
       "      <td>NaN</td>\n",
       "      <td>NaN</td>\n",
       "      <td>NaN</td>\n",
       "      <td>NaN</td>\n",
       "      <td>NaN</td>\n",
       "      <td>NaN</td>\n",
       "      <td>NaN</td>\n",
       "      <td>NaN</td>\n",
       "      <td>NaN</td>\n",
       "      <td>NaN</td>\n",
       "      <td>NaN</td>\n",
       "      <td>NaN</td>\n",
       "      <td>NaN</td>\n",
       "      <td>NaN</td>\n",
       "      <td>NaN</td>\n",
       "      <td>NaN</td>\n",
       "      <td>NaN</td>\n",
       "      <td>NaN</td>\n",
       "      <td>NaN</td>\n",
       "      <td>NaN</td>\n",
       "      <td>NaN</td>\n",
       "      <td>NaN</td>\n",
       "      <td>NaN</td>\n",
       "      <td>NaN</td>\n",
       "    </tr>\n",
       "    <tr>\n",
       "      <th>V</th>\n",
       "      <td>NaN</td>\n",
       "      <td>NaN</td>\n",
       "      <td>NaN</td>\n",
       "      <td>NaN</td>\n",
       "      <td>NaN</td>\n",
       "      <td>NaN</td>\n",
       "      <td>NaN</td>\n",
       "      <td>NaN</td>\n",
       "      <td>NaN</td>\n",
       "      <td>NaN</td>\n",
       "      <td>NaN</td>\n",
       "      <td>NaN</td>\n",
       "      <td>NaN</td>\n",
       "      <td>NaN</td>\n",
       "      <td>NaN</td>\n",
       "      <td>NaN</td>\n",
       "      <td>NaN</td>\n",
       "      <td>NaN</td>\n",
       "      <td>NaN</td>\n",
       "      <td>NaN</td>\n",
       "      <td>NaN</td>\n",
       "      <td>NaN</td>\n",
       "      <td>NaN</td>\n",
       "      <td>NaN</td>\n",
       "      <td>NaN</td>\n",
       "      <td>NaN</td>\n",
       "      <td>NaN</td>\n",
       "      <td>NaN</td>\n",
       "      <td>1.0</td>\n",
       "      <td>NaN</td>\n",
       "      <td>NaN</td>\n",
       "      <td>NaN</td>\n",
       "      <td>NaN</td>\n",
       "      <td>NaN</td>\n",
       "      <td>NaN</td>\n",
       "      <td>NaN</td>\n",
       "      <td>NaN</td>\n",
       "      <td>NaN</td>\n",
       "      <td>NaN</td>\n",
       "      <td>NaN</td>\n",
       "      <td>NaN</td>\n",
       "      <td>NaN</td>\n",
       "      <td>NaN</td>\n",
       "      <td>NaN</td>\n",
       "      <td>NaN</td>\n",
       "      <td>NaN</td>\n",
       "      <td>NaN</td>\n",
       "      <td>NaN</td>\n",
       "      <td>NaN</td>\n",
       "      <td>NaN</td>\n",
       "      <td>NaN</td>\n",
       "      <td>NaN</td>\n",
       "      <td>NaN</td>\n",
       "    </tr>\n",
       "    <tr>\n",
       "      <th>V40</th>\n",
       "      <td>NaN</td>\n",
       "      <td>NaN</td>\n",
       "      <td>NaN</td>\n",
       "      <td>NaN</td>\n",
       "      <td>NaN</td>\n",
       "      <td>NaN</td>\n",
       "      <td>NaN</td>\n",
       "      <td>NaN</td>\n",
       "      <td>NaN</td>\n",
       "      <td>NaN</td>\n",
       "      <td>NaN</td>\n",
       "      <td>NaN</td>\n",
       "      <td>NaN</td>\n",
       "      <td>NaN</td>\n",
       "      <td>NaN</td>\n",
       "      <td>NaN</td>\n",
       "      <td>NaN</td>\n",
       "      <td>NaN</td>\n",
       "      <td>NaN</td>\n",
       "      <td>NaN</td>\n",
       "      <td>NaN</td>\n",
       "      <td>NaN</td>\n",
       "      <td>NaN</td>\n",
       "      <td>NaN</td>\n",
       "      <td>NaN</td>\n",
       "      <td>NaN</td>\n",
       "      <td>NaN</td>\n",
       "      <td>NaN</td>\n",
       "      <td>NaN</td>\n",
       "      <td>1.0</td>\n",
       "      <td>NaN</td>\n",
       "      <td>NaN</td>\n",
       "      <td>NaN</td>\n",
       "      <td>NaN</td>\n",
       "      <td>NaN</td>\n",
       "      <td>NaN</td>\n",
       "      <td>NaN</td>\n",
       "      <td>NaN</td>\n",
       "      <td>NaN</td>\n",
       "      <td>NaN</td>\n",
       "      <td>NaN</td>\n",
       "      <td>NaN</td>\n",
       "      <td>NaN</td>\n",
       "      <td>NaN</td>\n",
       "      <td>NaN</td>\n",
       "      <td>NaN</td>\n",
       "      <td>NaN</td>\n",
       "      <td>NaN</td>\n",
       "      <td>NaN</td>\n",
       "      <td>NaN</td>\n",
       "      <td>NaN</td>\n",
       "      <td>NaN</td>\n",
       "      <td>NaN</td>\n",
       "    </tr>\n",
       "    <tr>\n",
       "      <th>K</th>\n",
       "      <td>NaN</td>\n",
       "      <td>NaN</td>\n",
       "      <td>NaN</td>\n",
       "      <td>NaN</td>\n",
       "      <td>NaN</td>\n",
       "      <td>NaN</td>\n",
       "      <td>NaN</td>\n",
       "      <td>NaN</td>\n",
       "      <td>NaN</td>\n",
       "      <td>NaN</td>\n",
       "      <td>NaN</td>\n",
       "      <td>NaN</td>\n",
       "      <td>NaN</td>\n",
       "      <td>NaN</td>\n",
       "      <td>NaN</td>\n",
       "      <td>NaN</td>\n",
       "      <td>NaN</td>\n",
       "      <td>NaN</td>\n",
       "      <td>NaN</td>\n",
       "      <td>NaN</td>\n",
       "      <td>NaN</td>\n",
       "      <td>NaN</td>\n",
       "      <td>NaN</td>\n",
       "      <td>NaN</td>\n",
       "      <td>NaN</td>\n",
       "      <td>NaN</td>\n",
       "      <td>NaN</td>\n",
       "      <td>NaN</td>\n",
       "      <td>NaN</td>\n",
       "      <td>NaN</td>\n",
       "      <td>1.0</td>\n",
       "      <td>NaN</td>\n",
       "      <td>NaN</td>\n",
       "      <td>NaN</td>\n",
       "      <td>NaN</td>\n",
       "      <td>NaN</td>\n",
       "      <td>NaN</td>\n",
       "      <td>NaN</td>\n",
       "      <td>NaN</td>\n",
       "      <td>NaN</td>\n",
       "      <td>NaN</td>\n",
       "      <td>NaN</td>\n",
       "      <td>NaN</td>\n",
       "      <td>NaN</td>\n",
       "      <td>NaN</td>\n",
       "      <td>NaN</td>\n",
       "      <td>NaN</td>\n",
       "      <td>NaN</td>\n",
       "      <td>NaN</td>\n",
       "      <td>NaN</td>\n",
       "      <td>NaN</td>\n",
       "      <td>NaN</td>\n",
       "      <td>NaN</td>\n",
       "    </tr>\n",
       "    <tr>\n",
       "      <th>CD</th>\n",
       "      <td>NaN</td>\n",
       "      <td>NaN</td>\n",
       "      <td>NaN</td>\n",
       "      <td>NaN</td>\n",
       "      <td>NaN</td>\n",
       "      <td>NaN</td>\n",
       "      <td>NaN</td>\n",
       "      <td>NaN</td>\n",
       "      <td>NaN</td>\n",
       "      <td>NaN</td>\n",
       "      <td>NaN</td>\n",
       "      <td>NaN</td>\n",
       "      <td>NaN</td>\n",
       "      <td>NaN</td>\n",
       "      <td>NaN</td>\n",
       "      <td>NaN</td>\n",
       "      <td>NaN</td>\n",
       "      <td>NaN</td>\n",
       "      <td>NaN</td>\n",
       "      <td>NaN</td>\n",
       "      <td>NaN</td>\n",
       "      <td>NaN</td>\n",
       "      <td>NaN</td>\n",
       "      <td>NaN</td>\n",
       "      <td>NaN</td>\n",
       "      <td>NaN</td>\n",
       "      <td>NaN</td>\n",
       "      <td>NaN</td>\n",
       "      <td>NaN</td>\n",
       "      <td>NaN</td>\n",
       "      <td>NaN</td>\n",
       "      <td>1.0</td>\n",
       "      <td>NaN</td>\n",
       "      <td>NaN</td>\n",
       "      <td>NaN</td>\n",
       "      <td>NaN</td>\n",
       "      <td>NaN</td>\n",
       "      <td>NaN</td>\n",
       "      <td>NaN</td>\n",
       "      <td>NaN</td>\n",
       "      <td>NaN</td>\n",
       "      <td>NaN</td>\n",
       "      <td>NaN</td>\n",
       "      <td>NaN</td>\n",
       "      <td>NaN</td>\n",
       "      <td>NaN</td>\n",
       "      <td>NaN</td>\n",
       "      <td>NaN</td>\n",
       "      <td>NaN</td>\n",
       "      <td>NaN</td>\n",
       "      <td>NaN</td>\n",
       "      <td>NaN</td>\n",
       "      <td>NaN</td>\n",
       "    </tr>\n",
       "    <tr>\n",
       "      <th>ZN</th>\n",
       "      <td>NaN</td>\n",
       "      <td>NaN</td>\n",
       "      <td>NaN</td>\n",
       "      <td>NaN</td>\n",
       "      <td>NaN</td>\n",
       "      <td>NaN</td>\n",
       "      <td>NaN</td>\n",
       "      <td>NaN</td>\n",
       "      <td>NaN</td>\n",
       "      <td>NaN</td>\n",
       "      <td>NaN</td>\n",
       "      <td>NaN</td>\n",
       "      <td>NaN</td>\n",
       "      <td>NaN</td>\n",
       "      <td>NaN</td>\n",
       "      <td>NaN</td>\n",
       "      <td>NaN</td>\n",
       "      <td>NaN</td>\n",
       "      <td>NaN</td>\n",
       "      <td>NaN</td>\n",
       "      <td>NaN</td>\n",
       "      <td>NaN</td>\n",
       "      <td>NaN</td>\n",
       "      <td>NaN</td>\n",
       "      <td>NaN</td>\n",
       "      <td>NaN</td>\n",
       "      <td>NaN</td>\n",
       "      <td>NaN</td>\n",
       "      <td>NaN</td>\n",
       "      <td>NaN</td>\n",
       "      <td>NaN</td>\n",
       "      <td>NaN</td>\n",
       "      <td>1.0</td>\n",
       "      <td>NaN</td>\n",
       "      <td>NaN</td>\n",
       "      <td>NaN</td>\n",
       "      <td>NaN</td>\n",
       "      <td>NaN</td>\n",
       "      <td>NaN</td>\n",
       "      <td>NaN</td>\n",
       "      <td>NaN</td>\n",
       "      <td>NaN</td>\n",
       "      <td>NaN</td>\n",
       "      <td>NaN</td>\n",
       "      <td>NaN</td>\n",
       "      <td>NaN</td>\n",
       "      <td>NaN</td>\n",
       "      <td>NaN</td>\n",
       "      <td>NaN</td>\n",
       "      <td>NaN</td>\n",
       "      <td>NaN</td>\n",
       "      <td>NaN</td>\n",
       "      <td>NaN</td>\n",
       "    </tr>\n",
       "    <tr>\n",
       "      <th>COMPONENT1</th>\n",
       "      <td>NaN</td>\n",
       "      <td>NaN</td>\n",
       "      <td>NaN</td>\n",
       "      <td>NaN</td>\n",
       "      <td>NaN</td>\n",
       "      <td>NaN</td>\n",
       "      <td>NaN</td>\n",
       "      <td>NaN</td>\n",
       "      <td>NaN</td>\n",
       "      <td>NaN</td>\n",
       "      <td>NaN</td>\n",
       "      <td>NaN</td>\n",
       "      <td>NaN</td>\n",
       "      <td>NaN</td>\n",
       "      <td>NaN</td>\n",
       "      <td>NaN</td>\n",
       "      <td>NaN</td>\n",
       "      <td>NaN</td>\n",
       "      <td>NaN</td>\n",
       "      <td>NaN</td>\n",
       "      <td>NaN</td>\n",
       "      <td>NaN</td>\n",
       "      <td>NaN</td>\n",
       "      <td>NaN</td>\n",
       "      <td>NaN</td>\n",
       "      <td>NaN</td>\n",
       "      <td>NaN</td>\n",
       "      <td>NaN</td>\n",
       "      <td>NaN</td>\n",
       "      <td>NaN</td>\n",
       "      <td>NaN</td>\n",
       "      <td>NaN</td>\n",
       "      <td>NaN</td>\n",
       "      <td>1.0</td>\n",
       "      <td>NaN</td>\n",
       "      <td>NaN</td>\n",
       "      <td>NaN</td>\n",
       "      <td>NaN</td>\n",
       "      <td>NaN</td>\n",
       "      <td>NaN</td>\n",
       "      <td>NaN</td>\n",
       "      <td>NaN</td>\n",
       "      <td>NaN</td>\n",
       "      <td>NaN</td>\n",
       "      <td>NaN</td>\n",
       "      <td>NaN</td>\n",
       "      <td>NaN</td>\n",
       "      <td>NaN</td>\n",
       "      <td>NaN</td>\n",
       "      <td>NaN</td>\n",
       "      <td>NaN</td>\n",
       "      <td>NaN</td>\n",
       "      <td>NaN</td>\n",
       "    </tr>\n",
       "    <tr>\n",
       "      <th>COMPONENT2</th>\n",
       "      <td>NaN</td>\n",
       "      <td>NaN</td>\n",
       "      <td>NaN</td>\n",
       "      <td>NaN</td>\n",
       "      <td>NaN</td>\n",
       "      <td>NaN</td>\n",
       "      <td>NaN</td>\n",
       "      <td>NaN</td>\n",
       "      <td>NaN</td>\n",
       "      <td>NaN</td>\n",
       "      <td>NaN</td>\n",
       "      <td>NaN</td>\n",
       "      <td>NaN</td>\n",
       "      <td>NaN</td>\n",
       "      <td>NaN</td>\n",
       "      <td>NaN</td>\n",
       "      <td>NaN</td>\n",
       "      <td>NaN</td>\n",
       "      <td>NaN</td>\n",
       "      <td>NaN</td>\n",
       "      <td>NaN</td>\n",
       "      <td>NaN</td>\n",
       "      <td>NaN</td>\n",
       "      <td>NaN</td>\n",
       "      <td>NaN</td>\n",
       "      <td>NaN</td>\n",
       "      <td>NaN</td>\n",
       "      <td>NaN</td>\n",
       "      <td>NaN</td>\n",
       "      <td>NaN</td>\n",
       "      <td>NaN</td>\n",
       "      <td>NaN</td>\n",
       "      <td>NaN</td>\n",
       "      <td>NaN</td>\n",
       "      <td>1.0</td>\n",
       "      <td>NaN</td>\n",
       "      <td>NaN</td>\n",
       "      <td>NaN</td>\n",
       "      <td>NaN</td>\n",
       "      <td>NaN</td>\n",
       "      <td>NaN</td>\n",
       "      <td>NaN</td>\n",
       "      <td>NaN</td>\n",
       "      <td>NaN</td>\n",
       "      <td>NaN</td>\n",
       "      <td>NaN</td>\n",
       "      <td>NaN</td>\n",
       "      <td>NaN</td>\n",
       "      <td>NaN</td>\n",
       "      <td>NaN</td>\n",
       "      <td>NaN</td>\n",
       "      <td>NaN</td>\n",
       "      <td>NaN</td>\n",
       "    </tr>\n",
       "    <tr>\n",
       "      <th>COMPONENT3</th>\n",
       "      <td>NaN</td>\n",
       "      <td>NaN</td>\n",
       "      <td>NaN</td>\n",
       "      <td>NaN</td>\n",
       "      <td>NaN</td>\n",
       "      <td>NaN</td>\n",
       "      <td>NaN</td>\n",
       "      <td>NaN</td>\n",
       "      <td>NaN</td>\n",
       "      <td>NaN</td>\n",
       "      <td>NaN</td>\n",
       "      <td>NaN</td>\n",
       "      <td>NaN</td>\n",
       "      <td>NaN</td>\n",
       "      <td>NaN</td>\n",
       "      <td>NaN</td>\n",
       "      <td>NaN</td>\n",
       "      <td>NaN</td>\n",
       "      <td>NaN</td>\n",
       "      <td>NaN</td>\n",
       "      <td>NaN</td>\n",
       "      <td>NaN</td>\n",
       "      <td>NaN</td>\n",
       "      <td>NaN</td>\n",
       "      <td>NaN</td>\n",
       "      <td>NaN</td>\n",
       "      <td>NaN</td>\n",
       "      <td>NaN</td>\n",
       "      <td>NaN</td>\n",
       "      <td>NaN</td>\n",
       "      <td>NaN</td>\n",
       "      <td>NaN</td>\n",
       "      <td>NaN</td>\n",
       "      <td>NaN</td>\n",
       "      <td>NaN</td>\n",
       "      <td>1.0</td>\n",
       "      <td>NaN</td>\n",
       "      <td>NaN</td>\n",
       "      <td>NaN</td>\n",
       "      <td>NaN</td>\n",
       "      <td>NaN</td>\n",
       "      <td>NaN</td>\n",
       "      <td>NaN</td>\n",
       "      <td>NaN</td>\n",
       "      <td>NaN</td>\n",
       "      <td>NaN</td>\n",
       "      <td>NaN</td>\n",
       "      <td>NaN</td>\n",
       "      <td>NaN</td>\n",
       "      <td>NaN</td>\n",
       "      <td>NaN</td>\n",
       "      <td>NaN</td>\n",
       "      <td>NaN</td>\n",
       "    </tr>\n",
       "    <tr>\n",
       "      <th>COMPONENT4</th>\n",
       "      <td>NaN</td>\n",
       "      <td>NaN</td>\n",
       "      <td>NaN</td>\n",
       "      <td>NaN</td>\n",
       "      <td>NaN</td>\n",
       "      <td>NaN</td>\n",
       "      <td>NaN</td>\n",
       "      <td>NaN</td>\n",
       "      <td>NaN</td>\n",
       "      <td>NaN</td>\n",
       "      <td>NaN</td>\n",
       "      <td>NaN</td>\n",
       "      <td>NaN</td>\n",
       "      <td>NaN</td>\n",
       "      <td>NaN</td>\n",
       "      <td>NaN</td>\n",
       "      <td>NaN</td>\n",
       "      <td>NaN</td>\n",
       "      <td>NaN</td>\n",
       "      <td>NaN</td>\n",
       "      <td>NaN</td>\n",
       "      <td>NaN</td>\n",
       "      <td>NaN</td>\n",
       "      <td>NaN</td>\n",
       "      <td>NaN</td>\n",
       "      <td>NaN</td>\n",
       "      <td>NaN</td>\n",
       "      <td>NaN</td>\n",
       "      <td>NaN</td>\n",
       "      <td>NaN</td>\n",
       "      <td>NaN</td>\n",
       "      <td>NaN</td>\n",
       "      <td>NaN</td>\n",
       "      <td>NaN</td>\n",
       "      <td>NaN</td>\n",
       "      <td>NaN</td>\n",
       "      <td>1.0</td>\n",
       "      <td>NaN</td>\n",
       "      <td>NaN</td>\n",
       "      <td>NaN</td>\n",
       "      <td>NaN</td>\n",
       "      <td>NaN</td>\n",
       "      <td>NaN</td>\n",
       "      <td>NaN</td>\n",
       "      <td>NaN</td>\n",
       "      <td>NaN</td>\n",
       "      <td>NaN</td>\n",
       "      <td>NaN</td>\n",
       "      <td>NaN</td>\n",
       "      <td>NaN</td>\n",
       "      <td>NaN</td>\n",
       "      <td>NaN</td>\n",
       "      <td>NaN</td>\n",
       "    </tr>\n",
       "    <tr>\n",
       "      <th>2007</th>\n",
       "      <td>NaN</td>\n",
       "      <td>NaN</td>\n",
       "      <td>NaN</td>\n",
       "      <td>NaN</td>\n",
       "      <td>NaN</td>\n",
       "      <td>NaN</td>\n",
       "      <td>NaN</td>\n",
       "      <td>NaN</td>\n",
       "      <td>NaN</td>\n",
       "      <td>NaN</td>\n",
       "      <td>NaN</td>\n",
       "      <td>NaN</td>\n",
       "      <td>NaN</td>\n",
       "      <td>NaN</td>\n",
       "      <td>NaN</td>\n",
       "      <td>NaN</td>\n",
       "      <td>NaN</td>\n",
       "      <td>NaN</td>\n",
       "      <td>NaN</td>\n",
       "      <td>NaN</td>\n",
       "      <td>NaN</td>\n",
       "      <td>NaN</td>\n",
       "      <td>NaN</td>\n",
       "      <td>NaN</td>\n",
       "      <td>NaN</td>\n",
       "      <td>NaN</td>\n",
       "      <td>NaN</td>\n",
       "      <td>NaN</td>\n",
       "      <td>NaN</td>\n",
       "      <td>NaN</td>\n",
       "      <td>NaN</td>\n",
       "      <td>NaN</td>\n",
       "      <td>NaN</td>\n",
       "      <td>NaN</td>\n",
       "      <td>NaN</td>\n",
       "      <td>NaN</td>\n",
       "      <td>NaN</td>\n",
       "      <td>1.0</td>\n",
       "      <td>NaN</td>\n",
       "      <td>NaN</td>\n",
       "      <td>NaN</td>\n",
       "      <td>NaN</td>\n",
       "      <td>NaN</td>\n",
       "      <td>NaN</td>\n",
       "      <td>NaN</td>\n",
       "      <td>NaN</td>\n",
       "      <td>NaN</td>\n",
       "      <td>NaN</td>\n",
       "      <td>NaN</td>\n",
       "      <td>NaN</td>\n",
       "      <td>NaN</td>\n",
       "      <td>NaN</td>\n",
       "      <td>NaN</td>\n",
       "    </tr>\n",
       "    <tr>\n",
       "      <th>2008</th>\n",
       "      <td>NaN</td>\n",
       "      <td>NaN</td>\n",
       "      <td>NaN</td>\n",
       "      <td>NaN</td>\n",
       "      <td>NaN</td>\n",
       "      <td>NaN</td>\n",
       "      <td>NaN</td>\n",
       "      <td>NaN</td>\n",
       "      <td>NaN</td>\n",
       "      <td>NaN</td>\n",
       "      <td>NaN</td>\n",
       "      <td>NaN</td>\n",
       "      <td>NaN</td>\n",
       "      <td>NaN</td>\n",
       "      <td>NaN</td>\n",
       "      <td>NaN</td>\n",
       "      <td>NaN</td>\n",
       "      <td>NaN</td>\n",
       "      <td>NaN</td>\n",
       "      <td>NaN</td>\n",
       "      <td>NaN</td>\n",
       "      <td>NaN</td>\n",
       "      <td>NaN</td>\n",
       "      <td>NaN</td>\n",
       "      <td>NaN</td>\n",
       "      <td>NaN</td>\n",
       "      <td>NaN</td>\n",
       "      <td>NaN</td>\n",
       "      <td>NaN</td>\n",
       "      <td>NaN</td>\n",
       "      <td>NaN</td>\n",
       "      <td>NaN</td>\n",
       "      <td>NaN</td>\n",
       "      <td>NaN</td>\n",
       "      <td>NaN</td>\n",
       "      <td>NaN</td>\n",
       "      <td>NaN</td>\n",
       "      <td>NaN</td>\n",
       "      <td>1.0</td>\n",
       "      <td>NaN</td>\n",
       "      <td>NaN</td>\n",
       "      <td>NaN</td>\n",
       "      <td>NaN</td>\n",
       "      <td>NaN</td>\n",
       "      <td>NaN</td>\n",
       "      <td>NaN</td>\n",
       "      <td>NaN</td>\n",
       "      <td>NaN</td>\n",
       "      <td>NaN</td>\n",
       "      <td>NaN</td>\n",
       "      <td>NaN</td>\n",
       "      <td>NaN</td>\n",
       "      <td>NaN</td>\n",
       "    </tr>\n",
       "    <tr>\n",
       "      <th>2009</th>\n",
       "      <td>NaN</td>\n",
       "      <td>NaN</td>\n",
       "      <td>NaN</td>\n",
       "      <td>NaN</td>\n",
       "      <td>NaN</td>\n",
       "      <td>NaN</td>\n",
       "      <td>NaN</td>\n",
       "      <td>NaN</td>\n",
       "      <td>NaN</td>\n",
       "      <td>NaN</td>\n",
       "      <td>NaN</td>\n",
       "      <td>NaN</td>\n",
       "      <td>NaN</td>\n",
       "      <td>NaN</td>\n",
       "      <td>NaN</td>\n",
       "      <td>NaN</td>\n",
       "      <td>NaN</td>\n",
       "      <td>NaN</td>\n",
       "      <td>NaN</td>\n",
       "      <td>NaN</td>\n",
       "      <td>NaN</td>\n",
       "      <td>NaN</td>\n",
       "      <td>NaN</td>\n",
       "      <td>NaN</td>\n",
       "      <td>NaN</td>\n",
       "      <td>NaN</td>\n",
       "      <td>NaN</td>\n",
       "      <td>NaN</td>\n",
       "      <td>NaN</td>\n",
       "      <td>NaN</td>\n",
       "      <td>NaN</td>\n",
       "      <td>NaN</td>\n",
       "      <td>NaN</td>\n",
       "      <td>NaN</td>\n",
       "      <td>NaN</td>\n",
       "      <td>NaN</td>\n",
       "      <td>NaN</td>\n",
       "      <td>NaN</td>\n",
       "      <td>NaN</td>\n",
       "      <td>1.0</td>\n",
       "      <td>NaN</td>\n",
       "      <td>NaN</td>\n",
       "      <td>NaN</td>\n",
       "      <td>NaN</td>\n",
       "      <td>NaN</td>\n",
       "      <td>NaN</td>\n",
       "      <td>NaN</td>\n",
       "      <td>NaN</td>\n",
       "      <td>NaN</td>\n",
       "      <td>NaN</td>\n",
       "      <td>NaN</td>\n",
       "      <td>NaN</td>\n",
       "      <td>NaN</td>\n",
       "    </tr>\n",
       "    <tr>\n",
       "      <th>2010</th>\n",
       "      <td>NaN</td>\n",
       "      <td>NaN</td>\n",
       "      <td>NaN</td>\n",
       "      <td>NaN</td>\n",
       "      <td>NaN</td>\n",
       "      <td>NaN</td>\n",
       "      <td>NaN</td>\n",
       "      <td>NaN</td>\n",
       "      <td>NaN</td>\n",
       "      <td>NaN</td>\n",
       "      <td>NaN</td>\n",
       "      <td>NaN</td>\n",
       "      <td>NaN</td>\n",
       "      <td>NaN</td>\n",
       "      <td>NaN</td>\n",
       "      <td>NaN</td>\n",
       "      <td>NaN</td>\n",
       "      <td>NaN</td>\n",
       "      <td>NaN</td>\n",
       "      <td>NaN</td>\n",
       "      <td>NaN</td>\n",
       "      <td>NaN</td>\n",
       "      <td>NaN</td>\n",
       "      <td>NaN</td>\n",
       "      <td>NaN</td>\n",
       "      <td>NaN</td>\n",
       "      <td>NaN</td>\n",
       "      <td>NaN</td>\n",
       "      <td>NaN</td>\n",
       "      <td>NaN</td>\n",
       "      <td>NaN</td>\n",
       "      <td>NaN</td>\n",
       "      <td>NaN</td>\n",
       "      <td>NaN</td>\n",
       "      <td>NaN</td>\n",
       "      <td>NaN</td>\n",
       "      <td>NaN</td>\n",
       "      <td>NaN</td>\n",
       "      <td>NaN</td>\n",
       "      <td>NaN</td>\n",
       "      <td>1.0</td>\n",
       "      <td>NaN</td>\n",
       "      <td>NaN</td>\n",
       "      <td>NaN</td>\n",
       "      <td>NaN</td>\n",
       "      <td>NaN</td>\n",
       "      <td>NaN</td>\n",
       "      <td>NaN</td>\n",
       "      <td>NaN</td>\n",
       "      <td>NaN</td>\n",
       "      <td>NaN</td>\n",
       "      <td>NaN</td>\n",
       "      <td>NaN</td>\n",
       "    </tr>\n",
       "    <tr>\n",
       "      <th>2011</th>\n",
       "      <td>NaN</td>\n",
       "      <td>NaN</td>\n",
       "      <td>NaN</td>\n",
       "      <td>NaN</td>\n",
       "      <td>NaN</td>\n",
       "      <td>NaN</td>\n",
       "      <td>NaN</td>\n",
       "      <td>NaN</td>\n",
       "      <td>NaN</td>\n",
       "      <td>NaN</td>\n",
       "      <td>NaN</td>\n",
       "      <td>NaN</td>\n",
       "      <td>NaN</td>\n",
       "      <td>NaN</td>\n",
       "      <td>NaN</td>\n",
       "      <td>NaN</td>\n",
       "      <td>NaN</td>\n",
       "      <td>NaN</td>\n",
       "      <td>NaN</td>\n",
       "      <td>NaN</td>\n",
       "      <td>NaN</td>\n",
       "      <td>NaN</td>\n",
       "      <td>NaN</td>\n",
       "      <td>NaN</td>\n",
       "      <td>NaN</td>\n",
       "      <td>NaN</td>\n",
       "      <td>NaN</td>\n",
       "      <td>NaN</td>\n",
       "      <td>NaN</td>\n",
       "      <td>NaN</td>\n",
       "      <td>NaN</td>\n",
       "      <td>NaN</td>\n",
       "      <td>NaN</td>\n",
       "      <td>NaN</td>\n",
       "      <td>NaN</td>\n",
       "      <td>NaN</td>\n",
       "      <td>NaN</td>\n",
       "      <td>NaN</td>\n",
       "      <td>NaN</td>\n",
       "      <td>NaN</td>\n",
       "      <td>NaN</td>\n",
       "      <td>1.0</td>\n",
       "      <td>NaN</td>\n",
       "      <td>NaN</td>\n",
       "      <td>NaN</td>\n",
       "      <td>NaN</td>\n",
       "      <td>NaN</td>\n",
       "      <td>NaN</td>\n",
       "      <td>NaN</td>\n",
       "      <td>NaN</td>\n",
       "      <td>NaN</td>\n",
       "      <td>NaN</td>\n",
       "      <td>NaN</td>\n",
       "    </tr>\n",
       "    <tr>\n",
       "      <th>2012</th>\n",
       "      <td>NaN</td>\n",
       "      <td>NaN</td>\n",
       "      <td>NaN</td>\n",
       "      <td>NaN</td>\n",
       "      <td>NaN</td>\n",
       "      <td>NaN</td>\n",
       "      <td>NaN</td>\n",
       "      <td>NaN</td>\n",
       "      <td>NaN</td>\n",
       "      <td>NaN</td>\n",
       "      <td>NaN</td>\n",
       "      <td>NaN</td>\n",
       "      <td>NaN</td>\n",
       "      <td>NaN</td>\n",
       "      <td>NaN</td>\n",
       "      <td>NaN</td>\n",
       "      <td>NaN</td>\n",
       "      <td>NaN</td>\n",
       "      <td>NaN</td>\n",
       "      <td>NaN</td>\n",
       "      <td>NaN</td>\n",
       "      <td>NaN</td>\n",
       "      <td>NaN</td>\n",
       "      <td>NaN</td>\n",
       "      <td>NaN</td>\n",
       "      <td>NaN</td>\n",
       "      <td>NaN</td>\n",
       "      <td>NaN</td>\n",
       "      <td>NaN</td>\n",
       "      <td>NaN</td>\n",
       "      <td>NaN</td>\n",
       "      <td>NaN</td>\n",
       "      <td>NaN</td>\n",
       "      <td>NaN</td>\n",
       "      <td>NaN</td>\n",
       "      <td>NaN</td>\n",
       "      <td>NaN</td>\n",
       "      <td>NaN</td>\n",
       "      <td>NaN</td>\n",
       "      <td>NaN</td>\n",
       "      <td>NaN</td>\n",
       "      <td>NaN</td>\n",
       "      <td>1.0</td>\n",
       "      <td>NaN</td>\n",
       "      <td>NaN</td>\n",
       "      <td>NaN</td>\n",
       "      <td>NaN</td>\n",
       "      <td>NaN</td>\n",
       "      <td>NaN</td>\n",
       "      <td>NaN</td>\n",
       "      <td>NaN</td>\n",
       "      <td>NaN</td>\n",
       "      <td>NaN</td>\n",
       "    </tr>\n",
       "    <tr>\n",
       "      <th>2013</th>\n",
       "      <td>NaN</td>\n",
       "      <td>NaN</td>\n",
       "      <td>NaN</td>\n",
       "      <td>NaN</td>\n",
       "      <td>NaN</td>\n",
       "      <td>NaN</td>\n",
       "      <td>NaN</td>\n",
       "      <td>NaN</td>\n",
       "      <td>NaN</td>\n",
       "      <td>NaN</td>\n",
       "      <td>NaN</td>\n",
       "      <td>NaN</td>\n",
       "      <td>NaN</td>\n",
       "      <td>NaN</td>\n",
       "      <td>NaN</td>\n",
       "      <td>NaN</td>\n",
       "      <td>NaN</td>\n",
       "      <td>NaN</td>\n",
       "      <td>NaN</td>\n",
       "      <td>NaN</td>\n",
       "      <td>NaN</td>\n",
       "      <td>NaN</td>\n",
       "      <td>NaN</td>\n",
       "      <td>NaN</td>\n",
       "      <td>NaN</td>\n",
       "      <td>NaN</td>\n",
       "      <td>NaN</td>\n",
       "      <td>NaN</td>\n",
       "      <td>NaN</td>\n",
       "      <td>NaN</td>\n",
       "      <td>NaN</td>\n",
       "      <td>NaN</td>\n",
       "      <td>NaN</td>\n",
       "      <td>NaN</td>\n",
       "      <td>NaN</td>\n",
       "      <td>NaN</td>\n",
       "      <td>NaN</td>\n",
       "      <td>NaN</td>\n",
       "      <td>NaN</td>\n",
       "      <td>NaN</td>\n",
       "      <td>NaN</td>\n",
       "      <td>NaN</td>\n",
       "      <td>NaN</td>\n",
       "      <td>1.0</td>\n",
       "      <td>NaN</td>\n",
       "      <td>NaN</td>\n",
       "      <td>NaN</td>\n",
       "      <td>NaN</td>\n",
       "      <td>NaN</td>\n",
       "      <td>NaN</td>\n",
       "      <td>NaN</td>\n",
       "      <td>NaN</td>\n",
       "      <td>NaN</td>\n",
       "    </tr>\n",
       "    <tr>\n",
       "      <th>2014</th>\n",
       "      <td>NaN</td>\n",
       "      <td>NaN</td>\n",
       "      <td>NaN</td>\n",
       "      <td>NaN</td>\n",
       "      <td>NaN</td>\n",
       "      <td>NaN</td>\n",
       "      <td>NaN</td>\n",
       "      <td>NaN</td>\n",
       "      <td>NaN</td>\n",
       "      <td>NaN</td>\n",
       "      <td>NaN</td>\n",
       "      <td>NaN</td>\n",
       "      <td>NaN</td>\n",
       "      <td>NaN</td>\n",
       "      <td>NaN</td>\n",
       "      <td>NaN</td>\n",
       "      <td>NaN</td>\n",
       "      <td>NaN</td>\n",
       "      <td>NaN</td>\n",
       "      <td>NaN</td>\n",
       "      <td>NaN</td>\n",
       "      <td>NaN</td>\n",
       "      <td>NaN</td>\n",
       "      <td>NaN</td>\n",
       "      <td>NaN</td>\n",
       "      <td>NaN</td>\n",
       "      <td>NaN</td>\n",
       "      <td>NaN</td>\n",
       "      <td>NaN</td>\n",
       "      <td>NaN</td>\n",
       "      <td>NaN</td>\n",
       "      <td>NaN</td>\n",
       "      <td>NaN</td>\n",
       "      <td>NaN</td>\n",
       "      <td>NaN</td>\n",
       "      <td>NaN</td>\n",
       "      <td>NaN</td>\n",
       "      <td>NaN</td>\n",
       "      <td>NaN</td>\n",
       "      <td>NaN</td>\n",
       "      <td>NaN</td>\n",
       "      <td>NaN</td>\n",
       "      <td>NaN</td>\n",
       "      <td>NaN</td>\n",
       "      <td>1.0</td>\n",
       "      <td>NaN</td>\n",
       "      <td>NaN</td>\n",
       "      <td>NaN</td>\n",
       "      <td>NaN</td>\n",
       "      <td>NaN</td>\n",
       "      <td>NaN</td>\n",
       "      <td>NaN</td>\n",
       "      <td>NaN</td>\n",
       "    </tr>\n",
       "    <tr>\n",
       "      <th>2015</th>\n",
       "      <td>NaN</td>\n",
       "      <td>NaN</td>\n",
       "      <td>NaN</td>\n",
       "      <td>NaN</td>\n",
       "      <td>NaN</td>\n",
       "      <td>NaN</td>\n",
       "      <td>NaN</td>\n",
       "      <td>NaN</td>\n",
       "      <td>NaN</td>\n",
       "      <td>NaN</td>\n",
       "      <td>NaN</td>\n",
       "      <td>NaN</td>\n",
       "      <td>NaN</td>\n",
       "      <td>NaN</td>\n",
       "      <td>NaN</td>\n",
       "      <td>NaN</td>\n",
       "      <td>NaN</td>\n",
       "      <td>NaN</td>\n",
       "      <td>NaN</td>\n",
       "      <td>NaN</td>\n",
       "      <td>NaN</td>\n",
       "      <td>NaN</td>\n",
       "      <td>NaN</td>\n",
       "      <td>NaN</td>\n",
       "      <td>NaN</td>\n",
       "      <td>NaN</td>\n",
       "      <td>NaN</td>\n",
       "      <td>NaN</td>\n",
       "      <td>NaN</td>\n",
       "      <td>NaN</td>\n",
       "      <td>NaN</td>\n",
       "      <td>NaN</td>\n",
       "      <td>NaN</td>\n",
       "      <td>NaN</td>\n",
       "      <td>NaN</td>\n",
       "      <td>NaN</td>\n",
       "      <td>NaN</td>\n",
       "      <td>NaN</td>\n",
       "      <td>NaN</td>\n",
       "      <td>NaN</td>\n",
       "      <td>NaN</td>\n",
       "      <td>NaN</td>\n",
       "      <td>NaN</td>\n",
       "      <td>NaN</td>\n",
       "      <td>NaN</td>\n",
       "      <td>1.0</td>\n",
       "      <td>NaN</td>\n",
       "      <td>NaN</td>\n",
       "      <td>NaN</td>\n",
       "      <td>NaN</td>\n",
       "      <td>NaN</td>\n",
       "      <td>NaN</td>\n",
       "      <td>NaN</td>\n",
       "    </tr>\n",
       "    <tr>\n",
       "      <th>2016</th>\n",
       "      <td>NaN</td>\n",
       "      <td>NaN</td>\n",
       "      <td>NaN</td>\n",
       "      <td>NaN</td>\n",
       "      <td>NaN</td>\n",
       "      <td>NaN</td>\n",
       "      <td>NaN</td>\n",
       "      <td>NaN</td>\n",
       "      <td>NaN</td>\n",
       "      <td>NaN</td>\n",
       "      <td>NaN</td>\n",
       "      <td>NaN</td>\n",
       "      <td>NaN</td>\n",
       "      <td>NaN</td>\n",
       "      <td>NaN</td>\n",
       "      <td>NaN</td>\n",
       "      <td>NaN</td>\n",
       "      <td>NaN</td>\n",
       "      <td>NaN</td>\n",
       "      <td>NaN</td>\n",
       "      <td>NaN</td>\n",
       "      <td>NaN</td>\n",
       "      <td>NaN</td>\n",
       "      <td>NaN</td>\n",
       "      <td>NaN</td>\n",
       "      <td>NaN</td>\n",
       "      <td>NaN</td>\n",
       "      <td>NaN</td>\n",
       "      <td>NaN</td>\n",
       "      <td>NaN</td>\n",
       "      <td>NaN</td>\n",
       "      <td>NaN</td>\n",
       "      <td>NaN</td>\n",
       "      <td>NaN</td>\n",
       "      <td>NaN</td>\n",
       "      <td>NaN</td>\n",
       "      <td>NaN</td>\n",
       "      <td>NaN</td>\n",
       "      <td>NaN</td>\n",
       "      <td>NaN</td>\n",
       "      <td>NaN</td>\n",
       "      <td>NaN</td>\n",
       "      <td>NaN</td>\n",
       "      <td>NaN</td>\n",
       "      <td>NaN</td>\n",
       "      <td>NaN</td>\n",
       "      <td>1.0</td>\n",
       "      <td>NaN</td>\n",
       "      <td>NaN</td>\n",
       "      <td>NaN</td>\n",
       "      <td>NaN</td>\n",
       "      <td>NaN</td>\n",
       "      <td>NaN</td>\n",
       "    </tr>\n",
       "    <tr>\n",
       "      <th>2017</th>\n",
       "      <td>NaN</td>\n",
       "      <td>NaN</td>\n",
       "      <td>NaN</td>\n",
       "      <td>NaN</td>\n",
       "      <td>NaN</td>\n",
       "      <td>NaN</td>\n",
       "      <td>NaN</td>\n",
       "      <td>NaN</td>\n",
       "      <td>NaN</td>\n",
       "      <td>NaN</td>\n",
       "      <td>NaN</td>\n",
       "      <td>NaN</td>\n",
       "      <td>NaN</td>\n",
       "      <td>NaN</td>\n",
       "      <td>NaN</td>\n",
       "      <td>NaN</td>\n",
       "      <td>NaN</td>\n",
       "      <td>NaN</td>\n",
       "      <td>NaN</td>\n",
       "      <td>NaN</td>\n",
       "      <td>NaN</td>\n",
       "      <td>NaN</td>\n",
       "      <td>NaN</td>\n",
       "      <td>NaN</td>\n",
       "      <td>NaN</td>\n",
       "      <td>NaN</td>\n",
       "      <td>NaN</td>\n",
       "      <td>NaN</td>\n",
       "      <td>NaN</td>\n",
       "      <td>NaN</td>\n",
       "      <td>NaN</td>\n",
       "      <td>NaN</td>\n",
       "      <td>NaN</td>\n",
       "      <td>NaN</td>\n",
       "      <td>NaN</td>\n",
       "      <td>NaN</td>\n",
       "      <td>NaN</td>\n",
       "      <td>NaN</td>\n",
       "      <td>NaN</td>\n",
       "      <td>NaN</td>\n",
       "      <td>NaN</td>\n",
       "      <td>NaN</td>\n",
       "      <td>NaN</td>\n",
       "      <td>NaN</td>\n",
       "      <td>NaN</td>\n",
       "      <td>NaN</td>\n",
       "      <td>NaN</td>\n",
       "      <td>1.0</td>\n",
       "      <td>NaN</td>\n",
       "      <td>NaN</td>\n",
       "      <td>NaN</td>\n",
       "      <td>NaN</td>\n",
       "      <td>NaN</td>\n",
       "    </tr>\n",
       "    <tr>\n",
       "      <th>2018</th>\n",
       "      <td>NaN</td>\n",
       "      <td>NaN</td>\n",
       "      <td>NaN</td>\n",
       "      <td>NaN</td>\n",
       "      <td>NaN</td>\n",
       "      <td>NaN</td>\n",
       "      <td>NaN</td>\n",
       "      <td>NaN</td>\n",
       "      <td>NaN</td>\n",
       "      <td>NaN</td>\n",
       "      <td>NaN</td>\n",
       "      <td>NaN</td>\n",
       "      <td>NaN</td>\n",
       "      <td>NaN</td>\n",
       "      <td>NaN</td>\n",
       "      <td>NaN</td>\n",
       "      <td>NaN</td>\n",
       "      <td>NaN</td>\n",
       "      <td>NaN</td>\n",
       "      <td>NaN</td>\n",
       "      <td>NaN</td>\n",
       "      <td>NaN</td>\n",
       "      <td>NaN</td>\n",
       "      <td>NaN</td>\n",
       "      <td>NaN</td>\n",
       "      <td>NaN</td>\n",
       "      <td>NaN</td>\n",
       "      <td>NaN</td>\n",
       "      <td>NaN</td>\n",
       "      <td>NaN</td>\n",
       "      <td>NaN</td>\n",
       "      <td>NaN</td>\n",
       "      <td>NaN</td>\n",
       "      <td>NaN</td>\n",
       "      <td>NaN</td>\n",
       "      <td>NaN</td>\n",
       "      <td>NaN</td>\n",
       "      <td>NaN</td>\n",
       "      <td>NaN</td>\n",
       "      <td>NaN</td>\n",
       "      <td>NaN</td>\n",
       "      <td>NaN</td>\n",
       "      <td>NaN</td>\n",
       "      <td>NaN</td>\n",
       "      <td>NaN</td>\n",
       "      <td>NaN</td>\n",
       "      <td>NaN</td>\n",
       "      <td>NaN</td>\n",
       "      <td>1.0</td>\n",
       "      <td>NaN</td>\n",
       "      <td>NaN</td>\n",
       "      <td>NaN</td>\n",
       "      <td>NaN</td>\n",
       "    </tr>\n",
       "    <tr>\n",
       "      <th>2019</th>\n",
       "      <td>NaN</td>\n",
       "      <td>NaN</td>\n",
       "      <td>NaN</td>\n",
       "      <td>NaN</td>\n",
       "      <td>NaN</td>\n",
       "      <td>NaN</td>\n",
       "      <td>NaN</td>\n",
       "      <td>NaN</td>\n",
       "      <td>NaN</td>\n",
       "      <td>NaN</td>\n",
       "      <td>NaN</td>\n",
       "      <td>NaN</td>\n",
       "      <td>NaN</td>\n",
       "      <td>NaN</td>\n",
       "      <td>NaN</td>\n",
       "      <td>NaN</td>\n",
       "      <td>NaN</td>\n",
       "      <td>NaN</td>\n",
       "      <td>NaN</td>\n",
       "      <td>NaN</td>\n",
       "      <td>NaN</td>\n",
       "      <td>NaN</td>\n",
       "      <td>NaN</td>\n",
       "      <td>NaN</td>\n",
       "      <td>NaN</td>\n",
       "      <td>NaN</td>\n",
       "      <td>NaN</td>\n",
       "      <td>NaN</td>\n",
       "      <td>NaN</td>\n",
       "      <td>NaN</td>\n",
       "      <td>NaN</td>\n",
       "      <td>NaN</td>\n",
       "      <td>NaN</td>\n",
       "      <td>NaN</td>\n",
       "      <td>NaN</td>\n",
       "      <td>NaN</td>\n",
       "      <td>NaN</td>\n",
       "      <td>NaN</td>\n",
       "      <td>NaN</td>\n",
       "      <td>NaN</td>\n",
       "      <td>NaN</td>\n",
       "      <td>NaN</td>\n",
       "      <td>NaN</td>\n",
       "      <td>NaN</td>\n",
       "      <td>NaN</td>\n",
       "      <td>NaN</td>\n",
       "      <td>NaN</td>\n",
       "      <td>NaN</td>\n",
       "      <td>NaN</td>\n",
       "      <td>1.0</td>\n",
       "      <td>NaN</td>\n",
       "      <td>NaN</td>\n",
       "      <td>NaN</td>\n",
       "    </tr>\n",
       "    <tr>\n",
       "      <th>2020</th>\n",
       "      <td>NaN</td>\n",
       "      <td>NaN</td>\n",
       "      <td>NaN</td>\n",
       "      <td>NaN</td>\n",
       "      <td>NaN</td>\n",
       "      <td>NaN</td>\n",
       "      <td>NaN</td>\n",
       "      <td>NaN</td>\n",
       "      <td>NaN</td>\n",
       "      <td>NaN</td>\n",
       "      <td>NaN</td>\n",
       "      <td>NaN</td>\n",
       "      <td>NaN</td>\n",
       "      <td>NaN</td>\n",
       "      <td>NaN</td>\n",
       "      <td>NaN</td>\n",
       "      <td>NaN</td>\n",
       "      <td>NaN</td>\n",
       "      <td>NaN</td>\n",
       "      <td>NaN</td>\n",
       "      <td>NaN</td>\n",
       "      <td>NaN</td>\n",
       "      <td>NaN</td>\n",
       "      <td>NaN</td>\n",
       "      <td>NaN</td>\n",
       "      <td>NaN</td>\n",
       "      <td>NaN</td>\n",
       "      <td>NaN</td>\n",
       "      <td>NaN</td>\n",
       "      <td>NaN</td>\n",
       "      <td>NaN</td>\n",
       "      <td>NaN</td>\n",
       "      <td>NaN</td>\n",
       "      <td>NaN</td>\n",
       "      <td>NaN</td>\n",
       "      <td>NaN</td>\n",
       "      <td>NaN</td>\n",
       "      <td>NaN</td>\n",
       "      <td>NaN</td>\n",
       "      <td>NaN</td>\n",
       "      <td>NaN</td>\n",
       "      <td>NaN</td>\n",
       "      <td>NaN</td>\n",
       "      <td>NaN</td>\n",
       "      <td>NaN</td>\n",
       "      <td>NaN</td>\n",
       "      <td>NaN</td>\n",
       "      <td>NaN</td>\n",
       "      <td>NaN</td>\n",
       "      <td>NaN</td>\n",
       "      <td>1.0</td>\n",
       "      <td>NaN</td>\n",
       "      <td>NaN</td>\n",
       "    </tr>\n",
       "    <tr>\n",
       "      <th>2021</th>\n",
       "      <td>NaN</td>\n",
       "      <td>NaN</td>\n",
       "      <td>NaN</td>\n",
       "      <td>NaN</td>\n",
       "      <td>NaN</td>\n",
       "      <td>NaN</td>\n",
       "      <td>NaN</td>\n",
       "      <td>NaN</td>\n",
       "      <td>NaN</td>\n",
       "      <td>NaN</td>\n",
       "      <td>NaN</td>\n",
       "      <td>NaN</td>\n",
       "      <td>NaN</td>\n",
       "      <td>NaN</td>\n",
       "      <td>NaN</td>\n",
       "      <td>NaN</td>\n",
       "      <td>NaN</td>\n",
       "      <td>NaN</td>\n",
       "      <td>NaN</td>\n",
       "      <td>NaN</td>\n",
       "      <td>NaN</td>\n",
       "      <td>NaN</td>\n",
       "      <td>NaN</td>\n",
       "      <td>NaN</td>\n",
       "      <td>NaN</td>\n",
       "      <td>NaN</td>\n",
       "      <td>NaN</td>\n",
       "      <td>NaN</td>\n",
       "      <td>NaN</td>\n",
       "      <td>NaN</td>\n",
       "      <td>NaN</td>\n",
       "      <td>NaN</td>\n",
       "      <td>NaN</td>\n",
       "      <td>NaN</td>\n",
       "      <td>NaN</td>\n",
       "      <td>NaN</td>\n",
       "      <td>NaN</td>\n",
       "      <td>NaN</td>\n",
       "      <td>NaN</td>\n",
       "      <td>NaN</td>\n",
       "      <td>NaN</td>\n",
       "      <td>NaN</td>\n",
       "      <td>NaN</td>\n",
       "      <td>NaN</td>\n",
       "      <td>NaN</td>\n",
       "      <td>NaN</td>\n",
       "      <td>NaN</td>\n",
       "      <td>NaN</td>\n",
       "      <td>NaN</td>\n",
       "      <td>NaN</td>\n",
       "      <td>NaN</td>\n",
       "      <td>1.0</td>\n",
       "      <td>NaN</td>\n",
       "    </tr>\n",
       "    <tr>\n",
       "      <th>2022</th>\n",
       "      <td>NaN</td>\n",
       "      <td>NaN</td>\n",
       "      <td>NaN</td>\n",
       "      <td>NaN</td>\n",
       "      <td>NaN</td>\n",
       "      <td>NaN</td>\n",
       "      <td>NaN</td>\n",
       "      <td>NaN</td>\n",
       "      <td>NaN</td>\n",
       "      <td>NaN</td>\n",
       "      <td>NaN</td>\n",
       "      <td>NaN</td>\n",
       "      <td>NaN</td>\n",
       "      <td>NaN</td>\n",
       "      <td>NaN</td>\n",
       "      <td>NaN</td>\n",
       "      <td>NaN</td>\n",
       "      <td>NaN</td>\n",
       "      <td>NaN</td>\n",
       "      <td>NaN</td>\n",
       "      <td>NaN</td>\n",
       "      <td>NaN</td>\n",
       "      <td>NaN</td>\n",
       "      <td>NaN</td>\n",
       "      <td>NaN</td>\n",
       "      <td>NaN</td>\n",
       "      <td>NaN</td>\n",
       "      <td>NaN</td>\n",
       "      <td>NaN</td>\n",
       "      <td>NaN</td>\n",
       "      <td>NaN</td>\n",
       "      <td>NaN</td>\n",
       "      <td>NaN</td>\n",
       "      <td>NaN</td>\n",
       "      <td>NaN</td>\n",
       "      <td>NaN</td>\n",
       "      <td>NaN</td>\n",
       "      <td>NaN</td>\n",
       "      <td>NaN</td>\n",
       "      <td>NaN</td>\n",
       "      <td>NaN</td>\n",
       "      <td>NaN</td>\n",
       "      <td>NaN</td>\n",
       "      <td>NaN</td>\n",
       "      <td>NaN</td>\n",
       "      <td>NaN</td>\n",
       "      <td>NaN</td>\n",
       "      <td>NaN</td>\n",
       "      <td>NaN</td>\n",
       "      <td>NaN</td>\n",
       "      <td>NaN</td>\n",
       "      <td>NaN</td>\n",
       "      <td>1.0</td>\n",
       "    </tr>\n",
       "  </tbody>\n",
       "</table>\n",
       "</div>"
      ],
      "text/plain": [
       "                     ANONYMOUS_1  SAMPLE_TRANSFER_DAY  ANONYMOUS_2   AG   AL  \\\n",
       "ANONYMOUS_1                  1.0                  NaN          NaN  NaN  NaN   \n",
       "SAMPLE_TRANSFER_DAY          NaN                  1.0          NaN  NaN  NaN   \n",
       "ANONYMOUS_2                  NaN                  NaN          1.0  NaN  NaN   \n",
       "AG                           NaN                  NaN          NaN  1.0  NaN   \n",
       "AL                           NaN                  NaN          NaN  NaN  1.0   \n",
       "B                            NaN                  NaN          NaN  NaN  NaN   \n",
       "BA                           NaN                  NaN          NaN  NaN  NaN   \n",
       "BE                           NaN                  NaN          NaN  NaN  NaN   \n",
       "CA                           NaN                  NaN          NaN  NaN  NaN   \n",
       "CO                           NaN                  NaN          NaN  NaN  NaN   \n",
       "CR                           NaN                  NaN          NaN  NaN  NaN   \n",
       "CU                           NaN                  NaN          NaN  NaN  NaN   \n",
       "FE                           NaN                  NaN          NaN  NaN  NaN   \n",
       "H2O                          NaN                  NaN          NaN  NaN  NaN   \n",
       "LI                           NaN                  NaN          NaN  NaN  NaN   \n",
       "MG                           NaN                  NaN          NaN  NaN  NaN   \n",
       "MN                           NaN                  NaN          NaN  NaN  NaN   \n",
       "MO                           NaN                  NaN          NaN  NaN  NaN   \n",
       "NA                           NaN                  NaN          NaN  NaN  NaN   \n",
       "NI                           NaN                  NaN          NaN  NaN  NaN   \n",
       "P                            NaN                  NaN          NaN  NaN  NaN   \n",
       "PB                           NaN                  NaN          NaN  NaN  NaN   \n",
       "PQINDEX                      NaN                  NaN          NaN  NaN  NaN   \n",
       "S                            NaN                  NaN          NaN  NaN  NaN   \n",
       "SB                           NaN                  NaN          NaN  NaN  NaN   \n",
       "SI                           NaN                  NaN          NaN  NaN  NaN   \n",
       "SN                           NaN                  NaN          NaN  NaN  NaN   \n",
       "TI                           NaN                  NaN          NaN  NaN  NaN   \n",
       "V                            NaN                  NaN          NaN  NaN  NaN   \n",
       "V40                          NaN                  NaN          NaN  NaN  NaN   \n",
       "K                            NaN                  NaN          NaN  NaN  NaN   \n",
       "CD                           NaN                  NaN          NaN  NaN  NaN   \n",
       "ZN                           NaN                  NaN          NaN  NaN  NaN   \n",
       "COMPONENT1                   NaN                  NaN          NaN  NaN  NaN   \n",
       "COMPONENT2                   NaN                  NaN          NaN  NaN  NaN   \n",
       "COMPONENT3                   NaN                  NaN          NaN  NaN  NaN   \n",
       "COMPONENT4                   NaN                  NaN          NaN  NaN  NaN   \n",
       "2007                         NaN                  NaN          NaN  NaN  NaN   \n",
       "2008                         NaN                  NaN          NaN  NaN  NaN   \n",
       "2009                         NaN                  NaN          NaN  NaN  NaN   \n",
       "2010                         NaN                  NaN          NaN  NaN  NaN   \n",
       "2011                         NaN                  NaN          NaN  NaN  NaN   \n",
       "2012                         NaN                  NaN          NaN  NaN  NaN   \n",
       "2013                         NaN                  NaN          NaN  NaN  NaN   \n",
       "2014                         NaN                  NaN          NaN  NaN  NaN   \n",
       "2015                         NaN                  NaN          NaN  NaN  NaN   \n",
       "2016                         NaN                  NaN          NaN  NaN  NaN   \n",
       "2017                         NaN                  NaN          NaN  NaN  NaN   \n",
       "2018                         NaN                  NaN          NaN  NaN  NaN   \n",
       "2019                         NaN                  NaN          NaN  NaN  NaN   \n",
       "2020                         NaN                  NaN          NaN  NaN  NaN   \n",
       "2021                         NaN                  NaN          NaN  NaN  NaN   \n",
       "2022                         NaN                  NaN          NaN  NaN  NaN   \n",
       "\n",
       "                       B   BA   BE   CA   CO   CR   CU   FE  H2O   LI   MG  \\\n",
       "ANONYMOUS_1          NaN  NaN  NaN  NaN  NaN  NaN  NaN  NaN  NaN  NaN  NaN   \n",
       "SAMPLE_TRANSFER_DAY  NaN  NaN  NaN  NaN  NaN  NaN  NaN  NaN  NaN  NaN  NaN   \n",
       "ANONYMOUS_2          NaN  NaN  NaN  NaN  NaN  NaN  NaN  NaN  NaN  NaN  NaN   \n",
       "AG                   NaN  NaN  NaN  NaN  NaN  NaN  NaN  NaN  NaN  NaN  NaN   \n",
       "AL                   NaN  NaN  NaN  NaN  NaN  NaN  NaN  NaN  NaN  NaN  NaN   \n",
       "B                    1.0  NaN  NaN  NaN  NaN  NaN  NaN  NaN  NaN  NaN  NaN   \n",
       "BA                   NaN  1.0  NaN  NaN  NaN  NaN  NaN  NaN  NaN  NaN  NaN   \n",
       "BE                   NaN  NaN  1.0  NaN  NaN  NaN  NaN  NaN  NaN  NaN  NaN   \n",
       "CA                   NaN  NaN  NaN  1.0  NaN  NaN  NaN  NaN  NaN  NaN  NaN   \n",
       "CO                   NaN  NaN  NaN  NaN  1.0  NaN  NaN  NaN  NaN  NaN  NaN   \n",
       "CR                   NaN  NaN  NaN  NaN  NaN  1.0  NaN  NaN  NaN  NaN  NaN   \n",
       "CU                   NaN  NaN  NaN  NaN  NaN  NaN  1.0  NaN  NaN  NaN  NaN   \n",
       "FE                   NaN  NaN  NaN  NaN  NaN  NaN  NaN  1.0  NaN  NaN  NaN   \n",
       "H2O                  NaN  NaN  NaN  NaN  NaN  NaN  NaN  NaN  1.0  NaN  NaN   \n",
       "LI                   NaN  NaN  NaN  NaN  NaN  NaN  NaN  NaN  NaN  1.0  NaN   \n",
       "MG                   NaN  NaN  NaN  NaN  NaN  NaN  NaN  NaN  NaN  NaN  1.0   \n",
       "MN                   NaN  NaN  NaN  NaN  NaN  NaN  NaN  NaN  NaN  NaN  NaN   \n",
       "MO                   NaN  NaN  NaN  NaN  NaN  NaN  NaN  NaN  NaN  NaN  NaN   \n",
       "NA                   NaN  NaN  NaN  NaN  NaN  NaN  NaN  NaN  NaN  NaN  NaN   \n",
       "NI                   NaN  NaN  NaN  NaN  NaN  NaN  NaN  NaN  NaN  NaN  NaN   \n",
       "P                    NaN  NaN  NaN  NaN  NaN  NaN  NaN  NaN  NaN  NaN  NaN   \n",
       "PB                   NaN  NaN  NaN  NaN  NaN  NaN  NaN  NaN  NaN  NaN  NaN   \n",
       "PQINDEX              NaN  NaN  NaN  NaN  NaN  NaN  NaN  NaN  NaN  NaN  NaN   \n",
       "S                    NaN  NaN  NaN  NaN  NaN  NaN  NaN  NaN  NaN  NaN  NaN   \n",
       "SB                   NaN  NaN  NaN  NaN  NaN  NaN  NaN  NaN  NaN  NaN  NaN   \n",
       "SI                   NaN  NaN  NaN  NaN  NaN  NaN  NaN  NaN  NaN  NaN  NaN   \n",
       "SN                   NaN  NaN  NaN  NaN  NaN  NaN  NaN  NaN  NaN  NaN  NaN   \n",
       "TI                   NaN  NaN  NaN  NaN  NaN  NaN  NaN  NaN  NaN  NaN  NaN   \n",
       "V                    NaN  NaN  NaN  NaN  NaN  NaN  NaN  NaN  NaN  NaN  NaN   \n",
       "V40                  NaN  NaN  NaN  NaN  NaN  NaN  NaN  NaN  NaN  NaN  NaN   \n",
       "K                    NaN  NaN  NaN  NaN  NaN  NaN  NaN  NaN  NaN  NaN  NaN   \n",
       "CD                   NaN  NaN  NaN  NaN  NaN  NaN  NaN  NaN  NaN  NaN  NaN   \n",
       "ZN                   NaN  NaN  NaN  NaN  NaN  NaN  NaN  NaN  NaN  NaN  NaN   \n",
       "COMPONENT1           NaN  NaN  NaN  NaN  NaN  NaN  NaN  NaN  NaN  NaN  NaN   \n",
       "COMPONENT2           NaN  NaN  NaN  NaN  NaN  NaN  NaN  NaN  NaN  NaN  NaN   \n",
       "COMPONENT3           NaN  NaN  NaN  NaN  NaN  NaN  NaN  NaN  NaN  NaN  NaN   \n",
       "COMPONENT4           NaN  NaN  NaN  NaN  NaN  NaN  NaN  NaN  NaN  NaN  NaN   \n",
       "2007                 NaN  NaN  NaN  NaN  NaN  NaN  NaN  NaN  NaN  NaN  NaN   \n",
       "2008                 NaN  NaN  NaN  NaN  NaN  NaN  NaN  NaN  NaN  NaN  NaN   \n",
       "2009                 NaN  NaN  NaN  NaN  NaN  NaN  NaN  NaN  NaN  NaN  NaN   \n",
       "2010                 NaN  NaN  NaN  NaN  NaN  NaN  NaN  NaN  NaN  NaN  NaN   \n",
       "2011                 NaN  NaN  NaN  NaN  NaN  NaN  NaN  NaN  NaN  NaN  NaN   \n",
       "2012                 NaN  NaN  NaN  NaN  NaN  NaN  NaN  NaN  NaN  NaN  NaN   \n",
       "2013                 NaN  NaN  NaN  NaN  NaN  NaN  NaN  NaN  NaN  NaN  NaN   \n",
       "2014                 NaN  NaN  NaN  NaN  NaN  NaN  NaN  NaN  NaN  NaN  NaN   \n",
       "2015                 NaN  NaN  NaN  NaN  NaN  NaN  NaN  NaN  NaN  NaN  NaN   \n",
       "2016                 NaN  NaN  NaN  NaN  NaN  NaN  NaN  NaN  NaN  NaN  NaN   \n",
       "2017                 NaN  NaN  NaN  NaN  NaN  NaN  NaN  NaN  NaN  NaN  NaN   \n",
       "2018                 NaN  NaN  NaN  NaN  NaN  NaN  NaN  NaN  NaN  NaN  NaN   \n",
       "2019                 NaN  NaN  NaN  NaN  NaN  NaN  NaN  NaN  NaN  NaN  NaN   \n",
       "2020                 NaN  NaN  NaN  NaN  NaN  NaN  NaN  NaN  NaN  NaN  NaN   \n",
       "2021                 NaN  NaN  NaN  NaN  NaN  NaN  NaN  NaN  NaN  NaN  NaN   \n",
       "2022                 NaN  NaN  NaN  NaN  NaN  NaN  NaN  NaN  NaN  NaN  NaN   \n",
       "\n",
       "                      MN   MO   NA   NI    P   PB  PQINDEX    S   SB   SI  \\\n",
       "ANONYMOUS_1          NaN  NaN  NaN  NaN  NaN  NaN      NaN  NaN  NaN  NaN   \n",
       "SAMPLE_TRANSFER_DAY  NaN  NaN  NaN  NaN  NaN  NaN      NaN  NaN  NaN  NaN   \n",
       "ANONYMOUS_2          NaN  NaN  NaN  NaN  NaN  NaN      NaN  NaN  NaN  NaN   \n",
       "AG                   NaN  NaN  NaN  NaN  NaN  NaN      NaN  NaN  NaN  NaN   \n",
       "AL                   NaN  NaN  NaN  NaN  NaN  NaN      NaN  NaN  NaN  NaN   \n",
       "B                    NaN  NaN  NaN  NaN  NaN  NaN      NaN  NaN  NaN  NaN   \n",
       "BA                   NaN  NaN  NaN  NaN  NaN  NaN      NaN  NaN  NaN  NaN   \n",
       "BE                   NaN  NaN  NaN  NaN  NaN  NaN      NaN  NaN  NaN  NaN   \n",
       "CA                   NaN  NaN  NaN  NaN  NaN  NaN      NaN  NaN  NaN  NaN   \n",
       "CO                   NaN  NaN  NaN  NaN  NaN  NaN      NaN  NaN  NaN  NaN   \n",
       "CR                   NaN  NaN  NaN  NaN  NaN  NaN      NaN  NaN  NaN  NaN   \n",
       "CU                   NaN  NaN  NaN  NaN  NaN  NaN      NaN  NaN  NaN  NaN   \n",
       "FE                   NaN  NaN  NaN  NaN  NaN  NaN      NaN  NaN  NaN  NaN   \n",
       "H2O                  NaN  NaN  NaN  NaN  NaN  NaN      NaN  NaN  NaN  NaN   \n",
       "LI                   NaN  NaN  NaN  NaN  NaN  NaN      NaN  NaN  NaN  NaN   \n",
       "MG                   NaN  NaN  NaN  NaN  NaN  NaN      NaN  NaN  NaN  NaN   \n",
       "MN                   1.0  NaN  NaN  NaN  NaN  NaN      NaN  NaN  NaN  NaN   \n",
       "MO                   NaN  1.0  NaN  NaN  NaN  NaN      NaN  NaN  NaN  NaN   \n",
       "NA                   NaN  NaN  1.0  NaN  NaN  NaN      NaN  NaN  NaN  NaN   \n",
       "NI                   NaN  NaN  NaN  1.0  NaN  NaN      NaN  NaN  NaN  NaN   \n",
       "P                    NaN  NaN  NaN  NaN  1.0  NaN      NaN  NaN  NaN  NaN   \n",
       "PB                   NaN  NaN  NaN  NaN  NaN  1.0      NaN  NaN  NaN  NaN   \n",
       "PQINDEX              NaN  NaN  NaN  NaN  NaN  NaN      1.0  NaN  NaN  NaN   \n",
       "S                    NaN  NaN  NaN  NaN  NaN  NaN      NaN  1.0  NaN  NaN   \n",
       "SB                   NaN  NaN  NaN  NaN  NaN  NaN      NaN  NaN  1.0  NaN   \n",
       "SI                   NaN  NaN  NaN  NaN  NaN  NaN      NaN  NaN  NaN  1.0   \n",
       "SN                   NaN  NaN  NaN  NaN  NaN  NaN      NaN  NaN  NaN  NaN   \n",
       "TI                   NaN  NaN  NaN  NaN  NaN  NaN      NaN  NaN  NaN  NaN   \n",
       "V                    NaN  NaN  NaN  NaN  NaN  NaN      NaN  NaN  NaN  NaN   \n",
       "V40                  NaN  NaN  NaN  NaN  NaN  NaN      NaN  NaN  NaN  NaN   \n",
       "K                    NaN  NaN  NaN  NaN  NaN  NaN      NaN  NaN  NaN  NaN   \n",
       "CD                   NaN  NaN  NaN  NaN  NaN  NaN      NaN  NaN  NaN  NaN   \n",
       "ZN                   NaN  NaN  NaN  NaN  NaN  NaN      NaN  NaN  NaN  NaN   \n",
       "COMPONENT1           NaN  NaN  NaN  NaN  NaN  NaN      NaN  NaN  NaN  NaN   \n",
       "COMPONENT2           NaN  NaN  NaN  NaN  NaN  NaN      NaN  NaN  NaN  NaN   \n",
       "COMPONENT3           NaN  NaN  NaN  NaN  NaN  NaN      NaN  NaN  NaN  NaN   \n",
       "COMPONENT4           NaN  NaN  NaN  NaN  NaN  NaN      NaN  NaN  NaN  NaN   \n",
       "2007                 NaN  NaN  NaN  NaN  NaN  NaN      NaN  NaN  NaN  NaN   \n",
       "2008                 NaN  NaN  NaN  NaN  NaN  NaN      NaN  NaN  NaN  NaN   \n",
       "2009                 NaN  NaN  NaN  NaN  NaN  NaN      NaN  NaN  NaN  NaN   \n",
       "2010                 NaN  NaN  NaN  NaN  NaN  NaN      NaN  NaN  NaN  NaN   \n",
       "2011                 NaN  NaN  NaN  NaN  NaN  NaN      NaN  NaN  NaN  NaN   \n",
       "2012                 NaN  NaN  NaN  NaN  NaN  NaN      NaN  NaN  NaN  NaN   \n",
       "2013                 NaN  NaN  NaN  NaN  NaN  NaN      NaN  NaN  NaN  NaN   \n",
       "2014                 NaN  NaN  NaN  NaN  NaN  NaN      NaN  NaN  NaN  NaN   \n",
       "2015                 NaN  NaN  NaN  NaN  NaN  NaN      NaN  NaN  NaN  NaN   \n",
       "2016                 NaN  NaN  NaN  NaN  NaN  NaN      NaN  NaN  NaN  NaN   \n",
       "2017                 NaN  NaN  NaN  NaN  NaN  NaN      NaN  NaN  NaN  NaN   \n",
       "2018                 NaN  NaN  NaN  NaN  NaN  NaN      NaN  NaN  NaN  NaN   \n",
       "2019                 NaN  NaN  NaN  NaN  NaN  NaN      NaN  NaN  NaN  NaN   \n",
       "2020                 NaN  NaN  NaN  NaN  NaN  NaN      NaN  NaN  NaN  NaN   \n",
       "2021                 NaN  NaN  NaN  NaN  NaN  NaN      NaN  NaN  NaN  NaN   \n",
       "2022                 NaN  NaN  NaN  NaN  NaN  NaN      NaN  NaN  NaN  NaN   \n",
       "\n",
       "                      SN   TI    V  V40    K   CD   ZN  COMPONENT1  \\\n",
       "ANONYMOUS_1          NaN  NaN  NaN  NaN  NaN  NaN  NaN         NaN   \n",
       "SAMPLE_TRANSFER_DAY  NaN  NaN  NaN  NaN  NaN  NaN  NaN         NaN   \n",
       "ANONYMOUS_2          NaN  NaN  NaN  NaN  NaN  NaN  NaN         NaN   \n",
       "AG                   NaN  NaN  NaN  NaN  NaN  NaN  NaN         NaN   \n",
       "AL                   NaN  NaN  NaN  NaN  NaN  NaN  NaN         NaN   \n",
       "B                    NaN  NaN  NaN  NaN  NaN  NaN  NaN         NaN   \n",
       "BA                   NaN  NaN  NaN  NaN  NaN  NaN  NaN         NaN   \n",
       "BE                   NaN  NaN  NaN  NaN  NaN  NaN  NaN         NaN   \n",
       "CA                   NaN  NaN  NaN  NaN  NaN  NaN  NaN         NaN   \n",
       "CO                   NaN  NaN  NaN  NaN  NaN  NaN  NaN         NaN   \n",
       "CR                   NaN  NaN  NaN  NaN  NaN  NaN  NaN         NaN   \n",
       "CU                   NaN  NaN  NaN  NaN  NaN  NaN  NaN         NaN   \n",
       "FE                   NaN  NaN  NaN  NaN  NaN  NaN  NaN         NaN   \n",
       "H2O                  NaN  NaN  NaN  NaN  NaN  NaN  NaN         NaN   \n",
       "LI                   NaN  NaN  NaN  NaN  NaN  NaN  NaN         NaN   \n",
       "MG                   NaN  NaN  NaN  NaN  NaN  NaN  NaN         NaN   \n",
       "MN                   NaN  NaN  NaN  NaN  NaN  NaN  NaN         NaN   \n",
       "MO                   NaN  NaN  NaN  NaN  NaN  NaN  NaN         NaN   \n",
       "NA                   NaN  NaN  NaN  NaN  NaN  NaN  NaN         NaN   \n",
       "NI                   NaN  NaN  NaN  NaN  NaN  NaN  NaN         NaN   \n",
       "P                    NaN  NaN  NaN  NaN  NaN  NaN  NaN         NaN   \n",
       "PB                   NaN  NaN  NaN  NaN  NaN  NaN  NaN         NaN   \n",
       "PQINDEX              NaN  NaN  NaN  NaN  NaN  NaN  NaN         NaN   \n",
       "S                    NaN  NaN  NaN  NaN  NaN  NaN  NaN         NaN   \n",
       "SB                   NaN  NaN  NaN  NaN  NaN  NaN  NaN         NaN   \n",
       "SI                   NaN  NaN  NaN  NaN  NaN  NaN  NaN         NaN   \n",
       "SN                   1.0  NaN  NaN  NaN  NaN  NaN  NaN         NaN   \n",
       "TI                   NaN  1.0  NaN  NaN  NaN  NaN  NaN         NaN   \n",
       "V                    NaN  NaN  1.0  NaN  NaN  NaN  NaN         NaN   \n",
       "V40                  NaN  NaN  NaN  1.0  NaN  NaN  NaN         NaN   \n",
       "K                    NaN  NaN  NaN  NaN  1.0  NaN  NaN         NaN   \n",
       "CD                   NaN  NaN  NaN  NaN  NaN  1.0  NaN         NaN   \n",
       "ZN                   NaN  NaN  NaN  NaN  NaN  NaN  1.0         NaN   \n",
       "COMPONENT1           NaN  NaN  NaN  NaN  NaN  NaN  NaN         1.0   \n",
       "COMPONENT2           NaN  NaN  NaN  NaN  NaN  NaN  NaN         NaN   \n",
       "COMPONENT3           NaN  NaN  NaN  NaN  NaN  NaN  NaN         NaN   \n",
       "COMPONENT4           NaN  NaN  NaN  NaN  NaN  NaN  NaN         NaN   \n",
       "2007                 NaN  NaN  NaN  NaN  NaN  NaN  NaN         NaN   \n",
       "2008                 NaN  NaN  NaN  NaN  NaN  NaN  NaN         NaN   \n",
       "2009                 NaN  NaN  NaN  NaN  NaN  NaN  NaN         NaN   \n",
       "2010                 NaN  NaN  NaN  NaN  NaN  NaN  NaN         NaN   \n",
       "2011                 NaN  NaN  NaN  NaN  NaN  NaN  NaN         NaN   \n",
       "2012                 NaN  NaN  NaN  NaN  NaN  NaN  NaN         NaN   \n",
       "2013                 NaN  NaN  NaN  NaN  NaN  NaN  NaN         NaN   \n",
       "2014                 NaN  NaN  NaN  NaN  NaN  NaN  NaN         NaN   \n",
       "2015                 NaN  NaN  NaN  NaN  NaN  NaN  NaN         NaN   \n",
       "2016                 NaN  NaN  NaN  NaN  NaN  NaN  NaN         NaN   \n",
       "2017                 NaN  NaN  NaN  NaN  NaN  NaN  NaN         NaN   \n",
       "2018                 NaN  NaN  NaN  NaN  NaN  NaN  NaN         NaN   \n",
       "2019                 NaN  NaN  NaN  NaN  NaN  NaN  NaN         NaN   \n",
       "2020                 NaN  NaN  NaN  NaN  NaN  NaN  NaN         NaN   \n",
       "2021                 NaN  NaN  NaN  NaN  NaN  NaN  NaN         NaN   \n",
       "2022                 NaN  NaN  NaN  NaN  NaN  NaN  NaN         NaN   \n",
       "\n",
       "                     COMPONENT2  COMPONENT3  COMPONENT4  2007  2008  2009  \\\n",
       "ANONYMOUS_1                 NaN         NaN         NaN   NaN   NaN   NaN   \n",
       "SAMPLE_TRANSFER_DAY         NaN         NaN         NaN   NaN   NaN   NaN   \n",
       "ANONYMOUS_2                 NaN         NaN         NaN   NaN   NaN   NaN   \n",
       "AG                          NaN         NaN         NaN   NaN   NaN   NaN   \n",
       "AL                          NaN         NaN         NaN   NaN   NaN   NaN   \n",
       "B                           NaN         NaN         NaN   NaN   NaN   NaN   \n",
       "BA                          NaN         NaN         NaN   NaN   NaN   NaN   \n",
       "BE                          NaN         NaN         NaN   NaN   NaN   NaN   \n",
       "CA                          NaN         NaN         NaN   NaN   NaN   NaN   \n",
       "CO                          NaN         NaN         NaN   NaN   NaN   NaN   \n",
       "CR                          NaN         NaN         NaN   NaN   NaN   NaN   \n",
       "CU                          NaN         NaN         NaN   NaN   NaN   NaN   \n",
       "FE                          NaN         NaN         NaN   NaN   NaN   NaN   \n",
       "H2O                         NaN         NaN         NaN   NaN   NaN   NaN   \n",
       "LI                          NaN         NaN         NaN   NaN   NaN   NaN   \n",
       "MG                          NaN         NaN         NaN   NaN   NaN   NaN   \n",
       "MN                          NaN         NaN         NaN   NaN   NaN   NaN   \n",
       "MO                          NaN         NaN         NaN   NaN   NaN   NaN   \n",
       "NA                          NaN         NaN         NaN   NaN   NaN   NaN   \n",
       "NI                          NaN         NaN         NaN   NaN   NaN   NaN   \n",
       "P                           NaN         NaN         NaN   NaN   NaN   NaN   \n",
       "PB                          NaN         NaN         NaN   NaN   NaN   NaN   \n",
       "PQINDEX                     NaN         NaN         NaN   NaN   NaN   NaN   \n",
       "S                           NaN         NaN         NaN   NaN   NaN   NaN   \n",
       "SB                          NaN         NaN         NaN   NaN   NaN   NaN   \n",
       "SI                          NaN         NaN         NaN   NaN   NaN   NaN   \n",
       "SN                          NaN         NaN         NaN   NaN   NaN   NaN   \n",
       "TI                          NaN         NaN         NaN   NaN   NaN   NaN   \n",
       "V                           NaN         NaN         NaN   NaN   NaN   NaN   \n",
       "V40                         NaN         NaN         NaN   NaN   NaN   NaN   \n",
       "K                           NaN         NaN         NaN   NaN   NaN   NaN   \n",
       "CD                          NaN         NaN         NaN   NaN   NaN   NaN   \n",
       "ZN                          NaN         NaN         NaN   NaN   NaN   NaN   \n",
       "COMPONENT1                  NaN         NaN         NaN   NaN   NaN   NaN   \n",
       "COMPONENT2                  1.0         NaN         NaN   NaN   NaN   NaN   \n",
       "COMPONENT3                  NaN         1.0         NaN   NaN   NaN   NaN   \n",
       "COMPONENT4                  NaN         NaN         1.0   NaN   NaN   NaN   \n",
       "2007                        NaN         NaN         NaN   1.0   NaN   NaN   \n",
       "2008                        NaN         NaN         NaN   NaN   1.0   NaN   \n",
       "2009                        NaN         NaN         NaN   NaN   NaN   1.0   \n",
       "2010                        NaN         NaN         NaN   NaN   NaN   NaN   \n",
       "2011                        NaN         NaN         NaN   NaN   NaN   NaN   \n",
       "2012                        NaN         NaN         NaN   NaN   NaN   NaN   \n",
       "2013                        NaN         NaN         NaN   NaN   NaN   NaN   \n",
       "2014                        NaN         NaN         NaN   NaN   NaN   NaN   \n",
       "2015                        NaN         NaN         NaN   NaN   NaN   NaN   \n",
       "2016                        NaN         NaN         NaN   NaN   NaN   NaN   \n",
       "2017                        NaN         NaN         NaN   NaN   NaN   NaN   \n",
       "2018                        NaN         NaN         NaN   NaN   NaN   NaN   \n",
       "2019                        NaN         NaN         NaN   NaN   NaN   NaN   \n",
       "2020                        NaN         NaN         NaN   NaN   NaN   NaN   \n",
       "2021                        NaN         NaN         NaN   NaN   NaN   NaN   \n",
       "2022                        NaN         NaN         NaN   NaN   NaN   NaN   \n",
       "\n",
       "                     2010  2011  2012  2013  2014  2015  2016  2017  2018  \\\n",
       "ANONYMOUS_1           NaN   NaN   NaN   NaN   NaN   NaN   NaN   NaN   NaN   \n",
       "SAMPLE_TRANSFER_DAY   NaN   NaN   NaN   NaN   NaN   NaN   NaN   NaN   NaN   \n",
       "ANONYMOUS_2           NaN   NaN   NaN   NaN   NaN   NaN   NaN   NaN   NaN   \n",
       "AG                    NaN   NaN   NaN   NaN   NaN   NaN   NaN   NaN   NaN   \n",
       "AL                    NaN   NaN   NaN   NaN   NaN   NaN   NaN   NaN   NaN   \n",
       "B                     NaN   NaN   NaN   NaN   NaN   NaN   NaN   NaN   NaN   \n",
       "BA                    NaN   NaN   NaN   NaN   NaN   NaN   NaN   NaN   NaN   \n",
       "BE                    NaN   NaN   NaN   NaN   NaN   NaN   NaN   NaN   NaN   \n",
       "CA                    NaN   NaN   NaN   NaN   NaN   NaN   NaN   NaN   NaN   \n",
       "CO                    NaN   NaN   NaN   NaN   NaN   NaN   NaN   NaN   NaN   \n",
       "CR                    NaN   NaN   NaN   NaN   NaN   NaN   NaN   NaN   NaN   \n",
       "CU                    NaN   NaN   NaN   NaN   NaN   NaN   NaN   NaN   NaN   \n",
       "FE                    NaN   NaN   NaN   NaN   NaN   NaN   NaN   NaN   NaN   \n",
       "H2O                   NaN   NaN   NaN   NaN   NaN   NaN   NaN   NaN   NaN   \n",
       "LI                    NaN   NaN   NaN   NaN   NaN   NaN   NaN   NaN   NaN   \n",
       "MG                    NaN   NaN   NaN   NaN   NaN   NaN   NaN   NaN   NaN   \n",
       "MN                    NaN   NaN   NaN   NaN   NaN   NaN   NaN   NaN   NaN   \n",
       "MO                    NaN   NaN   NaN   NaN   NaN   NaN   NaN   NaN   NaN   \n",
       "NA                    NaN   NaN   NaN   NaN   NaN   NaN   NaN   NaN   NaN   \n",
       "NI                    NaN   NaN   NaN   NaN   NaN   NaN   NaN   NaN   NaN   \n",
       "P                     NaN   NaN   NaN   NaN   NaN   NaN   NaN   NaN   NaN   \n",
       "PB                    NaN   NaN   NaN   NaN   NaN   NaN   NaN   NaN   NaN   \n",
       "PQINDEX               NaN   NaN   NaN   NaN   NaN   NaN   NaN   NaN   NaN   \n",
       "S                     NaN   NaN   NaN   NaN   NaN   NaN   NaN   NaN   NaN   \n",
       "SB                    NaN   NaN   NaN   NaN   NaN   NaN   NaN   NaN   NaN   \n",
       "SI                    NaN   NaN   NaN   NaN   NaN   NaN   NaN   NaN   NaN   \n",
       "SN                    NaN   NaN   NaN   NaN   NaN   NaN   NaN   NaN   NaN   \n",
       "TI                    NaN   NaN   NaN   NaN   NaN   NaN   NaN   NaN   NaN   \n",
       "V                     NaN   NaN   NaN   NaN   NaN   NaN   NaN   NaN   NaN   \n",
       "V40                   NaN   NaN   NaN   NaN   NaN   NaN   NaN   NaN   NaN   \n",
       "K                     NaN   NaN   NaN   NaN   NaN   NaN   NaN   NaN   NaN   \n",
       "CD                    NaN   NaN   NaN   NaN   NaN   NaN   NaN   NaN   NaN   \n",
       "ZN                    NaN   NaN   NaN   NaN   NaN   NaN   NaN   NaN   NaN   \n",
       "COMPONENT1            NaN   NaN   NaN   NaN   NaN   NaN   NaN   NaN   NaN   \n",
       "COMPONENT2            NaN   NaN   NaN   NaN   NaN   NaN   NaN   NaN   NaN   \n",
       "COMPONENT3            NaN   NaN   NaN   NaN   NaN   NaN   NaN   NaN   NaN   \n",
       "COMPONENT4            NaN   NaN   NaN   NaN   NaN   NaN   NaN   NaN   NaN   \n",
       "2007                  NaN   NaN   NaN   NaN   NaN   NaN   NaN   NaN   NaN   \n",
       "2008                  NaN   NaN   NaN   NaN   NaN   NaN   NaN   NaN   NaN   \n",
       "2009                  NaN   NaN   NaN   NaN   NaN   NaN   NaN   NaN   NaN   \n",
       "2010                  1.0   NaN   NaN   NaN   NaN   NaN   NaN   NaN   NaN   \n",
       "2011                  NaN   1.0   NaN   NaN   NaN   NaN   NaN   NaN   NaN   \n",
       "2012                  NaN   NaN   1.0   NaN   NaN   NaN   NaN   NaN   NaN   \n",
       "2013                  NaN   NaN   NaN   1.0   NaN   NaN   NaN   NaN   NaN   \n",
       "2014                  NaN   NaN   NaN   NaN   1.0   NaN   NaN   NaN   NaN   \n",
       "2015                  NaN   NaN   NaN   NaN   NaN   1.0   NaN   NaN   NaN   \n",
       "2016                  NaN   NaN   NaN   NaN   NaN   NaN   1.0   NaN   NaN   \n",
       "2017                  NaN   NaN   NaN   NaN   NaN   NaN   NaN   1.0   NaN   \n",
       "2018                  NaN   NaN   NaN   NaN   NaN   NaN   NaN   NaN   1.0   \n",
       "2019                  NaN   NaN   NaN   NaN   NaN   NaN   NaN   NaN   NaN   \n",
       "2020                  NaN   NaN   NaN   NaN   NaN   NaN   NaN   NaN   NaN   \n",
       "2021                  NaN   NaN   NaN   NaN   NaN   NaN   NaN   NaN   NaN   \n",
       "2022                  NaN   NaN   NaN   NaN   NaN   NaN   NaN   NaN   NaN   \n",
       "\n",
       "                     2019  2020  2021  2022  \n",
       "ANONYMOUS_1           NaN   NaN   NaN   NaN  \n",
       "SAMPLE_TRANSFER_DAY   NaN   NaN   NaN   NaN  \n",
       "ANONYMOUS_2           NaN   NaN   NaN   NaN  \n",
       "AG                    NaN   NaN   NaN   NaN  \n",
       "AL                    NaN   NaN   NaN   NaN  \n",
       "B                     NaN   NaN   NaN   NaN  \n",
       "BA                    NaN   NaN   NaN   NaN  \n",
       "BE                    NaN   NaN   NaN   NaN  \n",
       "CA                    NaN   NaN   NaN   NaN  \n",
       "CO                    NaN   NaN   NaN   NaN  \n",
       "CR                    NaN   NaN   NaN   NaN  \n",
       "CU                    NaN   NaN   NaN   NaN  \n",
       "FE                    NaN   NaN   NaN   NaN  \n",
       "H2O                   NaN   NaN   NaN   NaN  \n",
       "LI                    NaN   NaN   NaN   NaN  \n",
       "MG                    NaN   NaN   NaN   NaN  \n",
       "MN                    NaN   NaN   NaN   NaN  \n",
       "MO                    NaN   NaN   NaN   NaN  \n",
       "NA                    NaN   NaN   NaN   NaN  \n",
       "NI                    NaN   NaN   NaN   NaN  \n",
       "P                     NaN   NaN   NaN   NaN  \n",
       "PB                    NaN   NaN   NaN   NaN  \n",
       "PQINDEX               NaN   NaN   NaN   NaN  \n",
       "S                     NaN   NaN   NaN   NaN  \n",
       "SB                    NaN   NaN   NaN   NaN  \n",
       "SI                    NaN   NaN   NaN   NaN  \n",
       "SN                    NaN   NaN   NaN   NaN  \n",
       "TI                    NaN   NaN   NaN   NaN  \n",
       "V                     NaN   NaN   NaN   NaN  \n",
       "V40                   NaN   NaN   NaN   NaN  \n",
       "K                     NaN   NaN   NaN   NaN  \n",
       "CD                    NaN   NaN   NaN   NaN  \n",
       "ZN                    NaN   NaN   NaN   NaN  \n",
       "COMPONENT1            NaN   NaN   NaN   NaN  \n",
       "COMPONENT2            NaN   NaN   NaN   NaN  \n",
       "COMPONENT3            NaN   NaN   NaN   NaN  \n",
       "COMPONENT4            NaN   NaN   NaN   NaN  \n",
       "2007                  NaN   NaN   NaN   NaN  \n",
       "2008                  NaN   NaN   NaN   NaN  \n",
       "2009                  NaN   NaN   NaN   NaN  \n",
       "2010                  NaN   NaN   NaN   NaN  \n",
       "2011                  NaN   NaN   NaN   NaN  \n",
       "2012                  NaN   NaN   NaN   NaN  \n",
       "2013                  NaN   NaN   NaN   NaN  \n",
       "2014                  NaN   NaN   NaN   NaN  \n",
       "2015                  NaN   NaN   NaN   NaN  \n",
       "2016                  NaN   NaN   NaN   NaN  \n",
       "2017                  NaN   NaN   NaN   NaN  \n",
       "2018                  NaN   NaN   NaN   NaN  \n",
       "2019                  1.0   NaN   NaN   NaN  \n",
       "2020                  NaN   1.0   NaN   NaN  \n",
       "2021                  NaN   NaN   1.0   NaN  \n",
       "2022                  NaN   NaN   NaN   1.0  "
      ]
     },
     "execution_count": 239,
     "metadata": {},
     "output_type": "execute_result"
    }
   ],
   "source": [
    "pd.set_option('display.max_columns', None) \n",
    "cor = all_X.corr()\n",
    "cor[cor>00.75]"
   ]
  },
  {
   "cell_type": "code",
   "execution_count": 80,
   "id": "1c4656b3",
   "metadata": {},
   "outputs": [],
   "source": [
    "class CustomDataset(Dataset):\n",
    "    def __init__(self, data_X, data_y, distillation=False):\n",
    "        super(CustomDataset, self).__init__()\n",
    "        self.data_X = data_X\n",
    "        self.data_y = data_y\n",
    "        self.distillation = distillation\n",
    "        \n",
    "    def __len__(self):\n",
    "        return len(self.data_X)\n",
    "    \n",
    "    def __getitem__(self, index):\n",
    "        if self.distillation:\n",
    "            # 지식 증류 학습 시\n",
    "            teacher_X = torch.Tensor(self.data_X.iloc[index].values)\n",
    "            student_X = torch.Tensor(self.data_X[test_stage_features].iloc[index].values)\n",
    "            y = self.data_y.values[index]\n",
    "            return teacher_X, student_X, y\n",
    "        else:\n",
    "            if self.data_y is None:\n",
    "                test_X = torch.Tensor(self.data_X.iloc[index].values)\n",
    "                return test_X\n",
    "            else:\n",
    "                teacher_X = torch.Tensor(self.data_X.iloc[index].values)\n",
    "                y = self.data_y.values[index]\n",
    "                return teacher_X, y"
   ]
  },
  {
   "cell_type": "code",
   "execution_count": 81,
   "id": "b83c4d65",
   "metadata": {},
   "outputs": [],
   "source": [
    "train_dataset = CustomDataset(train_X, train_y, False)\n",
    "val_dataset = CustomDataset(val_X, val_y, False)"
   ]
  },
  {
   "cell_type": "code",
   "execution_count": 82,
   "id": "d7d4b985",
   "metadata": {},
   "outputs": [],
   "source": [
    "train_loader = DataLoader(train_dataset, batch_size = CFG['BATCH_SIZE'], shuffle=True)\n",
    "val_loader = DataLoader(val_dataset, batch_size = CFG['BATCH_SIZE'], shuffle=False)"
   ]
  },
  {
   "cell_type": "code",
   "execution_count": 83,
   "id": "7fd4bab6",
   "metadata": {},
   "outputs": [
    {
     "data": {
      "text/html": [
       "<div>\n",
       "<style scoped>\n",
       "    .dataframe tbody tr th:only-of-type {\n",
       "        vertical-align: middle;\n",
       "    }\n",
       "\n",
       "    .dataframe tbody tr th {\n",
       "        vertical-align: top;\n",
       "    }\n",
       "\n",
       "    .dataframe thead th {\n",
       "        text-align: right;\n",
       "    }\n",
       "</style>\n",
       "<table border=\"1\" class=\"dataframe\">\n",
       "  <thead>\n",
       "    <tr style=\"text-align: right;\">\n",
       "      <th></th>\n",
       "      <th>ANONYMOUS_1</th>\n",
       "      <th>SAMPLE_TRANSFER_DAY</th>\n",
       "      <th>ANONYMOUS_2</th>\n",
       "      <th>AG</th>\n",
       "      <th>AL</th>\n",
       "      <th>B</th>\n",
       "      <th>BA</th>\n",
       "      <th>BE</th>\n",
       "      <th>CA</th>\n",
       "      <th>CD</th>\n",
       "      <th>CO</th>\n",
       "      <th>CR</th>\n",
       "      <th>CU</th>\n",
       "      <th>FH2O</th>\n",
       "      <th>FNOX</th>\n",
       "      <th>FOPTIMETHGLY</th>\n",
       "      <th>FOXID</th>\n",
       "      <th>FSO4</th>\n",
       "      <th>FTBN</th>\n",
       "      <th>FE</th>\n",
       "      <th>FUEL</th>\n",
       "      <th>H2O</th>\n",
       "      <th>K</th>\n",
       "      <th>LI</th>\n",
       "      <th>MG</th>\n",
       "      <th>MN</th>\n",
       "      <th>MO</th>\n",
       "      <th>NA</th>\n",
       "      <th>NI</th>\n",
       "      <th>P</th>\n",
       "      <th>PB</th>\n",
       "      <th>PQINDEX</th>\n",
       "      <th>S</th>\n",
       "      <th>SB</th>\n",
       "      <th>SI</th>\n",
       "      <th>SN</th>\n",
       "      <th>SOOTPERCENTAGE</th>\n",
       "      <th>TI</th>\n",
       "      <th>U100</th>\n",
       "      <th>U75</th>\n",
       "      <th>U50</th>\n",
       "      <th>U25</th>\n",
       "      <th>U20</th>\n",
       "      <th>U14</th>\n",
       "      <th>U6</th>\n",
       "      <th>U4</th>\n",
       "      <th>V</th>\n",
       "      <th>V100</th>\n",
       "      <th>V40</th>\n",
       "      <th>ZN</th>\n",
       "      <th>COMPONENT1</th>\n",
       "      <th>COMPONENT2</th>\n",
       "      <th>COMPONENT3</th>\n",
       "      <th>COMPONENT4</th>\n",
       "    </tr>\n",
       "  </thead>\n",
       "  <tbody>\n",
       "    <tr>\n",
       "      <th>6224</th>\n",
       "      <td>-0.069099</td>\n",
       "      <td>0.116588</td>\n",
       "      <td>-0.337936</td>\n",
       "      <td>-0.151896</td>\n",
       "      <td>-0.101686</td>\n",
       "      <td>0.678118</td>\n",
       "      <td>-0.228777</td>\n",
       "      <td>-0.042583</td>\n",
       "      <td>1.220967</td>\n",
       "      <td>-0.06603</td>\n",
       "      <td>-0.087612</td>\n",
       "      <td>-0.113358</td>\n",
       "      <td>-0.261477</td>\n",
       "      <td>-0.359401</td>\n",
       "      <td>-0.589503</td>\n",
       "      <td>-0.355339</td>\n",
       "      <td>-0.585942</td>\n",
       "      <td>-0.605969</td>\n",
       "      <td>-0.607530</td>\n",
       "      <td>-0.314001</td>\n",
       "      <td>-0.108366</td>\n",
       "      <td>-0.044504</td>\n",
       "      <td>-0.198039</td>\n",
       "      <td>-0.10941</td>\n",
       "      <td>-0.270107</td>\n",
       "      <td>-0.235440</td>\n",
       "      <td>-0.398820</td>\n",
       "      <td>-0.208246</td>\n",
       "      <td>-0.189712</td>\n",
       "      <td>-1.043886</td>\n",
       "      <td>-0.154584</td>\n",
       "      <td>-0.263715</td>\n",
       "      <td>-1.105093</td>\n",
       "      <td>-0.184755</td>\n",
       "      <td>-0.175244</td>\n",
       "      <td>0.783891</td>\n",
       "      <td>-0.383867</td>\n",
       "      <td>-0.097491</td>\n",
       "      <td>-0.074288</td>\n",
       "      <td>-0.097581</td>\n",
       "      <td>-0.070573</td>\n",
       "      <td>-0.045480</td>\n",
       "      <td>0.012590</td>\n",
       "      <td>0.149684</td>\n",
       "      <td>0.263073</td>\n",
       "      <td>0.501173</td>\n",
       "      <td>-0.113111</td>\n",
       "      <td>-0.595864</td>\n",
       "      <td>-0.755923</td>\n",
       "      <td>-0.284106</td>\n",
       "      <td>0</td>\n",
       "      <td>1</td>\n",
       "      <td>0</td>\n",
       "      <td>0</td>\n",
       "    </tr>\n",
       "    <tr>\n",
       "      <th>1786</th>\n",
       "      <td>-0.413153</td>\n",
       "      <td>-0.225434</td>\n",
       "      <td>0.293370</td>\n",
       "      <td>-0.151896</td>\n",
       "      <td>-0.125019</td>\n",
       "      <td>-0.549336</td>\n",
       "      <td>0.102931</td>\n",
       "      <td>-0.042583</td>\n",
       "      <td>-0.780446</td>\n",
       "      <td>-0.06603</td>\n",
       "      <td>-0.087612</td>\n",
       "      <td>-0.043191</td>\n",
       "      <td>-0.214906</td>\n",
       "      <td>1.081328</td>\n",
       "      <td>2.093840</td>\n",
       "      <td>2.074501</td>\n",
       "      <td>1.955765</td>\n",
       "      <td>1.988312</td>\n",
       "      <td>2.120598</td>\n",
       "      <td>-0.283485</td>\n",
       "      <td>-0.108366</td>\n",
       "      <td>-0.044504</td>\n",
       "      <td>0.750812</td>\n",
       "      <td>0.32653</td>\n",
       "      <td>-0.182968</td>\n",
       "      <td>-0.235440</td>\n",
       "      <td>1.918859</td>\n",
       "      <td>-0.208246</td>\n",
       "      <td>-0.189712</td>\n",
       "      <td>0.066496</td>\n",
       "      <td>-0.154584</td>\n",
       "      <td>-0.259153</td>\n",
       "      <td>-0.625465</td>\n",
       "      <td>0.617902</td>\n",
       "      <td>-0.131071</td>\n",
       "      <td>0.039447</td>\n",
       "      <td>1.870671</td>\n",
       "      <td>-0.097491</td>\n",
       "      <td>-0.074288</td>\n",
       "      <td>-0.097581</td>\n",
       "      <td>-0.070573</td>\n",
       "      <td>-0.116766</td>\n",
       "      <td>-0.116814</td>\n",
       "      <td>-0.128980</td>\n",
       "      <td>-0.122101</td>\n",
       "      <td>-0.170889</td>\n",
       "      <td>-0.113111</td>\n",
       "      <td>1.798817</td>\n",
       "      <td>0.083483</td>\n",
       "      <td>1.384500</td>\n",
       "      <td>1</td>\n",
       "      <td>0</td>\n",
       "      <td>0</td>\n",
       "      <td>0</td>\n",
       "    </tr>\n",
       "    <tr>\n",
       "      <th>2999</th>\n",
       "      <td>-0.413435</td>\n",
       "      <td>-0.396445</td>\n",
       "      <td>-0.013264</td>\n",
       "      <td>-0.151896</td>\n",
       "      <td>-0.113352</td>\n",
       "      <td>0.127214</td>\n",
       "      <td>-0.228777</td>\n",
       "      <td>-0.042583</td>\n",
       "      <td>1.283110</td>\n",
       "      <td>-0.06603</td>\n",
       "      <td>-0.087612</td>\n",
       "      <td>-0.113358</td>\n",
       "      <td>-0.253715</td>\n",
       "      <td>0.488087</td>\n",
       "      <td>0.901243</td>\n",
       "      <td>-0.355339</td>\n",
       "      <td>0.939082</td>\n",
       "      <td>1.231647</td>\n",
       "      <td>1.795225</td>\n",
       "      <td>-0.314001</td>\n",
       "      <td>2.083448</td>\n",
       "      <td>-0.044504</td>\n",
       "      <td>-0.008269</td>\n",
       "      <td>-0.10941</td>\n",
       "      <td>-0.148112</td>\n",
       "      <td>-0.235440</td>\n",
       "      <td>0.168094</td>\n",
       "      <td>-0.208246</td>\n",
       "      <td>-0.189712</td>\n",
       "      <td>-0.006345</td>\n",
       "      <td>-0.061985</td>\n",
       "      <td>-0.266974</td>\n",
       "      <td>-1.003650</td>\n",
       "      <td>-0.184755</td>\n",
       "      <td>-0.150703</td>\n",
       "      <td>-0.332775</td>\n",
       "      <td>-0.158414</td>\n",
       "      <td>-0.097491</td>\n",
       "      <td>-0.074288</td>\n",
       "      <td>-0.097581</td>\n",
       "      <td>-0.070573</td>\n",
       "      <td>-0.116766</td>\n",
       "      <td>-0.116814</td>\n",
       "      <td>-0.128980</td>\n",
       "      <td>-0.122101</td>\n",
       "      <td>-0.170889</td>\n",
       "      <td>-0.113111</td>\n",
       "      <td>1.649149</td>\n",
       "      <td>-0.114024</td>\n",
       "      <td>0.801991</td>\n",
       "      <td>1</td>\n",
       "      <td>0</td>\n",
       "      <td>0</td>\n",
       "      <td>0</td>\n",
       "    </tr>\n",
       "    <tr>\n",
       "      <th>12302</th>\n",
       "      <td>-0.003954</td>\n",
       "      <td>-0.567456</td>\n",
       "      <td>-0.337936</td>\n",
       "      <td>-0.151896</td>\n",
       "      <td>-0.125019</td>\n",
       "      <td>-0.597661</td>\n",
       "      <td>-0.228777</td>\n",
       "      <td>-0.042583</td>\n",
       "      <td>-0.906083</td>\n",
       "      <td>-0.06603</td>\n",
       "      <td>-0.087612</td>\n",
       "      <td>-0.008108</td>\n",
       "      <td>-0.253715</td>\n",
       "      <td>-0.359401</td>\n",
       "      <td>-0.589503</td>\n",
       "      <td>-0.355339</td>\n",
       "      <td>-0.585942</td>\n",
       "      <td>-0.605969</td>\n",
       "      <td>-0.607530</td>\n",
       "      <td>1.540321</td>\n",
       "      <td>-0.108366</td>\n",
       "      <td>-0.044504</td>\n",
       "      <td>-0.198039</td>\n",
       "      <td>0.32653</td>\n",
       "      <td>-0.182968</td>\n",
       "      <td>0.788237</td>\n",
       "      <td>-0.365472</td>\n",
       "      <td>-0.155563</td>\n",
       "      <td>-0.189712</td>\n",
       "      <td>0.913940</td>\n",
       "      <td>-0.154584</td>\n",
       "      <td>-0.058417</td>\n",
       "      <td>1.070625</td>\n",
       "      <td>1.019230</td>\n",
       "      <td>-0.072173</td>\n",
       "      <td>-0.332775</td>\n",
       "      <td>-0.383867</td>\n",
       "      <td>5.119013</td>\n",
       "      <td>-0.074288</td>\n",
       "      <td>-0.097581</td>\n",
       "      <td>-0.070573</td>\n",
       "      <td>-0.116766</td>\n",
       "      <td>-0.116814</td>\n",
       "      <td>-0.128980</td>\n",
       "      <td>-0.122101</td>\n",
       "      <td>-0.170889</td>\n",
       "      <td>-0.113111</td>\n",
       "      <td>-0.595864</td>\n",
       "      <td>0.891288</td>\n",
       "      <td>-0.998150</td>\n",
       "      <td>0</td>\n",
       "      <td>0</td>\n",
       "      <td>1</td>\n",
       "      <td>0</td>\n",
       "    </tr>\n",
       "    <tr>\n",
       "      <th>8063</th>\n",
       "      <td>-0.519754</td>\n",
       "      <td>-0.225434</td>\n",
       "      <td>-0.337936</td>\n",
       "      <td>-0.151896</td>\n",
       "      <td>-0.055021</td>\n",
       "      <td>-0.587996</td>\n",
       "      <td>0.434638</td>\n",
       "      <td>-0.042583</td>\n",
       "      <td>-0.905408</td>\n",
       "      <td>-0.06603</td>\n",
       "      <td>-0.087612</td>\n",
       "      <td>-0.078274</td>\n",
       "      <td>-0.230430</td>\n",
       "      <td>0.827082</td>\n",
       "      <td>1.199392</td>\n",
       "      <td>-0.355339</td>\n",
       "      <td>1.277977</td>\n",
       "      <td>1.339742</td>\n",
       "      <td>1.970426</td>\n",
       "      <td>-0.290665</td>\n",
       "      <td>-0.108366</td>\n",
       "      <td>-0.044504</td>\n",
       "      <td>0.118245</td>\n",
       "      <td>-0.10941</td>\n",
       "      <td>3.337463</td>\n",
       "      <td>-0.235440</td>\n",
       "      <td>2.185642</td>\n",
       "      <td>-0.050197</td>\n",
       "      <td>-0.189712</td>\n",
       "      <td>-0.036547</td>\n",
       "      <td>0.030615</td>\n",
       "      <td>-0.265019</td>\n",
       "      <td>-0.834578</td>\n",
       "      <td>-0.184755</td>\n",
       "      <td>-0.135979</td>\n",
       "      <td>0.783891</td>\n",
       "      <td>-0.158414</td>\n",
       "      <td>-0.097491</td>\n",
       "      <td>-0.074288</td>\n",
       "      <td>-0.097581</td>\n",
       "      <td>-0.070573</td>\n",
       "      <td>-0.116766</td>\n",
       "      <td>-0.116814</td>\n",
       "      <td>-0.128980</td>\n",
       "      <td>-0.122101</td>\n",
       "      <td>-0.170889</td>\n",
       "      <td>-0.113111</td>\n",
       "      <td>1.848706</td>\n",
       "      <td>0.231613</td>\n",
       "      <td>0.873395</td>\n",
       "      <td>1</td>\n",
       "      <td>0</td>\n",
       "      <td>0</td>\n",
       "      <td>0</td>\n",
       "    </tr>\n",
       "    <tr>\n",
       "      <th>...</th>\n",
       "      <td>...</td>\n",
       "      <td>...</td>\n",
       "      <td>...</td>\n",
       "      <td>...</td>\n",
       "      <td>...</td>\n",
       "      <td>...</td>\n",
       "      <td>...</td>\n",
       "      <td>...</td>\n",
       "      <td>...</td>\n",
       "      <td>...</td>\n",
       "      <td>...</td>\n",
       "      <td>...</td>\n",
       "      <td>...</td>\n",
       "      <td>...</td>\n",
       "      <td>...</td>\n",
       "      <td>...</td>\n",
       "      <td>...</td>\n",
       "      <td>...</td>\n",
       "      <td>...</td>\n",
       "      <td>...</td>\n",
       "      <td>...</td>\n",
       "      <td>...</td>\n",
       "      <td>...</td>\n",
       "      <td>...</td>\n",
       "      <td>...</td>\n",
       "      <td>...</td>\n",
       "      <td>...</td>\n",
       "      <td>...</td>\n",
       "      <td>...</td>\n",
       "      <td>...</td>\n",
       "      <td>...</td>\n",
       "      <td>...</td>\n",
       "      <td>...</td>\n",
       "      <td>...</td>\n",
       "      <td>...</td>\n",
       "      <td>...</td>\n",
       "      <td>...</td>\n",
       "      <td>...</td>\n",
       "      <td>...</td>\n",
       "      <td>...</td>\n",
       "      <td>...</td>\n",
       "      <td>...</td>\n",
       "      <td>...</td>\n",
       "      <td>...</td>\n",
       "      <td>...</td>\n",
       "      <td>...</td>\n",
       "      <td>...</td>\n",
       "      <td>...</td>\n",
       "      <td>...</td>\n",
       "      <td>...</td>\n",
       "      <td>...</td>\n",
       "      <td>...</td>\n",
       "      <td>...</td>\n",
       "      <td>...</td>\n",
       "    </tr>\n",
       "    <tr>\n",
       "      <th>10754</th>\n",
       "      <td>0.061190</td>\n",
       "      <td>-0.225434</td>\n",
       "      <td>-0.337936</td>\n",
       "      <td>-0.151896</td>\n",
       "      <td>-0.113352</td>\n",
       "      <td>3.683932</td>\n",
       "      <td>-0.228777</td>\n",
       "      <td>-0.042583</td>\n",
       "      <td>1.568833</td>\n",
       "      <td>-0.06603</td>\n",
       "      <td>-0.087612</td>\n",
       "      <td>-0.113358</td>\n",
       "      <td>-0.261477</td>\n",
       "      <td>1.250826</td>\n",
       "      <td>2.093840</td>\n",
       "      <td>-0.355339</td>\n",
       "      <td>2.125213</td>\n",
       "      <td>1.555932</td>\n",
       "      <td>1.670081</td>\n",
       "      <td>-0.306821</td>\n",
       "      <td>-0.108366</td>\n",
       "      <td>-0.044504</td>\n",
       "      <td>-0.008269</td>\n",
       "      <td>-0.10941</td>\n",
       "      <td>-0.174254</td>\n",
       "      <td>-0.235440</td>\n",
       "      <td>3.819689</td>\n",
       "      <td>-0.050197</td>\n",
       "      <td>-0.189712</td>\n",
       "      <td>0.499989</td>\n",
       "      <td>-0.154584</td>\n",
       "      <td>-0.268929</td>\n",
       "      <td>-0.728626</td>\n",
       "      <td>-0.184755</td>\n",
       "      <td>-0.145795</td>\n",
       "      <td>-0.332775</td>\n",
       "      <td>-0.158414</td>\n",
       "      <td>-0.097491</td>\n",
       "      <td>-0.074288</td>\n",
       "      <td>-0.097581</td>\n",
       "      <td>-0.070573</td>\n",
       "      <td>-0.116766</td>\n",
       "      <td>-0.116814</td>\n",
       "      <td>-0.128980</td>\n",
       "      <td>-0.122101</td>\n",
       "      <td>-0.170889</td>\n",
       "      <td>-0.113111</td>\n",
       "      <td>1.765557</td>\n",
       "      <td>0.049907</td>\n",
       "      <td>1.497244</td>\n",
       "      <td>1</td>\n",
       "      <td>0</td>\n",
       "      <td>0</td>\n",
       "      <td>0</td>\n",
       "    </tr>\n",
       "    <tr>\n",
       "      <th>11793</th>\n",
       "      <td>-0.406103</td>\n",
       "      <td>-0.310939</td>\n",
       "      <td>-0.337936</td>\n",
       "      <td>-0.151896</td>\n",
       "      <td>-0.113352</td>\n",
       "      <td>1.866913</td>\n",
       "      <td>-0.228777</td>\n",
       "      <td>-0.042583</td>\n",
       "      <td>1.208133</td>\n",
       "      <td>-0.06603</td>\n",
       "      <td>-0.087612</td>\n",
       "      <td>-0.043191</td>\n",
       "      <td>-0.245953</td>\n",
       "      <td>1.166077</td>\n",
       "      <td>2.690139</td>\n",
       "      <td>2.074501</td>\n",
       "      <td>2.803001</td>\n",
       "      <td>2.096407</td>\n",
       "      <td>1.670081</td>\n",
       "      <td>-0.290665</td>\n",
       "      <td>-0.108366</td>\n",
       "      <td>-0.044504</td>\n",
       "      <td>-0.008269</td>\n",
       "      <td>-0.10941</td>\n",
       "      <td>-0.182968</td>\n",
       "      <td>-0.235440</td>\n",
       "      <td>3.552906</td>\n",
       "      <td>-0.102880</td>\n",
       "      <td>-0.189712</td>\n",
       "      <td>0.384510</td>\n",
       "      <td>0.123214</td>\n",
       "      <td>-0.256546</td>\n",
       "      <td>-0.780367</td>\n",
       "      <td>-0.184755</td>\n",
       "      <td>-0.145795</td>\n",
       "      <td>0.039447</td>\n",
       "      <td>1.419763</td>\n",
       "      <td>-0.097491</td>\n",
       "      <td>-0.074288</td>\n",
       "      <td>-0.097581</td>\n",
       "      <td>-0.070573</td>\n",
       "      <td>-0.116766</td>\n",
       "      <td>-0.116814</td>\n",
       "      <td>-0.128980</td>\n",
       "      <td>-0.122101</td>\n",
       "      <td>-0.170889</td>\n",
       "      <td>-0.113111</td>\n",
       "      <td>1.782187</td>\n",
       "      <td>0.032131</td>\n",
       "      <td>1.499123</td>\n",
       "      <td>1</td>\n",
       "      <td>0</td>\n",
       "      <td>0</td>\n",
       "      <td>0</td>\n",
       "    </tr>\n",
       "    <tr>\n",
       "      <th>10052</th>\n",
       "      <td>0.304003</td>\n",
       "      <td>-0.396445</td>\n",
       "      <td>-0.337936</td>\n",
       "      <td>-0.151896</td>\n",
       "      <td>-0.148351</td>\n",
       "      <td>-0.549336</td>\n",
       "      <td>-0.228777</td>\n",
       "      <td>-0.042583</td>\n",
       "      <td>-0.911487</td>\n",
       "      <td>-0.06603</td>\n",
       "      <td>-0.087612</td>\n",
       "      <td>0.026975</td>\n",
       "      <td>0.848467</td>\n",
       "      <td>-0.359401</td>\n",
       "      <td>-0.589503</td>\n",
       "      <td>-0.355339</td>\n",
       "      <td>-0.585942</td>\n",
       "      <td>-0.605969</td>\n",
       "      <td>-0.607530</td>\n",
       "      <td>0.034245</td>\n",
       "      <td>-0.108366</td>\n",
       "      <td>-0.044504</td>\n",
       "      <td>-0.134782</td>\n",
       "      <td>-0.10941</td>\n",
       "      <td>-0.261393</td>\n",
       "      <td>0.020479</td>\n",
       "      <td>-0.398820</td>\n",
       "      <td>-0.050197</td>\n",
       "      <td>1.391556</td>\n",
       "      <td>0.029187</td>\n",
       "      <td>-0.154584</td>\n",
       "      <td>-0.193979</td>\n",
       "      <td>1.860381</td>\n",
       "      <td>-0.184755</td>\n",
       "      <td>-0.150703</td>\n",
       "      <td>-0.332775</td>\n",
       "      <td>-0.383867</td>\n",
       "      <td>-0.097491</td>\n",
       "      <td>-0.074288</td>\n",
       "      <td>-0.097581</td>\n",
       "      <td>-0.070573</td>\n",
       "      <td>-0.116766</td>\n",
       "      <td>-0.116814</td>\n",
       "      <td>-0.128980</td>\n",
       "      <td>-0.122101</td>\n",
       "      <td>-0.170889</td>\n",
       "      <td>-0.113111</td>\n",
       "      <td>-0.595864</td>\n",
       "      <td>0.707606</td>\n",
       "      <td>-0.868494</td>\n",
       "      <td>0</td>\n",
       "      <td>0</td>\n",
       "      <td>1</td>\n",
       "      <td>0</td>\n",
       "    </tr>\n",
       "    <tr>\n",
       "      <th>11805</th>\n",
       "      <td>-0.553595</td>\n",
       "      <td>-0.396445</td>\n",
       "      <td>-0.007853</td>\n",
       "      <td>-0.151896</td>\n",
       "      <td>-0.125019</td>\n",
       "      <td>-0.559001</td>\n",
       "      <td>0.766346</td>\n",
       "      <td>-0.042583</td>\n",
       "      <td>-0.178604</td>\n",
       "      <td>-0.06603</td>\n",
       "      <td>-0.087612</td>\n",
       "      <td>-0.078274</td>\n",
       "      <td>0.064521</td>\n",
       "      <td>0.657585</td>\n",
       "      <td>0.901243</td>\n",
       "      <td>-0.355339</td>\n",
       "      <td>0.939082</td>\n",
       "      <td>1.015457</td>\n",
       "      <td>1.169508</td>\n",
       "      <td>-0.267329</td>\n",
       "      <td>2.083448</td>\n",
       "      <td>-0.044504</td>\n",
       "      <td>0.181501</td>\n",
       "      <td>-0.10941</td>\n",
       "      <td>7.938423</td>\n",
       "      <td>-0.235440</td>\n",
       "      <td>0.418203</td>\n",
       "      <td>-0.155563</td>\n",
       "      <td>-0.189712</td>\n",
       "      <td>0.285019</td>\n",
       "      <td>-0.154584</td>\n",
       "      <td>-0.265671</td>\n",
       "      <td>-0.920885</td>\n",
       "      <td>-0.184755</td>\n",
       "      <td>-0.121254</td>\n",
       "      <td>0.783891</td>\n",
       "      <td>-0.383867</td>\n",
       "      <td>-0.097491</td>\n",
       "      <td>-0.074288</td>\n",
       "      <td>-0.097581</td>\n",
       "      <td>-0.070573</td>\n",
       "      <td>-0.116766</td>\n",
       "      <td>-0.116814</td>\n",
       "      <td>-0.128980</td>\n",
       "      <td>-0.122101</td>\n",
       "      <td>-0.170889</td>\n",
       "      <td>-0.113111</td>\n",
       "      <td>1.582630</td>\n",
       "      <td>-0.416210</td>\n",
       "      <td>1.207868</td>\n",
       "      <td>1</td>\n",
       "      <td>0</td>\n",
       "      <td>0</td>\n",
       "      <td>0</td>\n",
       "    </tr>\n",
       "    <tr>\n",
       "      <th>12169</th>\n",
       "      <td>0.428088</td>\n",
       "      <td>3.109281</td>\n",
       "      <td>0.293370</td>\n",
       "      <td>-0.151896</td>\n",
       "      <td>-0.101686</td>\n",
       "      <td>0.504148</td>\n",
       "      <td>0.102931</td>\n",
       "      <td>-0.042583</td>\n",
       "      <td>-0.862178</td>\n",
       "      <td>-0.06603</td>\n",
       "      <td>-0.087612</td>\n",
       "      <td>-0.113358</td>\n",
       "      <td>-0.245953</td>\n",
       "      <td>0.911831</td>\n",
       "      <td>1.497542</td>\n",
       "      <td>-0.355339</td>\n",
       "      <td>1.616871</td>\n",
       "      <td>1.772122</td>\n",
       "      <td>1.845282</td>\n",
       "      <td>-0.294255</td>\n",
       "      <td>-0.108366</td>\n",
       "      <td>-0.044504</td>\n",
       "      <td>0.244758</td>\n",
       "      <td>-0.10941</td>\n",
       "      <td>-0.139398</td>\n",
       "      <td>-0.235440</td>\n",
       "      <td>-0.398820</td>\n",
       "      <td>0.002486</td>\n",
       "      <td>-0.189712</td>\n",
       "      <td>0.270807</td>\n",
       "      <td>0.030615</td>\n",
       "      <td>-0.265671</td>\n",
       "      <td>-0.107299</td>\n",
       "      <td>-0.184755</td>\n",
       "      <td>-0.150703</td>\n",
       "      <td>0.039447</td>\n",
       "      <td>0.067040</td>\n",
       "      <td>-0.097491</td>\n",
       "      <td>-0.074288</td>\n",
       "      <td>-0.097581</td>\n",
       "      <td>-0.070573</td>\n",
       "      <td>-0.116766</td>\n",
       "      <td>-0.116814</td>\n",
       "      <td>-0.128980</td>\n",
       "      <td>-0.122101</td>\n",
       "      <td>-0.170889</td>\n",
       "      <td>-0.113111</td>\n",
       "      <td>1.748928</td>\n",
       "      <td>-0.159451</td>\n",
       "      <td>1.209747</td>\n",
       "      <td>1</td>\n",
       "      <td>0</td>\n",
       "      <td>0</td>\n",
       "      <td>0</td>\n",
       "    </tr>\n",
       "  </tbody>\n",
       "</table>\n",
       "<p>11276 rows × 54 columns</p>\n",
       "</div>"
      ],
      "text/plain": [
       "       ANONYMOUS_1  SAMPLE_TRANSFER_DAY  ANONYMOUS_2        AG        AL  \\\n",
       "6224     -0.069099             0.116588    -0.337936 -0.151896 -0.101686   \n",
       "1786     -0.413153            -0.225434     0.293370 -0.151896 -0.125019   \n",
       "2999     -0.413435            -0.396445    -0.013264 -0.151896 -0.113352   \n",
       "12302    -0.003954            -0.567456    -0.337936 -0.151896 -0.125019   \n",
       "8063     -0.519754            -0.225434    -0.337936 -0.151896 -0.055021   \n",
       "...            ...                  ...          ...       ...       ...   \n",
       "10754     0.061190            -0.225434    -0.337936 -0.151896 -0.113352   \n",
       "11793    -0.406103            -0.310939    -0.337936 -0.151896 -0.113352   \n",
       "10052     0.304003            -0.396445    -0.337936 -0.151896 -0.148351   \n",
       "11805    -0.553595            -0.396445    -0.007853 -0.151896 -0.125019   \n",
       "12169     0.428088             3.109281     0.293370 -0.151896 -0.101686   \n",
       "\n",
       "              B        BA        BE        CA       CD        CO        CR  \\\n",
       "6224   0.678118 -0.228777 -0.042583  1.220967 -0.06603 -0.087612 -0.113358   \n",
       "1786  -0.549336  0.102931 -0.042583 -0.780446 -0.06603 -0.087612 -0.043191   \n",
       "2999   0.127214 -0.228777 -0.042583  1.283110 -0.06603 -0.087612 -0.113358   \n",
       "12302 -0.597661 -0.228777 -0.042583 -0.906083 -0.06603 -0.087612 -0.008108   \n",
       "8063  -0.587996  0.434638 -0.042583 -0.905408 -0.06603 -0.087612 -0.078274   \n",
       "...         ...       ...       ...       ...      ...       ...       ...   \n",
       "10754  3.683932 -0.228777 -0.042583  1.568833 -0.06603 -0.087612 -0.113358   \n",
       "11793  1.866913 -0.228777 -0.042583  1.208133 -0.06603 -0.087612 -0.043191   \n",
       "10052 -0.549336 -0.228777 -0.042583 -0.911487 -0.06603 -0.087612  0.026975   \n",
       "11805 -0.559001  0.766346 -0.042583 -0.178604 -0.06603 -0.087612 -0.078274   \n",
       "12169  0.504148  0.102931 -0.042583 -0.862178 -0.06603 -0.087612 -0.113358   \n",
       "\n",
       "             CU      FH2O      FNOX  FOPTIMETHGLY     FOXID      FSO4  \\\n",
       "6224  -0.261477 -0.359401 -0.589503     -0.355339 -0.585942 -0.605969   \n",
       "1786  -0.214906  1.081328  2.093840      2.074501  1.955765  1.988312   \n",
       "2999  -0.253715  0.488087  0.901243     -0.355339  0.939082  1.231647   \n",
       "12302 -0.253715 -0.359401 -0.589503     -0.355339 -0.585942 -0.605969   \n",
       "8063  -0.230430  0.827082  1.199392     -0.355339  1.277977  1.339742   \n",
       "...         ...       ...       ...           ...       ...       ...   \n",
       "10754 -0.261477  1.250826  2.093840     -0.355339  2.125213  1.555932   \n",
       "11793 -0.245953  1.166077  2.690139      2.074501  2.803001  2.096407   \n",
       "10052  0.848467 -0.359401 -0.589503     -0.355339 -0.585942 -0.605969   \n",
       "11805  0.064521  0.657585  0.901243     -0.355339  0.939082  1.015457   \n",
       "12169 -0.245953  0.911831  1.497542     -0.355339  1.616871  1.772122   \n",
       "\n",
       "           FTBN        FE      FUEL       H2O         K       LI        MG  \\\n",
       "6224  -0.607530 -0.314001 -0.108366 -0.044504 -0.198039 -0.10941 -0.270107   \n",
       "1786   2.120598 -0.283485 -0.108366 -0.044504  0.750812  0.32653 -0.182968   \n",
       "2999   1.795225 -0.314001  2.083448 -0.044504 -0.008269 -0.10941 -0.148112   \n",
       "12302 -0.607530  1.540321 -0.108366 -0.044504 -0.198039  0.32653 -0.182968   \n",
       "8063   1.970426 -0.290665 -0.108366 -0.044504  0.118245 -0.10941  3.337463   \n",
       "...         ...       ...       ...       ...       ...      ...       ...   \n",
       "10754  1.670081 -0.306821 -0.108366 -0.044504 -0.008269 -0.10941 -0.174254   \n",
       "11793  1.670081 -0.290665 -0.108366 -0.044504 -0.008269 -0.10941 -0.182968   \n",
       "10052 -0.607530  0.034245 -0.108366 -0.044504 -0.134782 -0.10941 -0.261393   \n",
       "11805  1.169508 -0.267329  2.083448 -0.044504  0.181501 -0.10941  7.938423   \n",
       "12169  1.845282 -0.294255 -0.108366 -0.044504  0.244758 -0.10941 -0.139398   \n",
       "\n",
       "             MN        MO        NA        NI         P        PB   PQINDEX  \\\n",
       "6224  -0.235440 -0.398820 -0.208246 -0.189712 -1.043886 -0.154584 -0.263715   \n",
       "1786  -0.235440  1.918859 -0.208246 -0.189712  0.066496 -0.154584 -0.259153   \n",
       "2999  -0.235440  0.168094 -0.208246 -0.189712 -0.006345 -0.061985 -0.266974   \n",
       "12302  0.788237 -0.365472 -0.155563 -0.189712  0.913940 -0.154584 -0.058417   \n",
       "8063  -0.235440  2.185642 -0.050197 -0.189712 -0.036547  0.030615 -0.265019   \n",
       "...         ...       ...       ...       ...       ...       ...       ...   \n",
       "10754 -0.235440  3.819689 -0.050197 -0.189712  0.499989 -0.154584 -0.268929   \n",
       "11793 -0.235440  3.552906 -0.102880 -0.189712  0.384510  0.123214 -0.256546   \n",
       "10052  0.020479 -0.398820 -0.050197  1.391556  0.029187 -0.154584 -0.193979   \n",
       "11805 -0.235440  0.418203 -0.155563 -0.189712  0.285019 -0.154584 -0.265671   \n",
       "12169 -0.235440 -0.398820  0.002486 -0.189712  0.270807  0.030615 -0.265671   \n",
       "\n",
       "              S        SB        SI        SN  SOOTPERCENTAGE        TI  \\\n",
       "6224  -1.105093 -0.184755 -0.175244  0.783891       -0.383867 -0.097491   \n",
       "1786  -0.625465  0.617902 -0.131071  0.039447        1.870671 -0.097491   \n",
       "2999  -1.003650 -0.184755 -0.150703 -0.332775       -0.158414 -0.097491   \n",
       "12302  1.070625  1.019230 -0.072173 -0.332775       -0.383867  5.119013   \n",
       "8063  -0.834578 -0.184755 -0.135979  0.783891       -0.158414 -0.097491   \n",
       "...         ...       ...       ...       ...             ...       ...   \n",
       "10754 -0.728626 -0.184755 -0.145795 -0.332775       -0.158414 -0.097491   \n",
       "11793 -0.780367 -0.184755 -0.145795  0.039447        1.419763 -0.097491   \n",
       "10052  1.860381 -0.184755 -0.150703 -0.332775       -0.383867 -0.097491   \n",
       "11805 -0.920885 -0.184755 -0.121254  0.783891       -0.383867 -0.097491   \n",
       "12169 -0.107299 -0.184755 -0.150703  0.039447        0.067040 -0.097491   \n",
       "\n",
       "           U100       U75       U50       U25       U20       U14        U6  \\\n",
       "6224  -0.074288 -0.097581 -0.070573 -0.045480  0.012590  0.149684  0.263073   \n",
       "1786  -0.074288 -0.097581 -0.070573 -0.116766 -0.116814 -0.128980 -0.122101   \n",
       "2999  -0.074288 -0.097581 -0.070573 -0.116766 -0.116814 -0.128980 -0.122101   \n",
       "12302 -0.074288 -0.097581 -0.070573 -0.116766 -0.116814 -0.128980 -0.122101   \n",
       "8063  -0.074288 -0.097581 -0.070573 -0.116766 -0.116814 -0.128980 -0.122101   \n",
       "...         ...       ...       ...       ...       ...       ...       ...   \n",
       "10754 -0.074288 -0.097581 -0.070573 -0.116766 -0.116814 -0.128980 -0.122101   \n",
       "11793 -0.074288 -0.097581 -0.070573 -0.116766 -0.116814 -0.128980 -0.122101   \n",
       "10052 -0.074288 -0.097581 -0.070573 -0.116766 -0.116814 -0.128980 -0.122101   \n",
       "11805 -0.074288 -0.097581 -0.070573 -0.116766 -0.116814 -0.128980 -0.122101   \n",
       "12169 -0.074288 -0.097581 -0.070573 -0.116766 -0.116814 -0.128980 -0.122101   \n",
       "\n",
       "             U4         V      V100       V40        ZN  COMPONENT1  \\\n",
       "6224   0.501173 -0.113111 -0.595864 -0.755923 -0.284106           0   \n",
       "1786  -0.170889 -0.113111  1.798817  0.083483  1.384500           1   \n",
       "2999  -0.170889 -0.113111  1.649149 -0.114024  0.801991           1   \n",
       "12302 -0.170889 -0.113111 -0.595864  0.891288 -0.998150           0   \n",
       "8063  -0.170889 -0.113111  1.848706  0.231613  0.873395           1   \n",
       "...         ...       ...       ...       ...       ...         ...   \n",
       "10754 -0.170889 -0.113111  1.765557  0.049907  1.497244           1   \n",
       "11793 -0.170889 -0.113111  1.782187  0.032131  1.499123           1   \n",
       "10052 -0.170889 -0.113111 -0.595864  0.707606 -0.868494           0   \n",
       "11805 -0.170889 -0.113111  1.582630 -0.416210  1.207868           1   \n",
       "12169 -0.170889 -0.113111  1.748928 -0.159451  1.209747           1   \n",
       "\n",
       "       COMPONENT2  COMPONENT3  COMPONENT4  \n",
       "6224            1           0           0  \n",
       "1786            0           0           0  \n",
       "2999            0           0           0  \n",
       "12302           0           1           0  \n",
       "8063            0           0           0  \n",
       "...           ...         ...         ...  \n",
       "10754           0           0           0  \n",
       "11793           0           0           0  \n",
       "10052           0           1           0  \n",
       "11805           0           0           0  \n",
       "12169           0           0           0  \n",
       "\n",
       "[11276 rows x 54 columns]"
      ]
     },
     "execution_count": 83,
     "metadata": {},
     "output_type": "execute_result"
    }
   ],
   "source": [
    "train_X"
   ]
  },
  {
   "cell_type": "code",
   "execution_count": 84,
   "id": "806cbd42",
   "metadata": {},
   "outputs": [],
   "source": [
    "class Teacher(nn.Module):\n",
    "    def __init__(self):\n",
    "        super(Teacher, self).__init__()\n",
    "        self.classifier = nn.Sequential(\n",
    "            nn.Linear(in_features=54, out_features=256),\n",
    "            nn.BatchNorm1d(256),\n",
    "            nn.LeakyReLU(),\n",
    "            nn.Dropout(p=0.2),\n",
    "            nn.Linear(in_features=256, out_features=1024),\n",
    "            nn.BatchNorm1d(1024),\n",
    "            nn.LeakyReLU(),\n",
    "            nn.Dropout(p=0.2),\n",
    "            nn.Linear(in_features=1024, out_features=4096),\n",
    "            nn.BatchNorm1d(4096),\n",
    "            nn.LeakyReLU(),\n",
    "            nn.Dropout(p=0.2),\n",
    "            nn.Linear(in_features=4096, out_features=1024),\n",
    "            nn.BatchNorm1d(1024),\n",
    "            nn.LeakyReLU(),\n",
    "            nn.Dropout(p=0.2),\n",
    "            nn.Linear(in_features=1024, out_features=256),\n",
    "            nn.BatchNorm1d(256),\n",
    "            nn.LeakyReLU(),\n",
    "            nn.Linear(in_features=256, out_features=1),\n",
    "            nn.Sigmoid()\n",
    "        )\n",
    "        \n",
    "    def forward(self, x):\n",
    "        output = self.classifier(x)\n",
    "        return output"
   ]
  },
  {
   "cell_type": "code",
   "execution_count": 85,
   "id": "960b0440",
   "metadata": {},
   "outputs": [],
   "source": [
    "def train(model, optimizer, train_loader, val_loader, scheduler, device):\n",
    "    model.to(device)\n",
    "\n",
    "    best_score = 0\n",
    "    best_model = None\n",
    "    criterion = nn.BCELoss().to(device)\n",
    "\n",
    "    for epoch in range(CFG[\"EPOCHS\"]):\n",
    "        train_loss = []\n",
    "  \n",
    "        model.train()\n",
    "        for X, y in tqdm(train_loader):\n",
    "            X = X.float().to(device)\n",
    "            y = y.float().to(device)\n",
    "            \n",
    "            optimizer.zero_grad()\n",
    "            \n",
    "            y_pred = model(X)\n",
    "            \n",
    "            loss = criterion(y_pred, y.reshape(-1, 1))\n",
    "            loss.backward()\n",
    "            \n",
    "            optimizer.step()\n",
    "\n",
    "            train_loss.append(loss.item())\n",
    "\n",
    "        val_loss, val_score = validation_teacher(model, val_loader, criterion, device)\n",
    "        print(f'Epoch [{epoch}], Train Loss : [{np.mean(train_loss) :.5f}] Val Loss : [{np.mean(val_loss) :.5f}] Val F1 Score : [{val_score:.5f}]')\n",
    "\n",
    "        if scheduler is not None:\n",
    "            scheduler.step(val_score)\n",
    "            \n",
    "        if best_score < val_score:\n",
    "            best_model = model\n",
    "            best_score = val_score\n",
    "        \n",
    "    return best_model "
   ]
  },
  {
   "cell_type": "code",
   "execution_count": 86,
   "id": "9c51ae25",
   "metadata": {},
   "outputs": [],
   "source": [
    "def competition_metric(true, pred):\n",
    "    return f1_score(true, pred, average=\"macro\")\n",
    "\n",
    "def validation_teacher(model, val_loader, criterion, device):\n",
    "    model.eval()\n",
    "\n",
    "    val_loss = []\n",
    "    pred_labels = []\n",
    "    true_labels = []\n",
    "    threshold = 0.35\n",
    "    \n",
    "    with torch.no_grad():\n",
    "        for X, y in tqdm(val_loader):\n",
    "            X = X.float().to(device)\n",
    "            y = y.float().to(device)\n",
    "            \n",
    "            model_pred = model(X.to(device))\n",
    "            \n",
    "            loss = criterion(model_pred, y.reshape(-1, 1))\n",
    "            val_loss.append(loss.item())      \n",
    "            \n",
    "            model_pred = model_pred.squeeze(1).to('cpu')  \n",
    "            pred_labels += model_pred.tolist()\n",
    "            true_labels += y.tolist()\n",
    "        \n",
    "        pred_labels = np.where(np.array(pred_labels) > threshold, 1, 0)\n",
    "        val_f1 = competition_metric(true_labels, pred_labels)\n",
    "    return val_loss, val_f1   "
   ]
  },
  {
   "cell_type": "code",
   "execution_count": 87,
   "id": "0e2d703e",
   "metadata": {
    "scrolled": true
   },
   "outputs": [
    {
     "data": {
      "application/vnd.jupyter.widget-view+json": {
       "model_id": "50486491657a4a20af4d5c3e274858ef",
       "version_major": 2,
       "version_minor": 0
      },
      "text/plain": [
       "  0%|          | 0/45 [00:00<?, ?it/s]"
      ]
     },
     "metadata": {},
     "output_type": "display_data"
    },
    {
     "data": {
      "application/vnd.jupyter.widget-view+json": {
       "model_id": "f190df646fb54c93aac72f2fc02cc703",
       "version_major": 2,
       "version_minor": 0
      },
      "text/plain": [
       "  0%|          | 0/12 [00:00<?, ?it/s]"
      ]
     },
     "metadata": {},
     "output_type": "display_data"
    },
    {
     "name": "stdout",
     "output_type": "stream",
     "text": [
      "Epoch [0], Train Loss : [0.40143] Val Loss : [0.34407] Val F1 Score : [0.78184]\n"
     ]
    },
    {
     "data": {
      "application/vnd.jupyter.widget-view+json": {
       "model_id": "6c442c23a2a14e7b9916c898fd7f6c9a",
       "version_major": 2,
       "version_minor": 0
      },
      "text/plain": [
       "  0%|          | 0/45 [00:00<?, ?it/s]"
      ]
     },
     "metadata": {},
     "output_type": "display_data"
    },
    {
     "data": {
      "application/vnd.jupyter.widget-view+json": {
       "model_id": "873d599486a84be48b5244d60b522114",
       "version_major": 2,
       "version_minor": 0
      },
      "text/plain": [
       "  0%|          | 0/12 [00:00<?, ?it/s]"
      ]
     },
     "metadata": {},
     "output_type": "display_data"
    },
    {
     "name": "stdout",
     "output_type": "stream",
     "text": [
      "Epoch [1], Train Loss : [0.34531] Val Loss : [0.31065] Val F1 Score : [0.79345]\n"
     ]
    },
    {
     "data": {
      "application/vnd.jupyter.widget-view+json": {
       "model_id": "112efe63559949e092fa17e655e75673",
       "version_major": 2,
       "version_minor": 0
      },
      "text/plain": [
       "  0%|          | 0/45 [00:00<?, ?it/s]"
      ]
     },
     "metadata": {},
     "output_type": "display_data"
    },
    {
     "data": {
      "application/vnd.jupyter.widget-view+json": {
       "model_id": "fb7cda8c0e4443edaeba3db4ff8703f6",
       "version_major": 2,
       "version_minor": 0
      },
      "text/plain": [
       "  0%|          | 0/12 [00:00<?, ?it/s]"
      ]
     },
     "metadata": {},
     "output_type": "display_data"
    },
    {
     "name": "stdout",
     "output_type": "stream",
     "text": [
      "Epoch [2], Train Loss : [0.32751] Val Loss : [0.30431] Val F1 Score : [0.80480]\n"
     ]
    },
    {
     "data": {
      "application/vnd.jupyter.widget-view+json": {
       "model_id": "f392ee5f4ae143e585205b52dcada5c7",
       "version_major": 2,
       "version_minor": 0
      },
      "text/plain": [
       "  0%|          | 0/45 [00:00<?, ?it/s]"
      ]
     },
     "metadata": {},
     "output_type": "display_data"
    },
    {
     "data": {
      "application/vnd.jupyter.widget-view+json": {
       "model_id": "53317ab763274d3c8d814f159355e9c6",
       "version_major": 2,
       "version_minor": 0
      },
      "text/plain": [
       "  0%|          | 0/12 [00:00<?, ?it/s]"
      ]
     },
     "metadata": {},
     "output_type": "display_data"
    },
    {
     "name": "stdout",
     "output_type": "stream",
     "text": [
      "Epoch [3], Train Loss : [0.34412] Val Loss : [0.34273] Val F1 Score : [0.79291]\n"
     ]
    },
    {
     "data": {
      "application/vnd.jupyter.widget-view+json": {
       "model_id": "5bcbd75c4c6d4828b309096f1587cfb7",
       "version_major": 2,
       "version_minor": 0
      },
      "text/plain": [
       "  0%|          | 0/45 [00:00<?, ?it/s]"
      ]
     },
     "metadata": {},
     "output_type": "display_data"
    },
    {
     "data": {
      "application/vnd.jupyter.widget-view+json": {
       "model_id": "93375f4d82564fedaf0cbbb611906bcb",
       "version_major": 2,
       "version_minor": 0
      },
      "text/plain": [
       "  0%|          | 0/12 [00:00<?, ?it/s]"
      ]
     },
     "metadata": {},
     "output_type": "display_data"
    },
    {
     "name": "stdout",
     "output_type": "stream",
     "text": [
      "Epoch [4], Train Loss : [0.34162] Val Loss : [0.30081] Val F1 Score : [0.79981]\n",
      "Epoch 00005: reducing learning rate of group 0 to 5.0000e-03.\n"
     ]
    },
    {
     "data": {
      "application/vnd.jupyter.widget-view+json": {
       "model_id": "7c6fd6958ca740bb9dfcbdcc0548f15f",
       "version_major": 2,
       "version_minor": 0
      },
      "text/plain": [
       "  0%|          | 0/45 [00:00<?, ?it/s]"
      ]
     },
     "metadata": {},
     "output_type": "display_data"
    },
    {
     "data": {
      "application/vnd.jupyter.widget-view+json": {
       "model_id": "beb5b46bc64b48acbcc7d598169d5bf2",
       "version_major": 2,
       "version_minor": 0
      },
      "text/plain": [
       "  0%|          | 0/12 [00:00<?, ?it/s]"
      ]
     },
     "metadata": {},
     "output_type": "display_data"
    },
    {
     "name": "stdout",
     "output_type": "stream",
     "text": [
      "Epoch [5], Train Loss : [0.31595] Val Loss : [0.29329] Val F1 Score : [0.80144]\n"
     ]
    },
    {
     "data": {
      "application/vnd.jupyter.widget-view+json": {
       "model_id": "669cbc95ff1b4c3799f2f95696b0506a",
       "version_major": 2,
       "version_minor": 0
      },
      "text/plain": [
       "  0%|          | 0/45 [00:00<?, ?it/s]"
      ]
     },
     "metadata": {},
     "output_type": "display_data"
    },
    {
     "data": {
      "application/vnd.jupyter.widget-view+json": {
       "model_id": "993b55cedc9b4bcebf64c7cc2b9c3fcd",
       "version_major": 2,
       "version_minor": 0
      },
      "text/plain": [
       "  0%|          | 0/12 [00:00<?, ?it/s]"
      ]
     },
     "metadata": {},
     "output_type": "display_data"
    },
    {
     "name": "stdout",
     "output_type": "stream",
     "text": [
      "Epoch [6], Train Loss : [0.30897] Val Loss : [0.29170] Val F1 Score : [0.81253]\n"
     ]
    },
    {
     "data": {
      "application/vnd.jupyter.widget-view+json": {
       "model_id": "d9a53b1577e8420fa12cd4b4f892e312",
       "version_major": 2,
       "version_minor": 0
      },
      "text/plain": [
       "  0%|          | 0/45 [00:00<?, ?it/s]"
      ]
     },
     "metadata": {},
     "output_type": "display_data"
    },
    {
     "data": {
      "application/vnd.jupyter.widget-view+json": {
       "model_id": "c9de1f9b4b3846c5b5980b963d5d2af1",
       "version_major": 2,
       "version_minor": 0
      },
      "text/plain": [
       "  0%|          | 0/12 [00:00<?, ?it/s]"
      ]
     },
     "metadata": {},
     "output_type": "display_data"
    },
    {
     "name": "stdout",
     "output_type": "stream",
     "text": [
      "Epoch [7], Train Loss : [0.30595] Val Loss : [0.29520] Val F1 Score : [0.80302]\n"
     ]
    },
    {
     "data": {
      "application/vnd.jupyter.widget-view+json": {
       "model_id": "b6b7884477014432a3ff9add2f9a4c0a",
       "version_major": 2,
       "version_minor": 0
      },
      "text/plain": [
       "  0%|          | 0/45 [00:00<?, ?it/s]"
      ]
     },
     "metadata": {},
     "output_type": "display_data"
    },
    {
     "data": {
      "application/vnd.jupyter.widget-view+json": {
       "model_id": "c1a2aad300704c03b8e97ba786e4c972",
       "version_major": 2,
       "version_minor": 0
      },
      "text/plain": [
       "  0%|          | 0/12 [00:00<?, ?it/s]"
      ]
     },
     "metadata": {},
     "output_type": "display_data"
    },
    {
     "name": "stdout",
     "output_type": "stream",
     "text": [
      "Epoch [8], Train Loss : [0.29785] Val Loss : [0.29376] Val F1 Score : [0.81108]\n",
      "Epoch 00009: reducing learning rate of group 0 to 2.5000e-03.\n"
     ]
    },
    {
     "data": {
      "application/vnd.jupyter.widget-view+json": {
       "model_id": "80ee7bea4298429b902a76d4dc7884f5",
       "version_major": 2,
       "version_minor": 0
      },
      "text/plain": [
       "  0%|          | 0/45 [00:00<?, ?it/s]"
      ]
     },
     "metadata": {},
     "output_type": "display_data"
    },
    {
     "data": {
      "application/vnd.jupyter.widget-view+json": {
       "model_id": "26640e4def5d41d8a5d8a860a4f93b5a",
       "version_major": 2,
       "version_minor": 0
      },
      "text/plain": [
       "  0%|          | 0/12 [00:00<?, ?it/s]"
      ]
     },
     "metadata": {},
     "output_type": "display_data"
    },
    {
     "name": "stdout",
     "output_type": "stream",
     "text": [
      "Epoch [9], Train Loss : [0.28841] Val Loss : [0.28651] Val F1 Score : [0.81183]\n"
     ]
    },
    {
     "data": {
      "application/vnd.jupyter.widget-view+json": {
       "model_id": "a7950f7576274113aa1e74c2dad7df96",
       "version_major": 2,
       "version_minor": 0
      },
      "text/plain": [
       "  0%|          | 0/45 [00:00<?, ?it/s]"
      ]
     },
     "metadata": {},
     "output_type": "display_data"
    },
    {
     "data": {
      "application/vnd.jupyter.widget-view+json": {
       "model_id": "85d34c94cb4249488342f0a9d99eb8c5",
       "version_major": 2,
       "version_minor": 0
      },
      "text/plain": [
       "  0%|          | 0/12 [00:00<?, ?it/s]"
      ]
     },
     "metadata": {},
     "output_type": "display_data"
    },
    {
     "name": "stdout",
     "output_type": "stream",
     "text": [
      "Epoch [10], Train Loss : [0.27761] Val Loss : [0.28383] Val F1 Score : [0.81060]\n",
      "Epoch 00011: reducing learning rate of group 0 to 1.2500e-03.\n"
     ]
    },
    {
     "data": {
      "application/vnd.jupyter.widget-view+json": {
       "model_id": "0c2fc8f00a8e4e469888ffc2502ff1a4",
       "version_major": 2,
       "version_minor": 0
      },
      "text/plain": [
       "  0%|          | 0/45 [00:00<?, ?it/s]"
      ]
     },
     "metadata": {},
     "output_type": "display_data"
    },
    {
     "data": {
      "application/vnd.jupyter.widget-view+json": {
       "model_id": "c6ca2f0b3ed54cc29e42d9bcd64dd30d",
       "version_major": 2,
       "version_minor": 0
      },
      "text/plain": [
       "  0%|          | 0/12 [00:00<?, ?it/s]"
      ]
     },
     "metadata": {},
     "output_type": "display_data"
    },
    {
     "name": "stdout",
     "output_type": "stream",
     "text": [
      "Epoch [11], Train Loss : [0.29245] Val Loss : [0.28317] Val F1 Score : [0.81275]\n"
     ]
    },
    {
     "data": {
      "application/vnd.jupyter.widget-view+json": {
       "model_id": "a1b717d4c3a444ed9b724ba48fafb409",
       "version_major": 2,
       "version_minor": 0
      },
      "text/plain": [
       "  0%|          | 0/45 [00:00<?, ?it/s]"
      ]
     },
     "metadata": {},
     "output_type": "display_data"
    },
    {
     "data": {
      "application/vnd.jupyter.widget-view+json": {
       "model_id": "ebfaaa925a884db881d3b572586a18f2",
       "version_major": 2,
       "version_minor": 0
      },
      "text/plain": [
       "  0%|          | 0/12 [00:00<?, ?it/s]"
      ]
     },
     "metadata": {},
     "output_type": "display_data"
    },
    {
     "name": "stdout",
     "output_type": "stream",
     "text": [
      "Epoch [12], Train Loss : [0.27925] Val Loss : [0.28197] Val F1 Score : [0.81342]\n"
     ]
    },
    {
     "data": {
      "application/vnd.jupyter.widget-view+json": {
       "model_id": "35ca2e613f2645e994d7d4a0edd004f2",
       "version_major": 2,
       "version_minor": 0
      },
      "text/plain": [
       "  0%|          | 0/45 [00:00<?, ?it/s]"
      ]
     },
     "metadata": {},
     "output_type": "display_data"
    },
    {
     "data": {
      "application/vnd.jupyter.widget-view+json": {
       "model_id": "05e305168eeb47f98d3a5d5f47b370a5",
       "version_major": 2,
       "version_minor": 0
      },
      "text/plain": [
       "  0%|          | 0/12 [00:00<?, ?it/s]"
      ]
     },
     "metadata": {},
     "output_type": "display_data"
    },
    {
     "name": "stdout",
     "output_type": "stream",
     "text": [
      "Epoch [13], Train Loss : [0.28500] Val Loss : [0.28138] Val F1 Score : [0.81425]\n"
     ]
    },
    {
     "data": {
      "application/vnd.jupyter.widget-view+json": {
       "model_id": "eb5d5251f30e45cfaa02ba489808fd74",
       "version_major": 2,
       "version_minor": 0
      },
      "text/plain": [
       "  0%|          | 0/45 [00:00<?, ?it/s]"
      ]
     },
     "metadata": {},
     "output_type": "display_data"
    },
    {
     "data": {
      "application/vnd.jupyter.widget-view+json": {
       "model_id": "cb965d95df1849258e549e203be85efd",
       "version_major": 2,
       "version_minor": 0
      },
      "text/plain": [
       "  0%|          | 0/12 [00:00<?, ?it/s]"
      ]
     },
     "metadata": {},
     "output_type": "display_data"
    },
    {
     "name": "stdout",
     "output_type": "stream",
     "text": [
      "Epoch [14], Train Loss : [0.27129] Val Loss : [0.28344] Val F1 Score : [0.81383]\n"
     ]
    },
    {
     "data": {
      "application/vnd.jupyter.widget-view+json": {
       "model_id": "4370d18aa3304dacbc985381c68b61b1",
       "version_major": 2,
       "version_minor": 0
      },
      "text/plain": [
       "  0%|          | 0/45 [00:00<?, ?it/s]"
      ]
     },
     "metadata": {},
     "output_type": "display_data"
    },
    {
     "data": {
      "application/vnd.jupyter.widget-view+json": {
       "model_id": "4bb5de73a70a4adc83413a8195c668c3",
       "version_major": 2,
       "version_minor": 0
      },
      "text/plain": [
       "  0%|          | 0/12 [00:00<?, ?it/s]"
      ]
     },
     "metadata": {},
     "output_type": "display_data"
    },
    {
     "name": "stdout",
     "output_type": "stream",
     "text": [
      "Epoch [15], Train Loss : [0.26874] Val Loss : [0.29022] Val F1 Score : [0.81113]\n",
      "Epoch 00016: reducing learning rate of group 0 to 6.2500e-04.\n"
     ]
    },
    {
     "data": {
      "application/vnd.jupyter.widget-view+json": {
       "model_id": "5c5d6aead0804229bfbbf042adb2517a",
       "version_major": 2,
       "version_minor": 0
      },
      "text/plain": [
       "  0%|          | 0/45 [00:00<?, ?it/s]"
      ]
     },
     "metadata": {},
     "output_type": "display_data"
    },
    {
     "data": {
      "application/vnd.jupyter.widget-view+json": {
       "model_id": "9059bdd746934876a0527e3d4697a7de",
       "version_major": 2,
       "version_minor": 0
      },
      "text/plain": [
       "  0%|          | 0/12 [00:00<?, ?it/s]"
      ]
     },
     "metadata": {},
     "output_type": "display_data"
    },
    {
     "name": "stdout",
     "output_type": "stream",
     "text": [
      "Epoch [16], Train Loss : [0.26749] Val Loss : [0.27941] Val F1 Score : [0.81449]\n"
     ]
    },
    {
     "data": {
      "application/vnd.jupyter.widget-view+json": {
       "model_id": "482702b90905496abae5179a0a242680",
       "version_major": 2,
       "version_minor": 0
      },
      "text/plain": [
       "  0%|          | 0/45 [00:00<?, ?it/s]"
      ]
     },
     "metadata": {},
     "output_type": "display_data"
    },
    {
     "data": {
      "application/vnd.jupyter.widget-view+json": {
       "model_id": "f3cf762f144f48bba01c5ce05e4b9c07",
       "version_major": 2,
       "version_minor": 0
      },
      "text/plain": [
       "  0%|          | 0/12 [00:00<?, ?it/s]"
      ]
     },
     "metadata": {},
     "output_type": "display_data"
    },
    {
     "name": "stdout",
     "output_type": "stream",
     "text": [
      "Epoch [17], Train Loss : [0.27454] Val Loss : [0.28473] Val F1 Score : [0.81219]\n"
     ]
    },
    {
     "data": {
      "application/vnd.jupyter.widget-view+json": {
       "model_id": "39a2539dae774c26b23d948ca56749f6",
       "version_major": 2,
       "version_minor": 0
      },
      "text/plain": [
       "  0%|          | 0/45 [00:00<?, ?it/s]"
      ]
     },
     "metadata": {},
     "output_type": "display_data"
    },
    {
     "data": {
      "application/vnd.jupyter.widget-view+json": {
       "model_id": "a159f2258c094b1ea15575abcb24c11e",
       "version_major": 2,
       "version_minor": 0
      },
      "text/plain": [
       "  0%|          | 0/12 [00:00<?, ?it/s]"
      ]
     },
     "metadata": {},
     "output_type": "display_data"
    },
    {
     "name": "stdout",
     "output_type": "stream",
     "text": [
      "Epoch [18], Train Loss : [0.27263] Val Loss : [0.28229] Val F1 Score : [0.81425]\n",
      "Epoch 00019: reducing learning rate of group 0 to 3.1250e-04.\n"
     ]
    },
    {
     "data": {
      "application/vnd.jupyter.widget-view+json": {
       "model_id": "92ef692a4d2b4ffcb566665234fb3df1",
       "version_major": 2,
       "version_minor": 0
      },
      "text/plain": [
       "  0%|          | 0/45 [00:00<?, ?it/s]"
      ]
     },
     "metadata": {},
     "output_type": "display_data"
    },
    {
     "data": {
      "application/vnd.jupyter.widget-view+json": {
       "model_id": "c060ca6c8261449c8ccaa638abda4a31",
       "version_major": 2,
       "version_minor": 0
      },
      "text/plain": [
       "  0%|          | 0/12 [00:00<?, ?it/s]"
      ]
     },
     "metadata": {},
     "output_type": "display_data"
    },
    {
     "name": "stdout",
     "output_type": "stream",
     "text": [
      "Epoch [19], Train Loss : [0.26645] Val Loss : [0.28495] Val F1 Score : [0.81545]\n"
     ]
    },
    {
     "data": {
      "application/vnd.jupyter.widget-view+json": {
       "model_id": "d3ab9c34a6fd4c5c96d35b7e664cef38",
       "version_major": 2,
       "version_minor": 0
      },
      "text/plain": [
       "  0%|          | 0/45 [00:00<?, ?it/s]"
      ]
     },
     "metadata": {},
     "output_type": "display_data"
    },
    {
     "data": {
      "application/vnd.jupyter.widget-view+json": {
       "model_id": "513fe35303ab423c8713eed01f07f854",
       "version_major": 2,
       "version_minor": 0
      },
      "text/plain": [
       "  0%|          | 0/12 [00:00<?, ?it/s]"
      ]
     },
     "metadata": {},
     "output_type": "display_data"
    },
    {
     "name": "stdout",
     "output_type": "stream",
     "text": [
      "Epoch [20], Train Loss : [0.26126] Val Loss : [0.28077] Val F1 Score : [0.81236]\n"
     ]
    },
    {
     "data": {
      "application/vnd.jupyter.widget-view+json": {
       "model_id": "044cc81e97054712b3e29bdb83af940b",
       "version_major": 2,
       "version_minor": 0
      },
      "text/plain": [
       "  0%|          | 0/45 [00:00<?, ?it/s]"
      ]
     },
     "metadata": {},
     "output_type": "display_data"
    },
    {
     "data": {
      "application/vnd.jupyter.widget-view+json": {
       "model_id": "8ee4057f854646199f78f769ee591d05",
       "version_major": 2,
       "version_minor": 0
      },
      "text/plain": [
       "  0%|          | 0/12 [00:00<?, ?it/s]"
      ]
     },
     "metadata": {},
     "output_type": "display_data"
    },
    {
     "name": "stdout",
     "output_type": "stream",
     "text": [
      "Epoch [21], Train Loss : [0.27065] Val Loss : [0.27976] Val F1 Score : [0.81389]\n",
      "Epoch 00022: reducing learning rate of group 0 to 1.5625e-04.\n"
     ]
    },
    {
     "data": {
      "application/vnd.jupyter.widget-view+json": {
       "model_id": "7d77e5a35f8a489a80769fac393c9bf7",
       "version_major": 2,
       "version_minor": 0
      },
      "text/plain": [
       "  0%|          | 0/45 [00:00<?, ?it/s]"
      ]
     },
     "metadata": {},
     "output_type": "display_data"
    },
    {
     "data": {
      "application/vnd.jupyter.widget-view+json": {
       "model_id": "3b3a4b751298420f8ec9b8c50bb05cb8",
       "version_major": 2,
       "version_minor": 0
      },
      "text/plain": [
       "  0%|          | 0/12 [00:00<?, ?it/s]"
      ]
     },
     "metadata": {},
     "output_type": "display_data"
    },
    {
     "name": "stdout",
     "output_type": "stream",
     "text": [
      "Epoch [22], Train Loss : [0.26049] Val Loss : [0.29058] Val F1 Score : [0.79965]\n"
     ]
    },
    {
     "data": {
      "application/vnd.jupyter.widget-view+json": {
       "model_id": "19e69ab0f9b84312b322aa07440af518",
       "version_major": 2,
       "version_minor": 0
      },
      "text/plain": [
       "  0%|          | 0/45 [00:00<?, ?it/s]"
      ]
     },
     "metadata": {},
     "output_type": "display_data"
    },
    {
     "data": {
      "application/vnd.jupyter.widget-view+json": {
       "model_id": "3f0bc54c6f3341dea72eedfc2db8499a",
       "version_major": 2,
       "version_minor": 0
      },
      "text/plain": [
       "  0%|          | 0/12 [00:00<?, ?it/s]"
      ]
     },
     "metadata": {},
     "output_type": "display_data"
    },
    {
     "name": "stdout",
     "output_type": "stream",
     "text": [
      "Epoch [23], Train Loss : [0.27538] Val Loss : [0.28451] Val F1 Score : [0.81226]\n",
      "Epoch 00024: reducing learning rate of group 0 to 7.8125e-05.\n"
     ]
    },
    {
     "data": {
      "application/vnd.jupyter.widget-view+json": {
       "model_id": "0b79f24576ae49ac9d34eabdad658e85",
       "version_major": 2,
       "version_minor": 0
      },
      "text/plain": [
       "  0%|          | 0/45 [00:00<?, ?it/s]"
      ]
     },
     "metadata": {},
     "output_type": "display_data"
    },
    {
     "data": {
      "application/vnd.jupyter.widget-view+json": {
       "model_id": "4c421b669cbb4b8ba86aa7a1c998577a",
       "version_major": 2,
       "version_minor": 0
      },
      "text/plain": [
       "  0%|          | 0/12 [00:00<?, ?it/s]"
      ]
     },
     "metadata": {},
     "output_type": "display_data"
    },
    {
     "name": "stdout",
     "output_type": "stream",
     "text": [
      "Epoch [24], Train Loss : [0.27172] Val Loss : [0.27694] Val F1 Score : [0.81280]\n"
     ]
    },
    {
     "data": {
      "application/vnd.jupyter.widget-view+json": {
       "model_id": "2fdf107090864e4abce9e45de1133a0a",
       "version_major": 2,
       "version_minor": 0
      },
      "text/plain": [
       "  0%|          | 0/45 [00:00<?, ?it/s]"
      ]
     },
     "metadata": {},
     "output_type": "display_data"
    },
    {
     "data": {
      "application/vnd.jupyter.widget-view+json": {
       "model_id": "e1ece8fb02f5431d88438479ed794fac",
       "version_major": 2,
       "version_minor": 0
      },
      "text/plain": [
       "  0%|          | 0/12 [00:00<?, ?it/s]"
      ]
     },
     "metadata": {},
     "output_type": "display_data"
    },
    {
     "name": "stdout",
     "output_type": "stream",
     "text": [
      "Epoch [25], Train Loss : [0.28419] Val Loss : [0.27932] Val F1 Score : [0.81024]\n",
      "Epoch 00026: reducing learning rate of group 0 to 3.9063e-05.\n"
     ]
    },
    {
     "data": {
      "application/vnd.jupyter.widget-view+json": {
       "model_id": "3af1b2a12d4f4a21a7c757de9c1cefcf",
       "version_major": 2,
       "version_minor": 0
      },
      "text/plain": [
       "  0%|          | 0/45 [00:00<?, ?it/s]"
      ]
     },
     "metadata": {},
     "output_type": "display_data"
    },
    {
     "data": {
      "application/vnd.jupyter.widget-view+json": {
       "model_id": "8a67298e790744799183db7ca21cc7dc",
       "version_major": 2,
       "version_minor": 0
      },
      "text/plain": [
       "  0%|          | 0/12 [00:00<?, ?it/s]"
      ]
     },
     "metadata": {},
     "output_type": "display_data"
    },
    {
     "name": "stdout",
     "output_type": "stream",
     "text": [
      "Epoch [26], Train Loss : [0.25961] Val Loss : [0.28313] Val F1 Score : [0.81416]\n"
     ]
    },
    {
     "data": {
      "application/vnd.jupyter.widget-view+json": {
       "model_id": "e5abcfd418a048d9957e60d98d89e361",
       "version_major": 2,
       "version_minor": 0
      },
      "text/plain": [
       "  0%|          | 0/45 [00:00<?, ?it/s]"
      ]
     },
     "metadata": {},
     "output_type": "display_data"
    },
    {
     "data": {
      "application/vnd.jupyter.widget-view+json": {
       "model_id": "b9fae271b01d4c00b782bab7a674e258",
       "version_major": 2,
       "version_minor": 0
      },
      "text/plain": [
       "  0%|          | 0/12 [00:00<?, ?it/s]"
      ]
     },
     "metadata": {},
     "output_type": "display_data"
    },
    {
     "name": "stdout",
     "output_type": "stream",
     "text": [
      "Epoch [27], Train Loss : [0.26414] Val Loss : [0.28030] Val F1 Score : [0.80910]\n",
      "Epoch 00028: reducing learning rate of group 0 to 1.9531e-05.\n"
     ]
    },
    {
     "data": {
      "application/vnd.jupyter.widget-view+json": {
       "model_id": "d1c06420452b455b87ec0988d5976218",
       "version_major": 2,
       "version_minor": 0
      },
      "text/plain": [
       "  0%|          | 0/45 [00:00<?, ?it/s]"
      ]
     },
     "metadata": {},
     "output_type": "display_data"
    },
    {
     "data": {
      "application/vnd.jupyter.widget-view+json": {
       "model_id": "3b8b49cf442349d4afddb3b6bcdc2e82",
       "version_major": 2,
       "version_minor": 0
      },
      "text/plain": [
       "  0%|          | 0/12 [00:00<?, ?it/s]"
      ]
     },
     "metadata": {},
     "output_type": "display_data"
    },
    {
     "name": "stdout",
     "output_type": "stream",
     "text": [
      "Epoch [28], Train Loss : [0.26979] Val Loss : [0.27737] Val F1 Score : [0.81204]\n"
     ]
    },
    {
     "data": {
      "application/vnd.jupyter.widget-view+json": {
       "model_id": "4069269ffc784f26bebae0c4e58301f9",
       "version_major": 2,
       "version_minor": 0
      },
      "text/plain": [
       "  0%|          | 0/45 [00:00<?, ?it/s]"
      ]
     },
     "metadata": {},
     "output_type": "display_data"
    },
    {
     "data": {
      "application/vnd.jupyter.widget-view+json": {
       "model_id": "b75591ba542142b6b89ec1e409d36f5b",
       "version_major": 2,
       "version_minor": 0
      },
      "text/plain": [
       "  0%|          | 0/12 [00:00<?, ?it/s]"
      ]
     },
     "metadata": {},
     "output_type": "display_data"
    },
    {
     "name": "stdout",
     "output_type": "stream",
     "text": [
      "Epoch [29], Train Loss : [0.26697] Val Loss : [0.28106] Val F1 Score : [0.81126]\n",
      "Epoch 00030: reducing learning rate of group 0 to 9.7656e-06.\n"
     ]
    },
    {
     "data": {
      "application/vnd.jupyter.widget-view+json": {
       "model_id": "a37be727de0644d4b23b69fea6819b26",
       "version_major": 2,
       "version_minor": 0
      },
      "text/plain": [
       "  0%|          | 0/45 [00:00<?, ?it/s]"
      ]
     },
     "metadata": {},
     "output_type": "display_data"
    },
    {
     "data": {
      "application/vnd.jupyter.widget-view+json": {
       "model_id": "70f2861503124492800f722c66d43840",
       "version_major": 2,
       "version_minor": 0
      },
      "text/plain": [
       "  0%|          | 0/12 [00:00<?, ?it/s]"
      ]
     },
     "metadata": {},
     "output_type": "display_data"
    },
    {
     "name": "stdout",
     "output_type": "stream",
     "text": [
      "Epoch [30], Train Loss : [0.27055] Val Loss : [0.28620] Val F1 Score : [0.80474]\n"
     ]
    },
    {
     "data": {
      "application/vnd.jupyter.widget-view+json": {
       "model_id": "075a7cc6bd6648f4a8fced16bf3c942f",
       "version_major": 2,
       "version_minor": 0
      },
      "text/plain": [
       "  0%|          | 0/45 [00:00<?, ?it/s]"
      ]
     },
     "metadata": {},
     "output_type": "display_data"
    },
    {
     "data": {
      "application/vnd.jupyter.widget-view+json": {
       "model_id": "0525f81d85ae48c0979d0db28c790cc9",
       "version_major": 2,
       "version_minor": 0
      },
      "text/plain": [
       "  0%|          | 0/12 [00:00<?, ?it/s]"
      ]
     },
     "metadata": {},
     "output_type": "display_data"
    },
    {
     "name": "stdout",
     "output_type": "stream",
     "text": [
      "Epoch [31], Train Loss : [0.26168] Val Loss : [0.28529] Val F1 Score : [0.81162]\n",
      "Epoch 00032: reducing learning rate of group 0 to 4.8828e-06.\n"
     ]
    },
    {
     "data": {
      "application/vnd.jupyter.widget-view+json": {
       "model_id": "7f77323114814fc4a978b576f07afb68",
       "version_major": 2,
       "version_minor": 0
      },
      "text/plain": [
       "  0%|          | 0/45 [00:00<?, ?it/s]"
      ]
     },
     "metadata": {},
     "output_type": "display_data"
    },
    {
     "data": {
      "application/vnd.jupyter.widget-view+json": {
       "model_id": "e9530431e1d840a9a0a982cbe55b9296",
       "version_major": 2,
       "version_minor": 0
      },
      "text/plain": [
       "  0%|          | 0/12 [00:00<?, ?it/s]"
      ]
     },
     "metadata": {},
     "output_type": "display_data"
    },
    {
     "name": "stdout",
     "output_type": "stream",
     "text": [
      "Epoch [32], Train Loss : [0.27633] Val Loss : [0.27810] Val F1 Score : [0.81461]\n"
     ]
    },
    {
     "data": {
      "application/vnd.jupyter.widget-view+json": {
       "model_id": "dcc4c4eb30274bc89fe7977133df776c",
       "version_major": 2,
       "version_minor": 0
      },
      "text/plain": [
       "  0%|          | 0/45 [00:00<?, ?it/s]"
      ]
     },
     "metadata": {},
     "output_type": "display_data"
    },
    {
     "data": {
      "application/vnd.jupyter.widget-view+json": {
       "model_id": "ea4d22f729b748e9a74eec52efbabba1",
       "version_major": 2,
       "version_minor": 0
      },
      "text/plain": [
       "  0%|          | 0/12 [00:00<?, ?it/s]"
      ]
     },
     "metadata": {},
     "output_type": "display_data"
    },
    {
     "name": "stdout",
     "output_type": "stream",
     "text": [
      "Epoch [33], Train Loss : [0.26164] Val Loss : [0.28212] Val F1 Score : [0.81362]\n",
      "Epoch 00034: reducing learning rate of group 0 to 2.4414e-06.\n"
     ]
    },
    {
     "data": {
      "application/vnd.jupyter.widget-view+json": {
       "model_id": "50ecb5f480e64b42b3c8ec242bf4d847",
       "version_major": 2,
       "version_minor": 0
      },
      "text/plain": [
       "  0%|          | 0/45 [00:00<?, ?it/s]"
      ]
     },
     "metadata": {},
     "output_type": "display_data"
    },
    {
     "data": {
      "application/vnd.jupyter.widget-view+json": {
       "model_id": "a95893ad8eda4775a5dc794552c2e933",
       "version_major": 2,
       "version_minor": 0
      },
      "text/plain": [
       "  0%|          | 0/12 [00:00<?, ?it/s]"
      ]
     },
     "metadata": {},
     "output_type": "display_data"
    },
    {
     "name": "stdout",
     "output_type": "stream",
     "text": [
      "Epoch [34], Train Loss : [0.26213] Val Loss : [0.28947] Val F1 Score : [0.79661]\n"
     ]
    },
    {
     "data": {
      "application/vnd.jupyter.widget-view+json": {
       "model_id": "32e6dae519794051967501981b829047",
       "version_major": 2,
       "version_minor": 0
      },
      "text/plain": [
       "  0%|          | 0/45 [00:00<?, ?it/s]"
      ]
     },
     "metadata": {},
     "output_type": "display_data"
    },
    {
     "data": {
      "application/vnd.jupyter.widget-view+json": {
       "model_id": "67901153d40b4e9ebf1a06cfd8ab7e6b",
       "version_major": 2,
       "version_minor": 0
      },
      "text/plain": [
       "  0%|          | 0/12 [00:00<?, ?it/s]"
      ]
     },
     "metadata": {},
     "output_type": "display_data"
    },
    {
     "name": "stdout",
     "output_type": "stream",
     "text": [
      "Epoch [35], Train Loss : [0.28742] Val Loss : [0.27790] Val F1 Score : [0.81343]\n",
      "Epoch 00036: reducing learning rate of group 0 to 1.2207e-06.\n"
     ]
    },
    {
     "data": {
      "application/vnd.jupyter.widget-view+json": {
       "model_id": "5b15337828fd49818b7e997ae3b1d7c2",
       "version_major": 2,
       "version_minor": 0
      },
      "text/plain": [
       "  0%|          | 0/45 [00:00<?, ?it/s]"
      ]
     },
     "metadata": {},
     "output_type": "display_data"
    },
    {
     "data": {
      "application/vnd.jupyter.widget-view+json": {
       "model_id": "ecd078f37374419bb2aab72f2a45fc27",
       "version_major": 2,
       "version_minor": 0
      },
      "text/plain": [
       "  0%|          | 0/12 [00:00<?, ?it/s]"
      ]
     },
     "metadata": {},
     "output_type": "display_data"
    },
    {
     "name": "stdout",
     "output_type": "stream",
     "text": [
      "Epoch [36], Train Loss : [0.25934] Val Loss : [0.27945] Val F1 Score : [0.81100]\n"
     ]
    },
    {
     "data": {
      "application/vnd.jupyter.widget-view+json": {
       "model_id": "f152c367c2d74600b047c653d69824c7",
       "version_major": 2,
       "version_minor": 0
      },
      "text/plain": [
       "  0%|          | 0/45 [00:00<?, ?it/s]"
      ]
     },
     "metadata": {},
     "output_type": "display_data"
    },
    {
     "data": {
      "application/vnd.jupyter.widget-view+json": {
       "model_id": "84df4335b0b74c259851878d55fdabd5",
       "version_major": 2,
       "version_minor": 0
      },
      "text/plain": [
       "  0%|          | 0/12 [00:00<?, ?it/s]"
      ]
     },
     "metadata": {},
     "output_type": "display_data"
    },
    {
     "name": "stdout",
     "output_type": "stream",
     "text": [
      "Epoch [37], Train Loss : [0.26099] Val Loss : [0.28155] Val F1 Score : [0.81196]\n",
      "Epoch 00038: reducing learning rate of group 0 to 6.1035e-07.\n"
     ]
    },
    {
     "data": {
      "application/vnd.jupyter.widget-view+json": {
       "model_id": "6ca4ef294d7d408e9851fd1061b541da",
       "version_major": 2,
       "version_minor": 0
      },
      "text/plain": [
       "  0%|          | 0/45 [00:00<?, ?it/s]"
      ]
     },
     "metadata": {},
     "output_type": "display_data"
    },
    {
     "data": {
      "application/vnd.jupyter.widget-view+json": {
       "model_id": "42cc3a56e07f4775afe671a72c0cd185",
       "version_major": 2,
       "version_minor": 0
      },
      "text/plain": [
       "  0%|          | 0/12 [00:00<?, ?it/s]"
      ]
     },
     "metadata": {},
     "output_type": "display_data"
    },
    {
     "name": "stdout",
     "output_type": "stream",
     "text": [
      "Epoch [38], Train Loss : [0.26178] Val Loss : [0.28817] Val F1 Score : [0.80828]\n"
     ]
    },
    {
     "data": {
      "application/vnd.jupyter.widget-view+json": {
       "model_id": "ec44de26e3f74d64b9a81cb1dca0f9be",
       "version_major": 2,
       "version_minor": 0
      },
      "text/plain": [
       "  0%|          | 0/45 [00:00<?, ?it/s]"
      ]
     },
     "metadata": {},
     "output_type": "display_data"
    },
    {
     "data": {
      "application/vnd.jupyter.widget-view+json": {
       "model_id": "fd971742201b4f99a92a34edca951273",
       "version_major": 2,
       "version_minor": 0
      },
      "text/plain": [
       "  0%|          | 0/12 [00:00<?, ?it/s]"
      ]
     },
     "metadata": {},
     "output_type": "display_data"
    },
    {
     "name": "stdout",
     "output_type": "stream",
     "text": [
      "Epoch [39], Train Loss : [0.27573] Val Loss : [0.27931] Val F1 Score : [0.81181]\n",
      "Epoch 00040: reducing learning rate of group 0 to 3.0518e-07.\n"
     ]
    },
    {
     "data": {
      "application/vnd.jupyter.widget-view+json": {
       "model_id": "07123ab44a0f4fe2819be148e77660c2",
       "version_major": 2,
       "version_minor": 0
      },
      "text/plain": [
       "  0%|          | 0/45 [00:00<?, ?it/s]"
      ]
     },
     "metadata": {},
     "output_type": "display_data"
    },
    {
     "data": {
      "application/vnd.jupyter.widget-view+json": {
       "model_id": "ae621eb92d624531b28f6f6133db08e7",
       "version_major": 2,
       "version_minor": 0
      },
      "text/plain": [
       "  0%|          | 0/12 [00:00<?, ?it/s]"
      ]
     },
     "metadata": {},
     "output_type": "display_data"
    },
    {
     "name": "stdout",
     "output_type": "stream",
     "text": [
      "Epoch [40], Train Loss : [0.26719] Val Loss : [0.28162] Val F1 Score : [0.81094]\n"
     ]
    },
    {
     "data": {
      "application/vnd.jupyter.widget-view+json": {
       "model_id": "b4e7f6e2b7c3489e836782d6a8dbcf04",
       "version_major": 2,
       "version_minor": 0
      },
      "text/plain": [
       "  0%|          | 0/45 [00:00<?, ?it/s]"
      ]
     },
     "metadata": {},
     "output_type": "display_data"
    },
    {
     "data": {
      "application/vnd.jupyter.widget-view+json": {
       "model_id": "18302aaabb1043a3960a5a2a3024abd4",
       "version_major": 2,
       "version_minor": 0
      },
      "text/plain": [
       "  0%|          | 0/12 [00:00<?, ?it/s]"
      ]
     },
     "metadata": {},
     "output_type": "display_data"
    },
    {
     "name": "stdout",
     "output_type": "stream",
     "text": [
      "Epoch [41], Train Loss : [0.26154] Val Loss : [0.27740] Val F1 Score : [0.81599]\n"
     ]
    },
    {
     "data": {
      "application/vnd.jupyter.widget-view+json": {
       "model_id": "8b48569e3d82470b898e5247dbcd3806",
       "version_major": 2,
       "version_minor": 0
      },
      "text/plain": [
       "  0%|          | 0/45 [00:00<?, ?it/s]"
      ]
     },
     "metadata": {},
     "output_type": "display_data"
    },
    {
     "data": {
      "application/vnd.jupyter.widget-view+json": {
       "model_id": "05fc28eac6e74cf5bd615ca182b491a8",
       "version_major": 2,
       "version_minor": 0
      },
      "text/plain": [
       "  0%|          | 0/12 [00:00<?, ?it/s]"
      ]
     },
     "metadata": {},
     "output_type": "display_data"
    },
    {
     "name": "stdout",
     "output_type": "stream",
     "text": [
      "Epoch [42], Train Loss : [0.27375] Val Loss : [0.28289] Val F1 Score : [0.81043]\n"
     ]
    },
    {
     "data": {
      "application/vnd.jupyter.widget-view+json": {
       "model_id": "e521c63e3ab94d1992bb39fac2802843",
       "version_major": 2,
       "version_minor": 0
      },
      "text/plain": [
       "  0%|          | 0/45 [00:00<?, ?it/s]"
      ]
     },
     "metadata": {},
     "output_type": "display_data"
    },
    {
     "data": {
      "application/vnd.jupyter.widget-view+json": {
       "model_id": "e847ec7c6e944b44aa27611f9fd644e0",
       "version_major": 2,
       "version_minor": 0
      },
      "text/plain": [
       "  0%|          | 0/12 [00:00<?, ?it/s]"
      ]
     },
     "metadata": {},
     "output_type": "display_data"
    },
    {
     "name": "stdout",
     "output_type": "stream",
     "text": [
      "Epoch [43], Train Loss : [0.26932] Val Loss : [0.28077] Val F1 Score : [0.81389]\n",
      "Epoch 00044: reducing learning rate of group 0 to 1.5259e-07.\n"
     ]
    },
    {
     "data": {
      "application/vnd.jupyter.widget-view+json": {
       "model_id": "67542891261b4a1c91cb01631465bc28",
       "version_major": 2,
       "version_minor": 0
      },
      "text/plain": [
       "  0%|          | 0/45 [00:00<?, ?it/s]"
      ]
     },
     "metadata": {},
     "output_type": "display_data"
    },
    {
     "data": {
      "application/vnd.jupyter.widget-view+json": {
       "model_id": "22d20b63b7ac483b92d5b08431e5538b",
       "version_major": 2,
       "version_minor": 0
      },
      "text/plain": [
       "  0%|          | 0/12 [00:00<?, ?it/s]"
      ]
     },
     "metadata": {},
     "output_type": "display_data"
    },
    {
     "name": "stdout",
     "output_type": "stream",
     "text": [
      "Epoch [44], Train Loss : [0.25962] Val Loss : [0.28053] Val F1 Score : [0.81127]\n"
     ]
    },
    {
     "data": {
      "application/vnd.jupyter.widget-view+json": {
       "model_id": "c2bc5b4063304cdfaa661428f28af1d1",
       "version_major": 2,
       "version_minor": 0
      },
      "text/plain": [
       "  0%|          | 0/45 [00:00<?, ?it/s]"
      ]
     },
     "metadata": {},
     "output_type": "display_data"
    },
    {
     "data": {
      "application/vnd.jupyter.widget-view+json": {
       "model_id": "3a3a4825c1d14739a3fd304ad9e84bd2",
       "version_major": 2,
       "version_minor": 0
      },
      "text/plain": [
       "  0%|          | 0/12 [00:00<?, ?it/s]"
      ]
     },
     "metadata": {},
     "output_type": "display_data"
    },
    {
     "name": "stdout",
     "output_type": "stream",
     "text": [
      "Epoch [45], Train Loss : [0.26926] Val Loss : [0.28113] Val F1 Score : [0.81042]\n",
      "Epoch 00046: reducing learning rate of group 0 to 7.6294e-08.\n"
     ]
    },
    {
     "data": {
      "application/vnd.jupyter.widget-view+json": {
       "model_id": "5a4fa6ae4b9948cfa1e8c207169a1f82",
       "version_major": 2,
       "version_minor": 0
      },
      "text/plain": [
       "  0%|          | 0/45 [00:00<?, ?it/s]"
      ]
     },
     "metadata": {},
     "output_type": "display_data"
    },
    {
     "data": {
      "application/vnd.jupyter.widget-view+json": {
       "model_id": "c07613cd452e4a668f13efc18a08e994",
       "version_major": 2,
       "version_minor": 0
      },
      "text/plain": [
       "  0%|          | 0/12 [00:00<?, ?it/s]"
      ]
     },
     "metadata": {},
     "output_type": "display_data"
    },
    {
     "name": "stdout",
     "output_type": "stream",
     "text": [
      "Epoch [46], Train Loss : [0.26492] Val Loss : [0.27805] Val F1 Score : [0.81024]\n"
     ]
    },
    {
     "data": {
      "application/vnd.jupyter.widget-view+json": {
       "model_id": "bbfbe18322544b6c9b84f8961745603f",
       "version_major": 2,
       "version_minor": 0
      },
      "text/plain": [
       "  0%|          | 0/45 [00:00<?, ?it/s]"
      ]
     },
     "metadata": {},
     "output_type": "display_data"
    },
    {
     "data": {
      "application/vnd.jupyter.widget-view+json": {
       "model_id": "6b7b5de70aa349068991a7fcd2423bbc",
       "version_major": 2,
       "version_minor": 0
      },
      "text/plain": [
       "  0%|          | 0/12 [00:00<?, ?it/s]"
      ]
     },
     "metadata": {},
     "output_type": "display_data"
    },
    {
     "name": "stdout",
     "output_type": "stream",
     "text": [
      "Epoch [47], Train Loss : [0.26622] Val Loss : [0.27987] Val F1 Score : [0.81367]\n",
      "Epoch 00048: reducing learning rate of group 0 to 3.8147e-08.\n"
     ]
    },
    {
     "data": {
      "application/vnd.jupyter.widget-view+json": {
       "model_id": "fc949909340e451cae64e5b1870caedf",
       "version_major": 2,
       "version_minor": 0
      },
      "text/plain": [
       "  0%|          | 0/45 [00:00<?, ?it/s]"
      ]
     },
     "metadata": {},
     "output_type": "display_data"
    },
    {
     "data": {
      "application/vnd.jupyter.widget-view+json": {
       "model_id": "7ef03b0ef7fe4f11a7292bbc5cc7f9f2",
       "version_major": 2,
       "version_minor": 0
      },
      "text/plain": [
       "  0%|          | 0/12 [00:00<?, ?it/s]"
      ]
     },
     "metadata": {},
     "output_type": "display_data"
    },
    {
     "name": "stdout",
     "output_type": "stream",
     "text": [
      "Epoch [48], Train Loss : [0.27147] Val Loss : [0.28468] Val F1 Score : [0.81067]\n"
     ]
    },
    {
     "data": {
      "application/vnd.jupyter.widget-view+json": {
       "model_id": "b947a1f80bc84873bb2ce764d4aa575e",
       "version_major": 2,
       "version_minor": 0
      },
      "text/plain": [
       "  0%|          | 0/45 [00:00<?, ?it/s]"
      ]
     },
     "metadata": {},
     "output_type": "display_data"
    },
    {
     "data": {
      "application/vnd.jupyter.widget-view+json": {
       "model_id": "1f9dab74bf4445a5a36f9be8f0ad9d91",
       "version_major": 2,
       "version_minor": 0
      },
      "text/plain": [
       "  0%|          | 0/12 [00:00<?, ?it/s]"
      ]
     },
     "metadata": {},
     "output_type": "display_data"
    },
    {
     "name": "stdout",
     "output_type": "stream",
     "text": [
      "Epoch [49], Train Loss : [0.26592] Val Loss : [0.28313] Val F1 Score : [0.81089]\n",
      "Epoch 00050: reducing learning rate of group 0 to 1.9073e-08.\n"
     ]
    }
   ],
   "source": [
    "model = Teacher()\n",
    "model.eval()\n",
    "#optimizer = torch.optim.SGD(model.parameters(), lr=CFG['LEARNING_RATE'])\n",
    "optimizer = torch.optim.Adam(model.parameters(), lr=CFG['LEARNING_RATE'])\n",
    "scheduler = torch.optim.lr_scheduler.ReduceLROnPlateau(optimizer, mode='max', factor=0.5, patience=1, threshold_mode='abs', min_lr=1e-8, verbose=True)\n",
    "\n",
    "teacher_model = train(model, optimizer, train_loader, val_loader, scheduler, device)"
   ]
  },
  {
   "cell_type": "code",
   "execution_count": 88,
   "id": "e7ca8652",
   "metadata": {},
   "outputs": [],
   "source": [
    "class Student(nn.Module):\n",
    "    def __init__(self):\n",
    "        super(Student, self).__init__()\n",
    "        self.classifier = nn.Sequential(\n",
    "            nn.Linear(in_features=20, out_features=128),\n",
    "            nn.BatchNorm1d(128),\n",
    "            nn.LeakyReLU(),\n",
    "            nn.Dropout(p=0.2),\n",
    "            nn.Linear(in_features=128, out_features=512),\n",
    "            nn.BatchNorm1d(512),\n",
    "            nn.LeakyReLU(),\n",
    "            nn.Dropout(p=0.2),\n",
    "            nn.Linear(in_features=512, out_features=1024),\n",
    "            nn.BatchNorm1d(1024),\n",
    "            nn.LeakyReLU(),\n",
    "            nn.Dropout(p=0.2),\n",
    "            nn.Linear(in_features=1024, out_features=512),\n",
    "            nn.BatchNorm1d(512),\n",
    "            nn.LeakyReLU(),\n",
    "            nn.Dropout(p=0.2),\n",
    "            nn.Linear(in_features=512, out_features=128),\n",
    "            nn.BatchNorm1d(128),\n",
    "            nn.LeakyReLU(),\n",
    "            nn.Linear(in_features=128, out_features=1),\n",
    "            nn.Sigmoid()\n",
    "        )\n",
    "        \n",
    "    def forward(self, x):\n",
    "        output = self.classifier(x)\n",
    "        return output"
   ]
  },
  {
   "cell_type": "code",
   "execution_count": 89,
   "id": "f1f0ba29",
   "metadata": {},
   "outputs": [],
   "source": [
    "def distillation(student_logits, labels, teacher_logits, alpha):\n",
    "    distillation_loss = nn.BCELoss()(student_logits, teacher_logits)\n",
    "    student_loss = nn.BCELoss()(student_logits, labels.reshape(-1, 1))\n",
    "    return alpha * student_loss + (1-alpha) * distillation_loss"
   ]
  },
  {
   "cell_type": "code",
   "execution_count": 90,
   "id": "62c7fcb9",
   "metadata": {},
   "outputs": [],
   "source": [
    "def distill_loss(output, target, teacher_output, loss_fn=distillation, opt=optimizer):\n",
    "    loss_b = loss_fn(output, target, teacher_output, alpha=0.1)\n",
    "\n",
    "    if opt is not None:\n",
    "        opt.zero_grad()\n",
    "        loss_b.backward()\n",
    "        opt.step()\n",
    "\n",
    "    return loss_b.item()"
   ]
  },
  {
   "cell_type": "code",
   "execution_count": 91,
   "id": "81903967",
   "metadata": {},
   "outputs": [],
   "source": [
    "def student_train(s_model, t_model, optimizer, train_loader, val_loader, scheduler, device):\n",
    "    s_model.to(device)\n",
    "    t_model.to(device)\n",
    "    \n",
    "    best_score = 0\n",
    "    best_model = None\n",
    "\n",
    "    for epoch in range(CFG[\"EPOCHS\"]):\n",
    "        train_loss = []\n",
    "        s_model.train()\n",
    "        t_model.eval()\n",
    "        \n",
    "        for X_t, X_s, y in tqdm(train_loader):\n",
    "            X_t = X_t.float().to(device)\n",
    "            X_s = X_s.float().to(device)\n",
    "            y = y.float().to(device)\n",
    "            \n",
    "            optimizer.zero_grad()\n",
    "\n",
    "            output = s_model(X_s)\n",
    "            with torch.no_grad():\n",
    "                teacher_output = t_model(X_t)\n",
    "                \n",
    "            loss_b = distill_loss(output, y, teacher_output, loss_fn=distillation, opt=optimizer)\n",
    "\n",
    "            train_loss.append(loss_b)\n",
    "\n",
    "        val_loss, val_score = validation_student(s_model, t_model, val_loader, distill_loss, device)\n",
    "        print(f'Epoch [{epoch}], Train Loss : [{np.mean(train_loss) :.5f}] Val Loss : [{np.mean(val_loss) :.5f}] Val F1 Score : [{val_score:.5f}]')\n",
    "        \n",
    "        if scheduler is not None:\n",
    "            scheduler.step(val_score)\n",
    "            \n",
    "        if best_score < val_score:\n",
    "            best_model = s_model\n",
    "            best_score = val_score\n",
    "        \n",
    "    return best_model"
   ]
  },
  {
   "cell_type": "code",
   "execution_count": 92,
   "id": "224970c5",
   "metadata": {},
   "outputs": [],
   "source": [
    "def validation_student(s_model, t_model, val_loader, criterion, device):\n",
    "    s_model.eval()\n",
    "    t_model.eval()\n",
    "\n",
    "    val_loss = []\n",
    "    pred_labels = []\n",
    "    true_labels = []\n",
    "    threshold = 0.35\n",
    "    \n",
    "    with torch.no_grad():\n",
    "        for X_t, X_s, y in tqdm(val_loader):\n",
    "            X_t = X_t.float().to(device)\n",
    "            X_s = X_s.float().to(device)\n",
    "            y = y.float().to(device)\n",
    "            \n",
    "            model_pred = s_model(X_s)\n",
    "            teacher_output = t_model(X_t)\n",
    "            \n",
    "            loss_b = distill_loss(model_pred, y, teacher_output, loss_fn=distillation, opt=None)\n",
    "            val_loss.append(loss_b)\n",
    "            \n",
    "            model_pred = model_pred.squeeze(1).to('cpu')\n",
    "            pred_labels += model_pred.tolist()\n",
    "            true_labels += y.tolist()\n",
    "        \n",
    "        pred_labels = np.where(np.array(pred_labels) > threshold, 1, 0)\n",
    "        val_f1 = competition_metric(true_labels, pred_labels)\n",
    "    return val_loss, val_f1    "
   ]
  },
  {
   "cell_type": "code",
   "execution_count": 93,
   "id": "8eba2184",
   "metadata": {},
   "outputs": [],
   "source": [
    "train_dataset = CustomDataset(train_X, train_y, True)\n",
    "val_dataset = CustomDataset(val_X, val_y, True)\n",
    "\n",
    "train_loader = DataLoader(train_dataset, batch_size = CFG['BATCH_SIZE'], shuffle=True)\n",
    "val_loader = DataLoader(val_dataset, batch_size = CFG['BATCH_SIZE'], shuffle=False)"
   ]
  },
  {
   "cell_type": "code",
   "execution_count": 94,
   "id": "91c19ed0",
   "metadata": {
    "scrolled": true
   },
   "outputs": [
    {
     "data": {
      "application/vnd.jupyter.widget-view+json": {
       "model_id": "586086d53df9470d9bad47a16974e758",
       "version_major": 2,
       "version_minor": 0
      },
      "text/plain": [
       "  0%|          | 0/45 [00:00<?, ?it/s]"
      ]
     },
     "metadata": {},
     "output_type": "display_data"
    },
    {
     "data": {
      "application/vnd.jupyter.widget-view+json": {
       "model_id": "0e8079f8eae146a3b396852699149589",
       "version_major": 2,
       "version_minor": 0
      },
      "text/plain": [
       "  0%|          | 0/12 [00:00<?, ?it/s]"
      ]
     },
     "metadata": {},
     "output_type": "display_data"
    },
    {
     "name": "stdout",
     "output_type": "stream",
     "text": [
      "Epoch [0], Train Loss : [0.38700] Val Loss : [0.36508] Val F1 Score : [0.76516]\n"
     ]
    },
    {
     "data": {
      "application/vnd.jupyter.widget-view+json": {
       "model_id": "bed8df2b52494667b66c80ef3aaf39a1",
       "version_major": 2,
       "version_minor": 0
      },
      "text/plain": [
       "  0%|          | 0/45 [00:00<?, ?it/s]"
      ]
     },
     "metadata": {},
     "output_type": "display_data"
    },
    {
     "data": {
      "application/vnd.jupyter.widget-view+json": {
       "model_id": "ae692c9f4414457d8487d6d446531c4d",
       "version_major": 2,
       "version_minor": 0
      },
      "text/plain": [
       "  0%|          | 0/12 [00:00<?, ?it/s]"
      ]
     },
     "metadata": {},
     "output_type": "display_data"
    },
    {
     "name": "stdout",
     "output_type": "stream",
     "text": [
      "Epoch [1], Train Loss : [0.34850] Val Loss : [0.34418] Val F1 Score : [0.77999]\n"
     ]
    },
    {
     "data": {
      "application/vnd.jupyter.widget-view+json": {
       "model_id": "7ec0c0d18a4447019b02efebc3db1ad9",
       "version_major": 2,
       "version_minor": 0
      },
      "text/plain": [
       "  0%|          | 0/45 [00:00<?, ?it/s]"
      ]
     },
     "metadata": {},
     "output_type": "display_data"
    },
    {
     "data": {
      "application/vnd.jupyter.widget-view+json": {
       "model_id": "3f22964be8b247bbae7196c3d82ce2dc",
       "version_major": 2,
       "version_minor": 0
      },
      "text/plain": [
       "  0%|          | 0/12 [00:00<?, ?it/s]"
      ]
     },
     "metadata": {},
     "output_type": "display_data"
    },
    {
     "name": "stdout",
     "output_type": "stream",
     "text": [
      "Epoch [2], Train Loss : [0.33948] Val Loss : [0.34067] Val F1 Score : [0.78268]\n"
     ]
    },
    {
     "data": {
      "application/vnd.jupyter.widget-view+json": {
       "model_id": "3630e7c38eb244a8955fa06303fe74c1",
       "version_major": 2,
       "version_minor": 0
      },
      "text/plain": [
       "  0%|          | 0/45 [00:00<?, ?it/s]"
      ]
     },
     "metadata": {},
     "output_type": "display_data"
    },
    {
     "data": {
      "application/vnd.jupyter.widget-view+json": {
       "model_id": "0557d4749952492badde64d89d771bcc",
       "version_major": 2,
       "version_minor": 0
      },
      "text/plain": [
       "  0%|          | 0/12 [00:00<?, ?it/s]"
      ]
     },
     "metadata": {},
     "output_type": "display_data"
    },
    {
     "name": "stdout",
     "output_type": "stream",
     "text": [
      "Epoch [3], Train Loss : [0.34044] Val Loss : [0.34084] Val F1 Score : [0.78537]\n"
     ]
    },
    {
     "data": {
      "application/vnd.jupyter.widget-view+json": {
       "model_id": "7e415c2a02a047b39f31923fe8f82942",
       "version_major": 2,
       "version_minor": 0
      },
      "text/plain": [
       "  0%|          | 0/45 [00:00<?, ?it/s]"
      ]
     },
     "metadata": {},
     "output_type": "display_data"
    },
    {
     "data": {
      "application/vnd.jupyter.widget-view+json": {
       "model_id": "6e516782d5b04f439449381b7e0357f5",
       "version_major": 2,
       "version_minor": 0
      },
      "text/plain": [
       "  0%|          | 0/12 [00:00<?, ?it/s]"
      ]
     },
     "metadata": {},
     "output_type": "display_data"
    },
    {
     "name": "stdout",
     "output_type": "stream",
     "text": [
      "Epoch [4], Train Loss : [0.34360] Val Loss : [0.34358] Val F1 Score : [0.78654]\n"
     ]
    },
    {
     "data": {
      "application/vnd.jupyter.widget-view+json": {
       "model_id": "7c1dfdfefdc445a097d69cf31d63a8bc",
       "version_major": 2,
       "version_minor": 0
      },
      "text/plain": [
       "  0%|          | 0/45 [00:00<?, ?it/s]"
      ]
     },
     "metadata": {},
     "output_type": "display_data"
    },
    {
     "data": {
      "application/vnd.jupyter.widget-view+json": {
       "model_id": "7ab38e3ef2894ebf95e63a36fbb7ec16",
       "version_major": 2,
       "version_minor": 0
      },
      "text/plain": [
       "  0%|          | 0/12 [00:00<?, ?it/s]"
      ]
     },
     "metadata": {},
     "output_type": "display_data"
    },
    {
     "name": "stdout",
     "output_type": "stream",
     "text": [
      "Epoch [5], Train Loss : [0.33847] Val Loss : [0.34562] Val F1 Score : [0.78345]\n"
     ]
    },
    {
     "data": {
      "application/vnd.jupyter.widget-view+json": {
       "model_id": "b8466a84a2644fa591de4a927775d4ae",
       "version_major": 2,
       "version_minor": 0
      },
      "text/plain": [
       "  0%|          | 0/45 [00:00<?, ?it/s]"
      ]
     },
     "metadata": {},
     "output_type": "display_data"
    },
    {
     "data": {
      "application/vnd.jupyter.widget-view+json": {
       "model_id": "a2794bf812d042be8d0d7ba9e24e2306",
       "version_major": 2,
       "version_minor": 0
      },
      "text/plain": [
       "  0%|          | 0/12 [00:00<?, ?it/s]"
      ]
     },
     "metadata": {},
     "output_type": "display_data"
    },
    {
     "name": "stdout",
     "output_type": "stream",
     "text": [
      "Epoch [6], Train Loss : [0.33196] Val Loss : [0.33928] Val F1 Score : [0.78189]\n",
      "Epoch 00007: reducing learning rate of group 0 to 5.0000e-03.\n"
     ]
    },
    {
     "data": {
      "application/vnd.jupyter.widget-view+json": {
       "model_id": "88e07a8f1f6d44ba994645ea42b0d4b3",
       "version_major": 2,
       "version_minor": 0
      },
      "text/plain": [
       "  0%|          | 0/45 [00:00<?, ?it/s]"
      ]
     },
     "metadata": {},
     "output_type": "display_data"
    },
    {
     "data": {
      "application/vnd.jupyter.widget-view+json": {
       "model_id": "6d79bc3ca6804d1f93ce2e0258c88cc1",
       "version_major": 2,
       "version_minor": 0
      },
      "text/plain": [
       "  0%|          | 0/12 [00:00<?, ?it/s]"
      ]
     },
     "metadata": {},
     "output_type": "display_data"
    },
    {
     "name": "stdout",
     "output_type": "stream",
     "text": [
      "Epoch [7], Train Loss : [0.32682] Val Loss : [0.33427] Val F1 Score : [0.79477]\n"
     ]
    },
    {
     "data": {
      "application/vnd.jupyter.widget-view+json": {
       "model_id": "3a6d32cc2f6642d6a428c17a92318ff3",
       "version_major": 2,
       "version_minor": 0
      },
      "text/plain": [
       "  0%|          | 0/45 [00:00<?, ?it/s]"
      ]
     },
     "metadata": {},
     "output_type": "display_data"
    },
    {
     "data": {
      "application/vnd.jupyter.widget-view+json": {
       "model_id": "fe36aa222879492f836d28cc7d290d1e",
       "version_major": 2,
       "version_minor": 0
      },
      "text/plain": [
       "  0%|          | 0/12 [00:00<?, ?it/s]"
      ]
     },
     "metadata": {},
     "output_type": "display_data"
    },
    {
     "name": "stdout",
     "output_type": "stream",
     "text": [
      "Epoch [8], Train Loss : [0.32381] Val Loss : [0.33564] Val F1 Score : [0.78352]\n"
     ]
    },
    {
     "data": {
      "application/vnd.jupyter.widget-view+json": {
       "model_id": "4882506508404e879d2a27161fd990fa",
       "version_major": 2,
       "version_minor": 0
      },
      "text/plain": [
       "  0%|          | 0/45 [00:00<?, ?it/s]"
      ]
     },
     "metadata": {},
     "output_type": "display_data"
    },
    {
     "data": {
      "application/vnd.jupyter.widget-view+json": {
       "model_id": "7678b9b97f0343f4a0393d02cced2f0a",
       "version_major": 2,
       "version_minor": 0
      },
      "text/plain": [
       "  0%|          | 0/12 [00:00<?, ?it/s]"
      ]
     },
     "metadata": {},
     "output_type": "display_data"
    },
    {
     "name": "stdout",
     "output_type": "stream",
     "text": [
      "Epoch [9], Train Loss : [0.32080] Val Loss : [0.33295] Val F1 Score : [0.79498]\n"
     ]
    },
    {
     "data": {
      "application/vnd.jupyter.widget-view+json": {
       "model_id": "33280ad1186a4350bf1b6df8248d76c0",
       "version_major": 2,
       "version_minor": 0
      },
      "text/plain": [
       "  0%|          | 0/45 [00:00<?, ?it/s]"
      ]
     },
     "metadata": {},
     "output_type": "display_data"
    },
    {
     "data": {
      "application/vnd.jupyter.widget-view+json": {
       "model_id": "60048b491ca24ddc8808b62d17f0a87a",
       "version_major": 2,
       "version_minor": 0
      },
      "text/plain": [
       "  0%|          | 0/12 [00:00<?, ?it/s]"
      ]
     },
     "metadata": {},
     "output_type": "display_data"
    },
    {
     "name": "stdout",
     "output_type": "stream",
     "text": [
      "Epoch [10], Train Loss : [0.31966] Val Loss : [0.33361] Val F1 Score : [0.79240]\n"
     ]
    },
    {
     "data": {
      "application/vnd.jupyter.widget-view+json": {
       "model_id": "98319103d81d4361aefdba8c768c9e4b",
       "version_major": 2,
       "version_minor": 0
      },
      "text/plain": [
       "  0%|          | 0/45 [00:00<?, ?it/s]"
      ]
     },
     "metadata": {},
     "output_type": "display_data"
    },
    {
     "data": {
      "application/vnd.jupyter.widget-view+json": {
       "model_id": "e4285df45e634a5bb4ad8259089b1f74",
       "version_major": 2,
       "version_minor": 0
      },
      "text/plain": [
       "  0%|          | 0/12 [00:00<?, ?it/s]"
      ]
     },
     "metadata": {},
     "output_type": "display_data"
    },
    {
     "name": "stdout",
     "output_type": "stream",
     "text": [
      "Epoch [11], Train Loss : [0.32330] Val Loss : [0.33716] Val F1 Score : [0.79091]\n",
      "Epoch 00012: reducing learning rate of group 0 to 2.5000e-03.\n"
     ]
    },
    {
     "data": {
      "application/vnd.jupyter.widget-view+json": {
       "model_id": "7d6a088c5c5547c4ba42c5a52cb9cec7",
       "version_major": 2,
       "version_minor": 0
      },
      "text/plain": [
       "  0%|          | 0/45 [00:00<?, ?it/s]"
      ]
     },
     "metadata": {},
     "output_type": "display_data"
    },
    {
     "data": {
      "application/vnd.jupyter.widget-view+json": {
       "model_id": "fdae250adfc44d648206c9d658516e0c",
       "version_major": 2,
       "version_minor": 0
      },
      "text/plain": [
       "  0%|          | 0/12 [00:00<?, ?it/s]"
      ]
     },
     "metadata": {},
     "output_type": "display_data"
    },
    {
     "name": "stdout",
     "output_type": "stream",
     "text": [
      "Epoch [12], Train Loss : [0.31993] Val Loss : [0.34003] Val F1 Score : [0.79731]\n"
     ]
    },
    {
     "data": {
      "application/vnd.jupyter.widget-view+json": {
       "model_id": "08237f9fa439462c84b8e95a5ab92332",
       "version_major": 2,
       "version_minor": 0
      },
      "text/plain": [
       "  0%|          | 0/45 [00:00<?, ?it/s]"
      ]
     },
     "metadata": {},
     "output_type": "display_data"
    },
    {
     "data": {
      "application/vnd.jupyter.widget-view+json": {
       "model_id": "a5d42ab0ff4943e39781f35acb88da32",
       "version_major": 2,
       "version_minor": 0
      },
      "text/plain": [
       "  0%|          | 0/12 [00:00<?, ?it/s]"
      ]
     },
     "metadata": {},
     "output_type": "display_data"
    },
    {
     "name": "stdout",
     "output_type": "stream",
     "text": [
      "Epoch [13], Train Loss : [0.32418] Val Loss : [0.33922] Val F1 Score : [0.79412]\n"
     ]
    },
    {
     "data": {
      "application/vnd.jupyter.widget-view+json": {
       "model_id": "32e66d4d24d1489b8092456ec607f0c2",
       "version_major": 2,
       "version_minor": 0
      },
      "text/plain": [
       "  0%|          | 0/45 [00:00<?, ?it/s]"
      ]
     },
     "metadata": {},
     "output_type": "display_data"
    },
    {
     "data": {
      "application/vnd.jupyter.widget-view+json": {
       "model_id": "44bfc62ac1bf479b95a5c16444f509c4",
       "version_major": 2,
       "version_minor": 0
      },
      "text/plain": [
       "  0%|          | 0/12 [00:00<?, ?it/s]"
      ]
     },
     "metadata": {},
     "output_type": "display_data"
    },
    {
     "name": "stdout",
     "output_type": "stream",
     "text": [
      "Epoch [14], Train Loss : [0.32067] Val Loss : [0.33376] Val F1 Score : [0.79616]\n",
      "Epoch 00015: reducing learning rate of group 0 to 1.2500e-03.\n"
     ]
    },
    {
     "data": {
      "application/vnd.jupyter.widget-view+json": {
       "model_id": "64810ac1c31a481c85b5323910745dbb",
       "version_major": 2,
       "version_minor": 0
      },
      "text/plain": [
       "  0%|          | 0/45 [00:00<?, ?it/s]"
      ]
     },
     "metadata": {},
     "output_type": "display_data"
    },
    {
     "data": {
      "application/vnd.jupyter.widget-view+json": {
       "model_id": "8ffad596c64f4e5794d9fb64cb5a3357",
       "version_major": 2,
       "version_minor": 0
      },
      "text/plain": [
       "  0%|          | 0/12 [00:00<?, ?it/s]"
      ]
     },
     "metadata": {},
     "output_type": "display_data"
    },
    {
     "name": "stdout",
     "output_type": "stream",
     "text": [
      "Epoch [15], Train Loss : [0.31805] Val Loss : [0.35004] Val F1 Score : [0.80167]\n"
     ]
    },
    {
     "data": {
      "application/vnd.jupyter.widget-view+json": {
       "model_id": "703ecf9dbe3a41a9b358c5d6f9d0e359",
       "version_major": 2,
       "version_minor": 0
      },
      "text/plain": [
       "  0%|          | 0/45 [00:00<?, ?it/s]"
      ]
     },
     "metadata": {},
     "output_type": "display_data"
    },
    {
     "data": {
      "application/vnd.jupyter.widget-view+json": {
       "model_id": "c53955bb515540c981024de26bb467e4",
       "version_major": 2,
       "version_minor": 0
      },
      "text/plain": [
       "  0%|          | 0/12 [00:00<?, ?it/s]"
      ]
     },
     "metadata": {},
     "output_type": "display_data"
    },
    {
     "name": "stdout",
     "output_type": "stream",
     "text": [
      "Epoch [16], Train Loss : [0.32096] Val Loss : [0.33502] Val F1 Score : [0.80147]\n"
     ]
    },
    {
     "data": {
      "application/vnd.jupyter.widget-view+json": {
       "model_id": "4cce521290b24b3ba79a3e2d667c4eeb",
       "version_major": 2,
       "version_minor": 0
      },
      "text/plain": [
       "  0%|          | 0/45 [00:00<?, ?it/s]"
      ]
     },
     "metadata": {},
     "output_type": "display_data"
    },
    {
     "data": {
      "application/vnd.jupyter.widget-view+json": {
       "model_id": "27f1c46c14a34a21ad067bf28d765b43",
       "version_major": 2,
       "version_minor": 0
      },
      "text/plain": [
       "  0%|          | 0/12 [00:00<?, ?it/s]"
      ]
     },
     "metadata": {},
     "output_type": "display_data"
    },
    {
     "name": "stdout",
     "output_type": "stream",
     "text": [
      "Epoch [17], Train Loss : [0.31474] Val Loss : [0.33131] Val F1 Score : [0.79325]\n",
      "Epoch 00018: reducing learning rate of group 0 to 6.2500e-04.\n"
     ]
    },
    {
     "data": {
      "application/vnd.jupyter.widget-view+json": {
       "model_id": "780dddf77d744881a68019aef3b8e337",
       "version_major": 2,
       "version_minor": 0
      },
      "text/plain": [
       "  0%|          | 0/45 [00:00<?, ?it/s]"
      ]
     },
     "metadata": {},
     "output_type": "display_data"
    },
    {
     "data": {
      "application/vnd.jupyter.widget-view+json": {
       "model_id": "63f448d9f99b4bd0b4202e54d0210e9d",
       "version_major": 2,
       "version_minor": 0
      },
      "text/plain": [
       "  0%|          | 0/12 [00:00<?, ?it/s]"
      ]
     },
     "metadata": {},
     "output_type": "display_data"
    },
    {
     "name": "stdout",
     "output_type": "stream",
     "text": [
      "Epoch [18], Train Loss : [0.32084] Val Loss : [0.34317] Val F1 Score : [0.79964]\n"
     ]
    },
    {
     "data": {
      "application/vnd.jupyter.widget-view+json": {
       "model_id": "7a166c2643824b4c9d2468bd712600e1",
       "version_major": 2,
       "version_minor": 0
      },
      "text/plain": [
       "  0%|          | 0/45 [00:00<?, ?it/s]"
      ]
     },
     "metadata": {},
     "output_type": "display_data"
    },
    {
     "data": {
      "application/vnd.jupyter.widget-view+json": {
       "model_id": "c5c6a655f5c246a7920d25e094d694d7",
       "version_major": 2,
       "version_minor": 0
      },
      "text/plain": [
       "  0%|          | 0/12 [00:00<?, ?it/s]"
      ]
     },
     "metadata": {},
     "output_type": "display_data"
    },
    {
     "name": "stdout",
     "output_type": "stream",
     "text": [
      "Epoch [19], Train Loss : [0.31759] Val Loss : [0.34189] Val F1 Score : [0.79918]\n",
      "Epoch 00020: reducing learning rate of group 0 to 3.1250e-04.\n"
     ]
    },
    {
     "data": {
      "application/vnd.jupyter.widget-view+json": {
       "model_id": "e84c3f394d7a4fbdb917539459f9886d",
       "version_major": 2,
       "version_minor": 0
      },
      "text/plain": [
       "  0%|          | 0/45 [00:00<?, ?it/s]"
      ]
     },
     "metadata": {},
     "output_type": "display_data"
    },
    {
     "data": {
      "application/vnd.jupyter.widget-view+json": {
       "model_id": "2e2d9c53d7154305a866a6511e47c642",
       "version_major": 2,
       "version_minor": 0
      },
      "text/plain": [
       "  0%|          | 0/12 [00:00<?, ?it/s]"
      ]
     },
     "metadata": {},
     "output_type": "display_data"
    },
    {
     "name": "stdout",
     "output_type": "stream",
     "text": [
      "Epoch [20], Train Loss : [0.31631] Val Loss : [0.33728] Val F1 Score : [0.79877]\n"
     ]
    },
    {
     "data": {
      "application/vnd.jupyter.widget-view+json": {
       "model_id": "c19445ddcdcc4bbbae04618f62a69928",
       "version_major": 2,
       "version_minor": 0
      },
      "text/plain": [
       "  0%|          | 0/45 [00:00<?, ?it/s]"
      ]
     },
     "metadata": {},
     "output_type": "display_data"
    },
    {
     "data": {
      "application/vnd.jupyter.widget-view+json": {
       "model_id": "36814127255e4ff08b0731abf513842d",
       "version_major": 2,
       "version_minor": 0
      },
      "text/plain": [
       "  0%|          | 0/12 [00:00<?, ?it/s]"
      ]
     },
     "metadata": {},
     "output_type": "display_data"
    },
    {
     "name": "stdout",
     "output_type": "stream",
     "text": [
      "Epoch [21], Train Loss : [0.31991] Val Loss : [0.34434] Val F1 Score : [0.80231]\n"
     ]
    },
    {
     "data": {
      "application/vnd.jupyter.widget-view+json": {
       "model_id": "c0829c235db14e80b4d10ea4472627e4",
       "version_major": 2,
       "version_minor": 0
      },
      "text/plain": [
       "  0%|          | 0/45 [00:00<?, ?it/s]"
      ]
     },
     "metadata": {},
     "output_type": "display_data"
    },
    {
     "data": {
      "application/vnd.jupyter.widget-view+json": {
       "model_id": "9dbd63e2c0534f9ba8f4bb48a047bd61",
       "version_major": 2,
       "version_minor": 0
      },
      "text/plain": [
       "  0%|          | 0/12 [00:00<?, ?it/s]"
      ]
     },
     "metadata": {},
     "output_type": "display_data"
    },
    {
     "name": "stdout",
     "output_type": "stream",
     "text": [
      "Epoch [22], Train Loss : [0.31825] Val Loss : [0.34207] Val F1 Score : [0.79861]\n"
     ]
    },
    {
     "data": {
      "application/vnd.jupyter.widget-view+json": {
       "model_id": "7e312c2b7bd64b10a55c017736fa7b0d",
       "version_major": 2,
       "version_minor": 0
      },
      "text/plain": [
       "  0%|          | 0/45 [00:00<?, ?it/s]"
      ]
     },
     "metadata": {},
     "output_type": "display_data"
    },
    {
     "data": {
      "application/vnd.jupyter.widget-view+json": {
       "model_id": "47aadf63f00644b38d11895aa9762ad9",
       "version_major": 2,
       "version_minor": 0
      },
      "text/plain": [
       "  0%|          | 0/12 [00:00<?, ?it/s]"
      ]
     },
     "metadata": {},
     "output_type": "display_data"
    },
    {
     "name": "stdout",
     "output_type": "stream",
     "text": [
      "Epoch [23], Train Loss : [0.32010] Val Loss : [0.33446] Val F1 Score : [0.79975]\n",
      "Epoch 00024: reducing learning rate of group 0 to 1.5625e-04.\n"
     ]
    },
    {
     "data": {
      "application/vnd.jupyter.widget-view+json": {
       "model_id": "c901c19444094557a69712dd348f2b40",
       "version_major": 2,
       "version_minor": 0
      },
      "text/plain": [
       "  0%|          | 0/45 [00:00<?, ?it/s]"
      ]
     },
     "metadata": {},
     "output_type": "display_data"
    },
    {
     "data": {
      "application/vnd.jupyter.widget-view+json": {
       "model_id": "cf7c6d55373246cfa5407011f5fd7f22",
       "version_major": 2,
       "version_minor": 0
      },
      "text/plain": [
       "  0%|          | 0/12 [00:00<?, ?it/s]"
      ]
     },
     "metadata": {},
     "output_type": "display_data"
    },
    {
     "name": "stdout",
     "output_type": "stream",
     "text": [
      "Epoch [24], Train Loss : [0.31534] Val Loss : [0.32908] Val F1 Score : [0.79129]\n"
     ]
    },
    {
     "data": {
      "application/vnd.jupyter.widget-view+json": {
       "model_id": "8eeccb7247bf44d3a3243e431db9b731",
       "version_major": 2,
       "version_minor": 0
      },
      "text/plain": [
       "  0%|          | 0/45 [00:00<?, ?it/s]"
      ]
     },
     "metadata": {},
     "output_type": "display_data"
    },
    {
     "data": {
      "application/vnd.jupyter.widget-view+json": {
       "model_id": "07390002caad4a23acc26a613c6a5dc5",
       "version_major": 2,
       "version_minor": 0
      },
      "text/plain": [
       "  0%|          | 0/12 [00:00<?, ?it/s]"
      ]
     },
     "metadata": {},
     "output_type": "display_data"
    },
    {
     "name": "stdout",
     "output_type": "stream",
     "text": [
      "Epoch [25], Train Loss : [0.31646] Val Loss : [0.33179] Val F1 Score : [0.79610]\n",
      "Epoch 00026: reducing learning rate of group 0 to 7.8125e-05.\n"
     ]
    },
    {
     "data": {
      "application/vnd.jupyter.widget-view+json": {
       "model_id": "91a6f842345045d5866c618cb1752a16",
       "version_major": 2,
       "version_minor": 0
      },
      "text/plain": [
       "  0%|          | 0/45 [00:00<?, ?it/s]"
      ]
     },
     "metadata": {},
     "output_type": "display_data"
    },
    {
     "data": {
      "application/vnd.jupyter.widget-view+json": {
       "model_id": "ef04f3127d8c4b8ea0146c730e596509",
       "version_major": 2,
       "version_minor": 0
      },
      "text/plain": [
       "  0%|          | 0/12 [00:00<?, ?it/s]"
      ]
     },
     "metadata": {},
     "output_type": "display_data"
    },
    {
     "name": "stdout",
     "output_type": "stream",
     "text": [
      "Epoch [26], Train Loss : [0.31849] Val Loss : [0.33070] Val F1 Score : [0.80147]\n"
     ]
    },
    {
     "data": {
      "application/vnd.jupyter.widget-view+json": {
       "model_id": "a544630a5e354399b4f8c5c9b1ab77ea",
       "version_major": 2,
       "version_minor": 0
      },
      "text/plain": [
       "  0%|          | 0/45 [00:00<?, ?it/s]"
      ]
     },
     "metadata": {},
     "output_type": "display_data"
    },
    {
     "data": {
      "application/vnd.jupyter.widget-view+json": {
       "model_id": "6c3e9dbdd3464cd88dd1d12c2e5d89f4",
       "version_major": 2,
       "version_minor": 0
      },
      "text/plain": [
       "  0%|          | 0/12 [00:00<?, ?it/s]"
      ]
     },
     "metadata": {},
     "output_type": "display_data"
    },
    {
     "name": "stdout",
     "output_type": "stream",
     "text": [
      "Epoch [27], Train Loss : [0.31401] Val Loss : [0.33249] Val F1 Score : [0.79564]\n",
      "Epoch 00028: reducing learning rate of group 0 to 3.9063e-05.\n"
     ]
    },
    {
     "data": {
      "application/vnd.jupyter.widget-view+json": {
       "model_id": "6728874e83c4478b85c72ffbf2de869f",
       "version_major": 2,
       "version_minor": 0
      },
      "text/plain": [
       "  0%|          | 0/45 [00:00<?, ?it/s]"
      ]
     },
     "metadata": {},
     "output_type": "display_data"
    },
    {
     "data": {
      "application/vnd.jupyter.widget-view+json": {
       "model_id": "63ca210043d7486f836558652a06a6ca",
       "version_major": 2,
       "version_minor": 0
      },
      "text/plain": [
       "  0%|          | 0/12 [00:00<?, ?it/s]"
      ]
     },
     "metadata": {},
     "output_type": "display_data"
    },
    {
     "name": "stdout",
     "output_type": "stream",
     "text": [
      "Epoch [28], Train Loss : [0.31528] Val Loss : [0.33643] Val F1 Score : [0.79788]\n"
     ]
    },
    {
     "data": {
      "application/vnd.jupyter.widget-view+json": {
       "model_id": "d85e6a6f800d4eecadb41632123781aa",
       "version_major": 2,
       "version_minor": 0
      },
      "text/plain": [
       "  0%|          | 0/45 [00:00<?, ?it/s]"
      ]
     },
     "metadata": {},
     "output_type": "display_data"
    },
    {
     "data": {
      "application/vnd.jupyter.widget-view+json": {
       "model_id": "42b10ff5cd63431dbec96be2e757db5c",
       "version_major": 2,
       "version_minor": 0
      },
      "text/plain": [
       "  0%|          | 0/12 [00:00<?, ?it/s]"
      ]
     },
     "metadata": {},
     "output_type": "display_data"
    },
    {
     "name": "stdout",
     "output_type": "stream",
     "text": [
      "Epoch [29], Train Loss : [0.31849] Val Loss : [0.33713] Val F1 Score : [0.79890]\n",
      "Epoch 00030: reducing learning rate of group 0 to 1.9531e-05.\n"
     ]
    },
    {
     "data": {
      "application/vnd.jupyter.widget-view+json": {
       "model_id": "30b92eec541243c89997db57c2203aef",
       "version_major": 2,
       "version_minor": 0
      },
      "text/plain": [
       "  0%|          | 0/45 [00:00<?, ?it/s]"
      ]
     },
     "metadata": {},
     "output_type": "display_data"
    },
    {
     "data": {
      "application/vnd.jupyter.widget-view+json": {
       "model_id": "aea1de4de5c94f7cabbc754092e980bb",
       "version_major": 2,
       "version_minor": 0
      },
      "text/plain": [
       "  0%|          | 0/12 [00:00<?, ?it/s]"
      ]
     },
     "metadata": {},
     "output_type": "display_data"
    },
    {
     "name": "stdout",
     "output_type": "stream",
     "text": [
      "Epoch [30], Train Loss : [0.31637] Val Loss : [0.34516] Val F1 Score : [0.79990]\n"
     ]
    },
    {
     "data": {
      "application/vnd.jupyter.widget-view+json": {
       "model_id": "28b5cbf8901f46c1b15d793e7d6a6312",
       "version_major": 2,
       "version_minor": 0
      },
      "text/plain": [
       "  0%|          | 0/45 [00:00<?, ?it/s]"
      ]
     },
     "metadata": {},
     "output_type": "display_data"
    },
    {
     "data": {
      "application/vnd.jupyter.widget-view+json": {
       "model_id": "72e4080148434f1d88ffeb4136669725",
       "version_major": 2,
       "version_minor": 0
      },
      "text/plain": [
       "  0%|          | 0/12 [00:00<?, ?it/s]"
      ]
     },
     "metadata": {},
     "output_type": "display_data"
    },
    {
     "name": "stdout",
     "output_type": "stream",
     "text": [
      "Epoch [31], Train Loss : [0.31853] Val Loss : [0.34554] Val F1 Score : [0.79909]\n",
      "Epoch 00032: reducing learning rate of group 0 to 9.7656e-06.\n"
     ]
    },
    {
     "data": {
      "application/vnd.jupyter.widget-view+json": {
       "model_id": "d4ea369b8ada4bc8a1b6e40abb5ee1f2",
       "version_major": 2,
       "version_minor": 0
      },
      "text/plain": [
       "  0%|          | 0/45 [00:00<?, ?it/s]"
      ]
     },
     "metadata": {},
     "output_type": "display_data"
    },
    {
     "data": {
      "application/vnd.jupyter.widget-view+json": {
       "model_id": "ef1d1b3d5c5142c3b2ce909b1c51a33f",
       "version_major": 2,
       "version_minor": 0
      },
      "text/plain": [
       "  0%|          | 0/12 [00:00<?, ?it/s]"
      ]
     },
     "metadata": {},
     "output_type": "display_data"
    },
    {
     "name": "stdout",
     "output_type": "stream",
     "text": [
      "Epoch [32], Train Loss : [0.31868] Val Loss : [0.33239] Val F1 Score : [0.79947]\n"
     ]
    },
    {
     "data": {
      "application/vnd.jupyter.widget-view+json": {
       "model_id": "941dac8267fa49619ae9b1d6cb0382df",
       "version_major": 2,
       "version_minor": 0
      },
      "text/plain": [
       "  0%|          | 0/45 [00:00<?, ?it/s]"
      ]
     },
     "metadata": {},
     "output_type": "display_data"
    },
    {
     "data": {
      "application/vnd.jupyter.widget-view+json": {
       "model_id": "1b4841cf6ae64df8bb4bbe7005f4f291",
       "version_major": 2,
       "version_minor": 0
      },
      "text/plain": [
       "  0%|          | 0/12 [00:00<?, ?it/s]"
      ]
     },
     "metadata": {},
     "output_type": "display_data"
    },
    {
     "name": "stdout",
     "output_type": "stream",
     "text": [
      "Epoch [33], Train Loss : [0.31660] Val Loss : [0.35531] Val F1 Score : [0.80007]\n",
      "Epoch 00034: reducing learning rate of group 0 to 4.8828e-06.\n"
     ]
    },
    {
     "data": {
      "application/vnd.jupyter.widget-view+json": {
       "model_id": "b4ed651bb5294945930130800b8d04f3",
       "version_major": 2,
       "version_minor": 0
      },
      "text/plain": [
       "  0%|          | 0/45 [00:00<?, ?it/s]"
      ]
     },
     "metadata": {},
     "output_type": "display_data"
    },
    {
     "data": {
      "application/vnd.jupyter.widget-view+json": {
       "model_id": "fd70aea3e1b44aa8882bd351ab140125",
       "version_major": 2,
       "version_minor": 0
      },
      "text/plain": [
       "  0%|          | 0/12 [00:00<?, ?it/s]"
      ]
     },
     "metadata": {},
     "output_type": "display_data"
    },
    {
     "name": "stdout",
     "output_type": "stream",
     "text": [
      "Epoch [34], Train Loss : [0.31873] Val Loss : [0.32979] Val F1 Score : [0.79869]\n"
     ]
    },
    {
     "data": {
      "application/vnd.jupyter.widget-view+json": {
       "model_id": "b3c7e5818c9245219397df4f340885fc",
       "version_major": 2,
       "version_minor": 0
      },
      "text/plain": [
       "  0%|          | 0/45 [00:00<?, ?it/s]"
      ]
     },
     "metadata": {},
     "output_type": "display_data"
    },
    {
     "data": {
      "application/vnd.jupyter.widget-view+json": {
       "model_id": "63ff44d788c74c6f8a84ca27a1524e91",
       "version_major": 2,
       "version_minor": 0
      },
      "text/plain": [
       "  0%|          | 0/12 [00:00<?, ?it/s]"
      ]
     },
     "metadata": {},
     "output_type": "display_data"
    },
    {
     "name": "stdout",
     "output_type": "stream",
     "text": [
      "Epoch [35], Train Loss : [0.31906] Val Loss : [0.33080] Val F1 Score : [0.79647]\n",
      "Epoch 00036: reducing learning rate of group 0 to 2.4414e-06.\n"
     ]
    },
    {
     "data": {
      "application/vnd.jupyter.widget-view+json": {
       "model_id": "78ce0ed652e54e9a987d21219414869c",
       "version_major": 2,
       "version_minor": 0
      },
      "text/plain": [
       "  0%|          | 0/45 [00:00<?, ?it/s]"
      ]
     },
     "metadata": {},
     "output_type": "display_data"
    },
    {
     "data": {
      "application/vnd.jupyter.widget-view+json": {
       "model_id": "dafe453baf70426d855071947519180b",
       "version_major": 2,
       "version_minor": 0
      },
      "text/plain": [
       "  0%|          | 0/12 [00:00<?, ?it/s]"
      ]
     },
     "metadata": {},
     "output_type": "display_data"
    },
    {
     "name": "stdout",
     "output_type": "stream",
     "text": [
      "Epoch [36], Train Loss : [0.32352] Val Loss : [0.33183] Val F1 Score : [0.79493]\n"
     ]
    },
    {
     "data": {
      "application/vnd.jupyter.widget-view+json": {
       "model_id": "b4f6b1db7a8d41999b1829fdb53cd16d",
       "version_major": 2,
       "version_minor": 0
      },
      "text/plain": [
       "  0%|          | 0/45 [00:00<?, ?it/s]"
      ]
     },
     "metadata": {},
     "output_type": "display_data"
    },
    {
     "data": {
      "application/vnd.jupyter.widget-view+json": {
       "model_id": "7d83bfe6ce294c7c8734590d76a7a685",
       "version_major": 2,
       "version_minor": 0
      },
      "text/plain": [
       "  0%|          | 0/12 [00:00<?, ?it/s]"
      ]
     },
     "metadata": {},
     "output_type": "display_data"
    },
    {
     "name": "stdout",
     "output_type": "stream",
     "text": [
      "Epoch [37], Train Loss : [0.32396] Val Loss : [0.34489] Val F1 Score : [0.80110]\n",
      "Epoch 00038: reducing learning rate of group 0 to 1.2207e-06.\n"
     ]
    },
    {
     "data": {
      "application/vnd.jupyter.widget-view+json": {
       "model_id": "062fefec5f4f4640b5a0b2f76ec813f8",
       "version_major": 2,
       "version_minor": 0
      },
      "text/plain": [
       "  0%|          | 0/45 [00:00<?, ?it/s]"
      ]
     },
     "metadata": {},
     "output_type": "display_data"
    },
    {
     "data": {
      "application/vnd.jupyter.widget-view+json": {
       "model_id": "457a8173a5384d31995a5c3fdf3b7121",
       "version_major": 2,
       "version_minor": 0
      },
      "text/plain": [
       "  0%|          | 0/12 [00:00<?, ?it/s]"
      ]
     },
     "metadata": {},
     "output_type": "display_data"
    },
    {
     "name": "stdout",
     "output_type": "stream",
     "text": [
      "Epoch [38], Train Loss : [0.31447] Val Loss : [0.32814] Val F1 Score : [0.79723]\n"
     ]
    },
    {
     "data": {
      "application/vnd.jupyter.widget-view+json": {
       "model_id": "5bc4e27697174360a8fbfff22ba3be50",
       "version_major": 2,
       "version_minor": 0
      },
      "text/plain": [
       "  0%|          | 0/45 [00:00<?, ?it/s]"
      ]
     },
     "metadata": {},
     "output_type": "display_data"
    },
    {
     "data": {
      "application/vnd.jupyter.widget-view+json": {
       "model_id": "145f06211846415185d157a770a15834",
       "version_major": 2,
       "version_minor": 0
      },
      "text/plain": [
       "  0%|          | 0/12 [00:00<?, ?it/s]"
      ]
     },
     "metadata": {},
     "output_type": "display_data"
    },
    {
     "name": "stdout",
     "output_type": "stream",
     "text": [
      "Epoch [39], Train Loss : [0.31814] Val Loss : [0.33182] Val F1 Score : [0.79931]\n",
      "Epoch 00040: reducing learning rate of group 0 to 6.1035e-07.\n"
     ]
    },
    {
     "data": {
      "application/vnd.jupyter.widget-view+json": {
       "model_id": "bd802f7cd3d94dbeae2c1caa25fa3d9d",
       "version_major": 2,
       "version_minor": 0
      },
      "text/plain": [
       "  0%|          | 0/45 [00:00<?, ?it/s]"
      ]
     },
     "metadata": {},
     "output_type": "display_data"
    },
    {
     "data": {
      "application/vnd.jupyter.widget-view+json": {
       "model_id": "6a2025364cd74b1aa753342eb4d19c1f",
       "version_major": 2,
       "version_minor": 0
      },
      "text/plain": [
       "  0%|          | 0/12 [00:00<?, ?it/s]"
      ]
     },
     "metadata": {},
     "output_type": "display_data"
    },
    {
     "name": "stdout",
     "output_type": "stream",
     "text": [
      "Epoch [40], Train Loss : [0.31615] Val Loss : [0.34872] Val F1 Score : [0.79699]\n"
     ]
    },
    {
     "data": {
      "application/vnd.jupyter.widget-view+json": {
       "model_id": "4911250be8d84065b1eff094dcbe6922",
       "version_major": 2,
       "version_minor": 0
      },
      "text/plain": [
       "  0%|          | 0/45 [00:00<?, ?it/s]"
      ]
     },
     "metadata": {},
     "output_type": "display_data"
    },
    {
     "data": {
      "application/vnd.jupyter.widget-view+json": {
       "model_id": "a53739df68874bc29bb6a2dbeabd7437",
       "version_major": 2,
       "version_minor": 0
      },
      "text/plain": [
       "  0%|          | 0/12 [00:00<?, ?it/s]"
      ]
     },
     "metadata": {},
     "output_type": "display_data"
    },
    {
     "name": "stdout",
     "output_type": "stream",
     "text": [
      "Epoch [41], Train Loss : [0.31482] Val Loss : [0.33049] Val F1 Score : [0.79568]\n",
      "Epoch 00042: reducing learning rate of group 0 to 3.0518e-07.\n"
     ]
    },
    {
     "data": {
      "application/vnd.jupyter.widget-view+json": {
       "model_id": "b3dfd0a01f814c7baa1cc308a20629d3",
       "version_major": 2,
       "version_minor": 0
      },
      "text/plain": [
       "  0%|          | 0/45 [00:00<?, ?it/s]"
      ]
     },
     "metadata": {},
     "output_type": "display_data"
    },
    {
     "data": {
      "application/vnd.jupyter.widget-view+json": {
       "model_id": "b9b8c89c2ca5424686f20fb30cae6a23",
       "version_major": 2,
       "version_minor": 0
      },
      "text/plain": [
       "  0%|          | 0/12 [00:00<?, ?it/s]"
      ]
     },
     "metadata": {},
     "output_type": "display_data"
    },
    {
     "name": "stdout",
     "output_type": "stream",
     "text": [
      "Epoch [42], Train Loss : [0.31969] Val Loss : [0.34625] Val F1 Score : [0.79836]\n"
     ]
    },
    {
     "data": {
      "application/vnd.jupyter.widget-view+json": {
       "model_id": "aab8670fbf7642bb9d9dc659dc518577",
       "version_major": 2,
       "version_minor": 0
      },
      "text/plain": [
       "  0%|          | 0/45 [00:00<?, ?it/s]"
      ]
     },
     "metadata": {},
     "output_type": "display_data"
    },
    {
     "data": {
      "application/vnd.jupyter.widget-view+json": {
       "model_id": "30cc332419b14f3cbf124a4d3931394d",
       "version_major": 2,
       "version_minor": 0
      },
      "text/plain": [
       "  0%|          | 0/12 [00:00<?, ?it/s]"
      ]
     },
     "metadata": {},
     "output_type": "display_data"
    },
    {
     "name": "stdout",
     "output_type": "stream",
     "text": [
      "Epoch [43], Train Loss : [0.31709] Val Loss : [0.34704] Val F1 Score : [0.79893]\n",
      "Epoch 00044: reducing learning rate of group 0 to 1.5259e-07.\n"
     ]
    },
    {
     "data": {
      "application/vnd.jupyter.widget-view+json": {
       "model_id": "c6e805c99df448a3ac820896cb864015",
       "version_major": 2,
       "version_minor": 0
      },
      "text/plain": [
       "  0%|          | 0/45 [00:00<?, ?it/s]"
      ]
     },
     "metadata": {},
     "output_type": "display_data"
    },
    {
     "data": {
      "application/vnd.jupyter.widget-view+json": {
       "model_id": "ad6a97db15fa4dacaca820ad5b571d81",
       "version_major": 2,
       "version_minor": 0
      },
      "text/plain": [
       "  0%|          | 0/12 [00:00<?, ?it/s]"
      ]
     },
     "metadata": {},
     "output_type": "display_data"
    },
    {
     "name": "stdout",
     "output_type": "stream",
     "text": [
      "Epoch [44], Train Loss : [0.32993] Val Loss : [0.33767] Val F1 Score : [0.79012]\n"
     ]
    },
    {
     "data": {
      "application/vnd.jupyter.widget-view+json": {
       "model_id": "a17b6f65034c442e8070c15368c82bc3",
       "version_major": 2,
       "version_minor": 0
      },
      "text/plain": [
       "  0%|          | 0/45 [00:00<?, ?it/s]"
      ]
     },
     "metadata": {},
     "output_type": "display_data"
    },
    {
     "data": {
      "application/vnd.jupyter.widget-view+json": {
       "model_id": "206997f5c29b4357893dc8be91f5f1cb",
       "version_major": 2,
       "version_minor": 0
      },
      "text/plain": [
       "  0%|          | 0/12 [00:00<?, ?it/s]"
      ]
     },
     "metadata": {},
     "output_type": "display_data"
    },
    {
     "name": "stdout",
     "output_type": "stream",
     "text": [
      "Epoch [45], Train Loss : [0.31613] Val Loss : [0.33089] Val F1 Score : [0.79699]\n",
      "Epoch 00046: reducing learning rate of group 0 to 7.6294e-08.\n"
     ]
    },
    {
     "data": {
      "application/vnd.jupyter.widget-view+json": {
       "model_id": "0ff689d2f8f7400a84ad09deadac993a",
       "version_major": 2,
       "version_minor": 0
      },
      "text/plain": [
       "  0%|          | 0/45 [00:00<?, ?it/s]"
      ]
     },
     "metadata": {},
     "output_type": "display_data"
    },
    {
     "data": {
      "application/vnd.jupyter.widget-view+json": {
       "model_id": "1788a080c52241c6b94a7f9f963e294d",
       "version_major": 2,
       "version_minor": 0
      },
      "text/plain": [
       "  0%|          | 0/12 [00:00<?, ?it/s]"
      ]
     },
     "metadata": {},
     "output_type": "display_data"
    },
    {
     "name": "stdout",
     "output_type": "stream",
     "text": [
      "Epoch [46], Train Loss : [0.31517] Val Loss : [0.33192] Val F1 Score : [0.79404]\n"
     ]
    },
    {
     "data": {
      "application/vnd.jupyter.widget-view+json": {
       "model_id": "fc781dfe8a004a778275aa70bf6f9c00",
       "version_major": 2,
       "version_minor": 0
      },
      "text/plain": [
       "  0%|          | 0/45 [00:00<?, ?it/s]"
      ]
     },
     "metadata": {},
     "output_type": "display_data"
    },
    {
     "data": {
      "application/vnd.jupyter.widget-view+json": {
       "model_id": "4794953049b64b6fa0a454da46323fea",
       "version_major": 2,
       "version_minor": 0
      },
      "text/plain": [
       "  0%|          | 0/12 [00:00<?, ?it/s]"
      ]
     },
     "metadata": {},
     "output_type": "display_data"
    },
    {
     "name": "stdout",
     "output_type": "stream",
     "text": [
      "Epoch [47], Train Loss : [0.31504] Val Loss : [0.32961] Val F1 Score : [0.79146]\n",
      "Epoch 00048: reducing learning rate of group 0 to 3.8147e-08.\n"
     ]
    },
    {
     "data": {
      "application/vnd.jupyter.widget-view+json": {
       "model_id": "59de82a4c36b4fdea4cb885f6d6daff2",
       "version_major": 2,
       "version_minor": 0
      },
      "text/plain": [
       "  0%|          | 0/45 [00:00<?, ?it/s]"
      ]
     },
     "metadata": {},
     "output_type": "display_data"
    },
    {
     "data": {
      "application/vnd.jupyter.widget-view+json": {
       "model_id": "c4322034111e4ea0896ce23e21a1ad96",
       "version_major": 2,
       "version_minor": 0
      },
      "text/plain": [
       "  0%|          | 0/12 [00:00<?, ?it/s]"
      ]
     },
     "metadata": {},
     "output_type": "display_data"
    },
    {
     "name": "stdout",
     "output_type": "stream",
     "text": [
      "Epoch [48], Train Loss : [0.31455] Val Loss : [0.34517] Val F1 Score : [0.79916]\n"
     ]
    },
    {
     "data": {
      "application/vnd.jupyter.widget-view+json": {
       "model_id": "81512ac030bf475c8eea9a20559e6d5e",
       "version_major": 2,
       "version_minor": 0
      },
      "text/plain": [
       "  0%|          | 0/45 [00:00<?, ?it/s]"
      ]
     },
     "metadata": {},
     "output_type": "display_data"
    },
    {
     "data": {
      "application/vnd.jupyter.widget-view+json": {
       "model_id": "372fc793655741bc9597c514f1fa05ce",
       "version_major": 2,
       "version_minor": 0
      },
      "text/plain": [
       "  0%|          | 0/12 [00:00<?, ?it/s]"
      ]
     },
     "metadata": {},
     "output_type": "display_data"
    },
    {
     "name": "stdout",
     "output_type": "stream",
     "text": [
      "Epoch [49], Train Loss : [0.31570] Val Loss : [0.35041] Val F1 Score : [0.79826]\n",
      "Epoch 00050: reducing learning rate of group 0 to 1.9073e-08.\n"
     ]
    }
   ],
   "source": [
    "student_model = Student()\n",
    "student_model.eval()\n",
    "#optimizer = torch.optim.SGD(model.parameters(), lr=CFG['LEARNING_RATE'])\n",
    "optimizer = torch.optim.Adam(student_model.parameters(), lr=CFG['LEARNING_RATE'])\n",
    "scheduler = torch.optim.lr_scheduler.ReduceLROnPlateau(optimizer, mode='max', factor=0.5, patience=1, threshold_mode='abs', min_lr=1e-8, verbose=True)\n",
    "\n",
    "best_student_model = student_train(student_model, teacher_model, optimizer, train_loader, val_loader, scheduler, device)"
   ]
  },
  {
   "cell_type": "code",
   "execution_count": 95,
   "id": "0044be37",
   "metadata": {},
   "outputs": [],
   "source": [
    "def choose_threshold(model, val_loader, device):\n",
    "    model.to(device)\n",
    "    model.eval()\n",
    "    \n",
    "    thresholds = list(np.array(range(10, 51))/100) #[0.1, 0.2, 0.25, 0.3, 0.35, 0.4, 0.45, 0.5]\n",
    "    pred_labels = []\n",
    "    true_labels = []\n",
    "    \n",
    "    best_score = 0\n",
    "    best_thr = None\n",
    "    with torch.no_grad():\n",
    "        for _, x_s, y in tqdm(iter(val_loader)):\n",
    "            x_s = x_s.float().to(device)\n",
    "            y = y.float().to(device)\n",
    "            \n",
    "            model_pred = model(x_s)\n",
    "            \n",
    "            model_pred = model_pred.squeeze(1).to('cpu')\n",
    "            pred_labels += model_pred.tolist()\n",
    "            true_labels += y.tolist()\n",
    "        \n",
    "        for threshold in thresholds:\n",
    "            pred_labels_thr = np.where(np.array(pred_labels) > threshold, 1, 0)\n",
    "            score_thr = competition_metric(true_labels, pred_labels_thr)\n",
    "            if best_score < score_thr:\n",
    "                best_score = score_thr\n",
    "                best_thr = threshold\n",
    "    return best_thr, best_score"
   ]
  },
  {
   "cell_type": "code",
   "execution_count": 96,
   "id": "37b53473",
   "metadata": {},
   "outputs": [
    {
     "data": {
      "application/vnd.jupyter.widget-view+json": {
       "model_id": "7111d2656ef4441cbacd843a73890469",
       "version_major": 2,
       "version_minor": 0
      },
      "text/plain": [
       "  0%|          | 0/12 [00:00<?, ?it/s]"
      ]
     },
     "metadata": {},
     "output_type": "display_data"
    },
    {
     "name": "stdout",
     "output_type": "stream",
     "text": [
      "Best Threshold : [0.4], Score : [0.79952]\n"
     ]
    }
   ],
   "source": [
    "best_threshold, best_score = choose_threshold(best_student_model, val_loader, device)\n",
    "print(f'Best Threshold : [{best_threshold}], Score : [{best_score:.5f}]')"
   ]
  },
  {
   "cell_type": "code",
   "execution_count": 97,
   "id": "9cd9027a",
   "metadata": {},
   "outputs": [],
   "source": [
    "test_datasets = CustomDataset(test, None, False)\n",
    "test_loaders = DataLoader(test_datasets, batch_size = CFG['BATCH_SIZE'], shuffle=False)"
   ]
  },
  {
   "cell_type": "code",
   "execution_count": 98,
   "id": "8e4fb07a",
   "metadata": {},
   "outputs": [],
   "source": [
    "def inference(model, test_loader, threshold, device):\n",
    "    model.to(device)\n",
    "    model.eval()\n",
    "    \n",
    "    test_predict = []\n",
    "    with torch.no_grad():\n",
    "        for x in tqdm(test_loader):\n",
    "            x = x.float().to(device)\n",
    "            model_pred = model(x)\n",
    "\n",
    "            model_pred = model_pred.squeeze(1).to('cpu')\n",
    "            test_predict += model_pred\n",
    "        \n",
    "    test_predict = np.where(np.array(test_predict) > threshold, 1, 0)\n",
    "    print('Done.')\n",
    "    return test_predict"
   ]
  },
  {
   "cell_type": "code",
   "execution_count": 99,
   "id": "b5dd4bb2",
   "metadata": {},
   "outputs": [
    {
     "data": {
      "application/vnd.jupyter.widget-view+json": {
       "model_id": "dbe3b54453e74b43b024c97fb3167048",
       "version_major": 2,
       "version_minor": 0
      },
      "text/plain": [
       "  0%|          | 0/24 [00:00<?, ?it/s]"
      ]
     },
     "metadata": {},
     "output_type": "display_data"
    },
    {
     "name": "stdout",
     "output_type": "stream",
     "text": [
      "Done.\n"
     ]
    }
   ],
   "source": [
    "preds = inference(best_student_model, test_loaders, best_threshold, device)"
   ]
  },
  {
   "cell_type": "code",
   "execution_count": 100,
   "id": "b92c42b2",
   "metadata": {},
   "outputs": [
    {
     "data": {
      "text/html": [
       "<div>\n",
       "<style scoped>\n",
       "    .dataframe tbody tr th:only-of-type {\n",
       "        vertical-align: middle;\n",
       "    }\n",
       "\n",
       "    .dataframe tbody tr th {\n",
       "        vertical-align: top;\n",
       "    }\n",
       "\n",
       "    .dataframe thead th {\n",
       "        text-align: right;\n",
       "    }\n",
       "</style>\n",
       "<table border=\"1\" class=\"dataframe\">\n",
       "  <thead>\n",
       "    <tr style=\"text-align: right;\">\n",
       "      <th></th>\n",
       "      <th>ID</th>\n",
       "      <th>Y_LABEL</th>\n",
       "    </tr>\n",
       "  </thead>\n",
       "  <tbody>\n",
       "    <tr>\n",
       "      <th>0</th>\n",
       "      <td>TEST_0000</td>\n",
       "      <td>0</td>\n",
       "    </tr>\n",
       "    <tr>\n",
       "      <th>1</th>\n",
       "      <td>TEST_0001</td>\n",
       "      <td>0</td>\n",
       "    </tr>\n",
       "    <tr>\n",
       "      <th>2</th>\n",
       "      <td>TEST_0002</td>\n",
       "      <td>0</td>\n",
       "    </tr>\n",
       "    <tr>\n",
       "      <th>3</th>\n",
       "      <td>TEST_0003</td>\n",
       "      <td>0</td>\n",
       "    </tr>\n",
       "    <tr>\n",
       "      <th>4</th>\n",
       "      <td>TEST_0004</td>\n",
       "      <td>0</td>\n",
       "    </tr>\n",
       "  </tbody>\n",
       "</table>\n",
       "</div>"
      ],
      "text/plain": [
       "          ID  Y_LABEL\n",
       "0  TEST_0000        0\n",
       "1  TEST_0001        0\n",
       "2  TEST_0002        0\n",
       "3  TEST_0003        0\n",
       "4  TEST_0004        0"
      ]
     },
     "execution_count": 100,
     "metadata": {},
     "output_type": "execute_result"
    }
   ],
   "source": [
    "submit = pd.read_csv('./sample_submission.csv')\n",
    "submit['Y_LABEL'] = preds\n",
    "submit.head()"
   ]
  },
  {
   "cell_type": "code",
   "execution_count": 101,
   "id": "59e9dcb2",
   "metadata": {},
   "outputs": [],
   "source": [
    "submit.to_csv('./submit_baseline_onehot_epoch50_dropout_year.csv', index=False)"
   ]
  },
  {
   "cell_type": "code",
   "execution_count": null,
   "id": "8116804e",
   "metadata": {},
   "outputs": [],
   "source": []
  },
  {
   "cell_type": "code",
   "execution_count": null,
   "id": "b4bc6844",
   "metadata": {},
   "outputs": [],
   "source": []
  },
  {
   "cell_type": "code",
   "execution_count": null,
   "id": "66adb484",
   "metadata": {},
   "outputs": [],
   "source": []
  },
  {
   "cell_type": "code",
   "execution_count": null,
   "id": "26993a94",
   "metadata": {},
   "outputs": [],
   "source": []
  },
  {
   "cell_type": "code",
   "execution_count": null,
   "id": "9c0879db",
   "metadata": {},
   "outputs": [],
   "source": []
  },
  {
   "cell_type": "code",
   "execution_count": null,
   "id": "777e66cf",
   "metadata": {},
   "outputs": [],
   "source": []
  },
  {
   "cell_type": "code",
   "execution_count": null,
   "id": "0aec381d",
   "metadata": {},
   "outputs": [],
   "source": []
  }
 ],
 "metadata": {
  "kernelspec": {
   "display_name": "Python 3 (ipykernel)",
   "language": "python",
   "name": "python3"
  },
  "language_info": {
   "codemirror_mode": {
    "name": "ipython",
    "version": 3
   },
   "file_extension": ".py",
   "mimetype": "text/x-python",
   "name": "python",
   "nbconvert_exporter": "python",
   "pygments_lexer": "ipython3",
   "version": "3.10.12"
  }
 },
 "nbformat": 4,
 "nbformat_minor": 5
}
